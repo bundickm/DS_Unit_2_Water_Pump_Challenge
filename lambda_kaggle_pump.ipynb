{
  "nbformat": 4,
  "nbformat_minor": 0,
  "metadata": {
    "colab": {
      "name": "kaggle_pump_3.ipynb",
      "version": "0.3.2",
      "provenance": [],
      "collapsed_sections": [
        "ZVWhQxrEW2gI",
        "vbWN5yNGGeFM",
        "zWhfGyLZePUS",
        "ngXc9VbVzSMh",
        "0UR5JnOzf6Ln",
        "n1zlNODq09VE",
        "Z-LVCEqSGnlF",
        "FxA-pNfngXxO",
        "gWR4sUkCSZQ2",
        "p7pdkaMhFMii",
        "VztoHYKHZeIm",
        "w0KqWZNDZzW7",
        "MK5Ze9oiZ7KQ"
      ],
      "include_colab_link": true
    },
    "language_info": {
      "codemirror_mode": {
        "name": "ipython",
        "version": 3
      },
      "file_extension": ".py",
      "mimetype": "text/x-python",
      "name": "python",
      "nbconvert_exporter": "python",
      "pygments_lexer": "ipython3",
      "version": "3.7.1"
    },
    "kernelspec": {
      "display_name": "Python 3",
      "language": "python",
      "name": "python3"
    }
  },
  "cells": [
    {
      "cell_type": "markdown",
      "metadata": {
        "id": "view-in-github",
        "colab_type": "text"
      },
      "source": [
        "<a href=\"https://colab.research.google.com/github/bundickm/DS_Unit_2_Water_Pump_Challenge/blob/master/lambda_kaggle_pump.ipynb\" target=\"_parent\"><img src=\"https://colab.research.google.com/assets/colab-badge.svg\" alt=\"Open In Colab\"/></a>"
      ]
    },
    {
      "cell_type": "markdown",
      "metadata": {
        "id": "YPqU3GBgh5Et",
        "colab_type": "text"
      },
      "source": [
        "#Introduction"
      ]
    },
    {
      "cell_type": "markdown",
      "metadata": {
        "id": "ZVWhQxrEW2gI",
        "colab_type": "text"
      },
      "source": [
        "#Initial Rollercoaster"
      ]
    },
    {
      "cell_type": "markdown",
      "metadata": {
        "id": "vbWN5yNGGeFM",
        "colab_type": "text"
      },
      "source": [
        "##Initialization"
      ]
    },
    {
      "cell_type": "code",
      "metadata": {
        "id": "yjfYQ9y2APud",
        "colab_type": "code",
        "colab": {}
      },
      "source": [
        "!pip install category_encoders"
      ],
      "execution_count": 0,
      "outputs": []
    },
    {
      "cell_type": "code",
      "metadata": {
        "id": "KKTSS9U2RUux",
        "colab_type": "code",
        "colab": {}
      },
      "source": [
        "import pandas as pd\n",
        "import numpy as np\n",
        "import seaborn as sns\n",
        "import matplotlib.pyplot as plt\n",
        "import category_encoders as ce\n",
        "from sklearn.model_selection import train_test_split\n",
        "from xgboost import XGBClassifier\n",
        "from sklearn.preprocessing import RobustScaler, MinMaxScaler #necessary?\n",
        "from sklearn.ensemble import RandomForestClassifier\n",
        "from sklearn.model_selection import cross_val_score\n",
        "from sklearn.metrics import accuracy_score\n",
        "from datetime import datetime\n",
        "\n",
        "pd.options.display.max_columns = 100"
      ],
      "execution_count": 0,
      "outputs": []
    },
    {
      "cell_type": "code",
      "metadata": {
        "id": "1XATgfYWrWRa",
        "colab_type": "code",
        "colab": {}
      },
      "source": [
        "def reset():\n",
        "  test = pd.read_csv('test_features.csv')\n",
        "  labels = pd.read_csv('train_labels.csv')\n",
        "  train = pd.read_csv('train_features.csv')\n",
        "  combine = train.merge(labels)\n",
        "  \n",
        "  X_train, X_test, y_train, y_test = train_test_split(\n",
        "                                     combine.drop('status_group',axis=1), \n",
        "                                     combine['status_group'], \n",
        "                                     test_size=0.2, random_state=42)\n",
        "  return X_train, X_test, y_train, y_test, test\n",
        "\n",
        "X_train, X_test, y_train, y_test, test = reset()"
      ],
      "execution_count": 0,
      "outputs": []
    },
    {
      "cell_type": "code",
      "metadata": {
        "id": "W6TTfD_nRgbx",
        "colab_type": "code",
        "outputId": "f3a7416a-c799-4650-b25f-c018a4bd6c94",
        "colab": {
          "base_uri": "https://localhost:8080/",
          "height": 135
        }
      },
      "source": [
        "X_train.head(1)"
      ],
      "execution_count": 0,
      "outputs": [
        {
          "output_type": "execute_result",
          "data": {
            "text/html": [
              "<div>\n",
              "<style scoped>\n",
              "    .dataframe tbody tr th:only-of-type {\n",
              "        vertical-align: middle;\n",
              "    }\n",
              "\n",
              "    .dataframe tbody tr th {\n",
              "        vertical-align: top;\n",
              "    }\n",
              "\n",
              "    .dataframe thead th {\n",
              "        text-align: right;\n",
              "    }\n",
              "</style>\n",
              "<table border=\"1\" class=\"dataframe\">\n",
              "  <thead>\n",
              "    <tr style=\"text-align: right;\">\n",
              "      <th></th>\n",
              "      <th>id</th>\n",
              "      <th>amount_tsh</th>\n",
              "      <th>date_recorded</th>\n",
              "      <th>funder</th>\n",
              "      <th>gps_height</th>\n",
              "      <th>installer</th>\n",
              "      <th>longitude</th>\n",
              "      <th>latitude</th>\n",
              "      <th>wpt_name</th>\n",
              "      <th>num_private</th>\n",
              "      <th>basin</th>\n",
              "      <th>subvillage</th>\n",
              "      <th>region</th>\n",
              "      <th>region_code</th>\n",
              "      <th>district_code</th>\n",
              "      <th>lga</th>\n",
              "      <th>ward</th>\n",
              "      <th>population</th>\n",
              "      <th>public_meeting</th>\n",
              "      <th>recorded_by</th>\n",
              "      <th>scheme_management</th>\n",
              "      <th>scheme_name</th>\n",
              "      <th>permit</th>\n",
              "      <th>construction_year</th>\n",
              "      <th>extraction_type</th>\n",
              "      <th>extraction_type_group</th>\n",
              "      <th>extraction_type_class</th>\n",
              "      <th>management</th>\n",
              "      <th>management_group</th>\n",
              "      <th>payment</th>\n",
              "      <th>payment_type</th>\n",
              "      <th>water_quality</th>\n",
              "      <th>quality_group</th>\n",
              "      <th>quantity</th>\n",
              "      <th>quantity_group</th>\n",
              "      <th>source</th>\n",
              "      <th>source_type</th>\n",
              "      <th>source_class</th>\n",
              "      <th>waterpoint_type</th>\n",
              "      <th>waterpoint_type_group</th>\n",
              "    </tr>\n",
              "  </thead>\n",
              "  <tbody>\n",
              "    <tr>\n",
              "      <th>3607</th>\n",
              "      <td>454</td>\n",
              "      <td>50.0</td>\n",
              "      <td>2013-02-27</td>\n",
              "      <td>Dmdd</td>\n",
              "      <td>2092</td>\n",
              "      <td>DMDD</td>\n",
              "      <td>35.42602</td>\n",
              "      <td>-4.227446</td>\n",
              "      <td>Narmo</td>\n",
              "      <td>0</td>\n",
              "      <td>Internal</td>\n",
              "      <td>Bashnet Kati</td>\n",
              "      <td>Manyara</td>\n",
              "      <td>21</td>\n",
              "      <td>1</td>\n",
              "      <td>Babati</td>\n",
              "      <td>Bashinet</td>\n",
              "      <td>160</td>\n",
              "      <td>True</td>\n",
              "      <td>GeoData Consultants Ltd</td>\n",
              "      <td>Water Board</td>\n",
              "      <td>NaN</td>\n",
              "      <td>True</td>\n",
              "      <td>1998</td>\n",
              "      <td>gravity</td>\n",
              "      <td>gravity</td>\n",
              "      <td>gravity</td>\n",
              "      <td>water board</td>\n",
              "      <td>user-group</td>\n",
              "      <td>pay per bucket</td>\n",
              "      <td>per bucket</td>\n",
              "      <td>soft</td>\n",
              "      <td>good</td>\n",
              "      <td>insufficient</td>\n",
              "      <td>insufficient</td>\n",
              "      <td>spring</td>\n",
              "      <td>spring</td>\n",
              "      <td>groundwater</td>\n",
              "      <td>communal standpipe</td>\n",
              "      <td>communal standpipe</td>\n",
              "    </tr>\n",
              "  </tbody>\n",
              "</table>\n",
              "</div>"
            ],
            "text/plain": [
              "       id  amount_tsh date_recorded funder  gps_height installer  longitude  \\\n",
              "3607  454        50.0    2013-02-27   Dmdd        2092      DMDD   35.42602   \n",
              "\n",
              "      latitude wpt_name  num_private     basin    subvillage   region  \\\n",
              "3607 -4.227446    Narmo            0  Internal  Bashnet Kati  Manyara   \n",
              "\n",
              "      region_code  district_code     lga      ward  population public_meeting  \\\n",
              "3607           21              1  Babati  Bashinet         160           True   \n",
              "\n",
              "                  recorded_by scheme_management scheme_name permit  \\\n",
              "3607  GeoData Consultants Ltd       Water Board         NaN   True   \n",
              "\n",
              "      construction_year extraction_type extraction_type_group  \\\n",
              "3607               1998         gravity               gravity   \n",
              "\n",
              "     extraction_type_class   management management_group         payment  \\\n",
              "3607               gravity  water board       user-group  pay per bucket   \n",
              "\n",
              "     payment_type water_quality quality_group      quantity quantity_group  \\\n",
              "3607   per bucket          soft          good  insufficient   insufficient   \n",
              "\n",
              "      source source_type source_class     waterpoint_type  \\\n",
              "3607  spring      spring  groundwater  communal standpipe   \n",
              "\n",
              "     waterpoint_type_group  \n",
              "3607    communal standpipe  "
            ]
          },
          "metadata": {
            "tags": []
          },
          "execution_count": 83
        }
      ]
    },
    {
      "cell_type": "markdown",
      "metadata": {
        "id": "zWhfGyLZePUS",
        "colab_type": "text"
      },
      "source": [
        "##Nulls"
      ]
    },
    {
      "cell_type": "code",
      "metadata": {
        "id": "2xnActXZRlQa",
        "colab_type": "code",
        "colab": {}
      },
      "source": [
        "#functions for a detailed null report \n",
        "from tabulate import tabulate\n",
        "\n",
        "def list_to_string(list):\n",
        "  return ', '.join(str(item) for item in list)\n",
        "\n",
        "def placeholders_present(column,placeholders):\n",
        "  p_holds = []\n",
        "  for item in placeholders:\n",
        "    if len(column.isin([item]).unique())==2:\n",
        "      p_holds.append(item)\n",
        "  return list_to_string(list(set(p_holds)))\n",
        "\n",
        "def null_rec_lookup(null_percent,placeholders=False):\n",
        "  #Temp Recommendations - Switch to MCAR, MAR, MNAR assessment and recs\n",
        "  #https://www.youtube.com/watch?v=2gkw2T5jAfo&feature=youtu.be\n",
        "  #https://stefvanbuuren.name/fimd/sec-MCAR.html\n",
        "  if placeholders:\n",
        "    return 'Possible Placeholders: Replace and rerun nulls report.'\n",
        "  elif null_percent == 100:\n",
        "    return 'Empty Column: Drop column'\n",
        "  elif null_percent >= 75:\n",
        "    return 'Near Empty Column: Create binary feature or drop'\n",
        "  elif null_percent >= 25:\n",
        "    return 'Partially Filled Column: Assess manually'\n",
        "  elif null_percent > 0:\n",
        "    return 'Mostly Filled Column: Impute values'\n",
        "  else:\n",
        "    return ''\n",
        "  \n",
        "def nulls(df,placeholders = [-1,-999,-9999,'None','none','missing',\n",
        "                                   'Missing','Null','null','?']):\n",
        "  null_count = df.isnull().sum().loc\n",
        "  total = len(df)\n",
        "  \n",
        "  headers = ['Column','Nulls','%Null','Placeholders','Recommendation']\n",
        "  table = []\n",
        "  for column in df.columns:\n",
        "    calc = null_count[column]/total*100\n",
        "    null_per = str(calc)+'%'\n",
        "    p_hold = placeholders_present(df[column],placeholders)\n",
        "    rec = null_rec_lookup(calc,p_hold)\n",
        "    \n",
        "    table.append([column,null_count[column],null_per,p_hold,rec])\n",
        "    \n",
        "  print(tabulate(table,headers))"
      ],
      "execution_count": 0,
      "outputs": []
    },
    {
      "cell_type": "code",
      "metadata": {
        "id": "JYTGuzk1SQHP",
        "colab_type": "code",
        "outputId": "267ff441-3257-418b-fb95-8ef9566e3ec8",
        "colab": {
          "base_uri": "https://localhost:8080/",
          "height": 807
        }
      },
      "source": [
        "nulls(train)"
      ],
      "execution_count": 0,
      "outputs": [
        {
          "output_type": "stream",
          "text": [
            "Column                   Nulls  %Null    Placeholders    Recommendation\n",
            "---------------------  -------  -------  --------------  ------------------------------------------------------\n",
            "id                           0  0.0%\n",
            "amount_tsh                   0  0.0%\n",
            "date_recorded                0  0.0%\n",
            "funder                       0  0.0%     None            Possible Placeholders: Replace and rerun nulls report.\n",
            "gps_height                   0  0.0%     -1              Possible Placeholders: Replace and rerun nulls report.\n",
            "installer                    0  0.0%     None            Possible Placeholders: Replace and rerun nulls report.\n",
            "longitude                    0  0.0%\n",
            "latitude                     0  0.0%\n",
            "wpt_name                     0  0.0%     None            Possible Placeholders: Replace and rerun nulls report.\n",
            "num_private                  0  0.0%\n",
            "basin                        0  0.0%\n",
            "subvillage                   0  0.0%\n",
            "region                       0  0.0%\n",
            "region_code                  0  0.0%\n",
            "district_code                0  0.0%\n",
            "lga                          0  0.0%\n",
            "ward                         0  0.0%\n",
            "population                   0  0.0%\n",
            "public_meeting               0  0.0%\n",
            "recorded_by                  0  0.0%\n",
            "scheme_management            0  0.0%     None            Possible Placeholders: Replace and rerun nulls report.\n",
            "scheme_name                  0  0.0%     None            Possible Placeholders: Replace and rerun nulls report.\n",
            "permit                       0  0.0%\n",
            "construction_year            0  0.0%\n",
            "extraction_type              0  0.0%\n",
            "extraction_type_group        0  0.0%\n",
            "extraction_type_class        0  0.0%\n",
            "management                   0  0.0%\n",
            "management_group             0  0.0%\n",
            "payment                      0  0.0%\n",
            "payment_type                 0  0.0%\n",
            "water_quality                0  0.0%\n",
            "quality_group                0  0.0%\n",
            "quantity                     0  0.0%\n",
            "quantity_group               0  0.0%\n",
            "source                       0  0.0%\n",
            "source_type                  0  0.0%\n",
            "source_class                 0  0.0%\n",
            "waterpoint_type              0  0.0%\n",
            "waterpoint_type_group        0  0.0%\n"
          ],
          "name": "stdout"
        }
      ]
    },
    {
      "cell_type": "markdown",
      "metadata": {
        "id": "ngXc9VbVzSMh",
        "colab_type": "text"
      },
      "source": [
        "###installer, funder, permit"
      ]
    },
    {
      "cell_type": "code",
      "metadata": {
        "id": "Mn7nBYIzSYGE",
        "colab_type": "code",
        "outputId": "cb8c5d99-3ffe-43db-92ef-762aed5a8246",
        "colab": {
          "base_uri": "https://localhost:8080/",
          "height": 143
        }
      },
      "source": [
        "#high null correlation between funder, installer, and permit. \n",
        "#We'll deal with these together\n",
        "train[['installer','funder','permit']].isnull().corr()"
      ],
      "execution_count": 0,
      "outputs": [
        {
          "output_type": "execute_result",
          "data": {
            "text/html": [
              "<div>\n",
              "<style scoped>\n",
              "    .dataframe tbody tr th:only-of-type {\n",
              "        vertical-align: middle;\n",
              "    }\n",
              "\n",
              "    .dataframe tbody tr th {\n",
              "        vertical-align: top;\n",
              "    }\n",
              "\n",
              "    .dataframe thead th {\n",
              "        text-align: right;\n",
              "    }\n",
              "</style>\n",
              "<table border=\"1\" class=\"dataframe\">\n",
              "  <thead>\n",
              "    <tr style=\"text-align: right;\">\n",
              "      <th></th>\n",
              "      <th>installer</th>\n",
              "      <th>funder</th>\n",
              "      <th>permit</th>\n",
              "    </tr>\n",
              "  </thead>\n",
              "  <tbody>\n",
              "    <tr>\n",
              "      <th>installer</th>\n",
              "      <td>1.000000</td>\n",
              "      <td>0.981590</td>\n",
              "      <td>0.705604</td>\n",
              "    </tr>\n",
              "    <tr>\n",
              "      <th>funder</th>\n",
              "      <td>0.981590</td>\n",
              "      <td>1.000000</td>\n",
              "      <td>0.709333</td>\n",
              "    </tr>\n",
              "    <tr>\n",
              "      <th>permit</th>\n",
              "      <td>0.705604</td>\n",
              "      <td>0.709333</td>\n",
              "      <td>1.000000</td>\n",
              "    </tr>\n",
              "  </tbody>\n",
              "</table>\n",
              "</div>"
            ],
            "text/plain": [
              "           installer    funder    permit\n",
              "installer   1.000000  0.981590  0.705604\n",
              "funder      0.981590  1.000000  0.709333\n",
              "permit      0.705604  0.709333  1.000000"
            ]
          },
          "metadata": {
            "tags": []
          },
          "execution_count": 148
        }
      ]
    },
    {
      "cell_type": "code",
      "metadata": {
        "id": "uPXOLKA9tNhc",
        "colab_type": "code",
        "outputId": "5619b3d5-87ba-458b-92db-281ccf6f84a4",
        "colab": {
          "base_uri": "https://localhost:8080/",
          "height": 149
        }
      },
      "source": [
        "#roughly a third of all NaN's have no scheme_name, indicating NaN's may \n",
        "#mean no permit which runs counter to the majority of permit values True\n",
        "(train[train['permit'].isnull()].groupby('scheme_name')['permit'].\n",
        " value_counts(dropna=False)).sort_values(ascending=False)[:5]"
      ],
      "execution_count": 0,
      "outputs": [
        {
          "output_type": "execute_result",
          "data": {
            "text/plain": [
              "scheme_name  permit\n",
              "K            NaN       611\n",
              "M            NaN       356\n",
              "I            NaN       195\n",
              "N            NaN       166\n",
              "S            NaN       147\n",
              "Name: permit, dtype: int64"
            ]
          },
          "metadata": {
            "tags": []
          },
          "execution_count": 134
        }
      ]
    },
    {
      "cell_type": "code",
      "metadata": {
        "id": "LEvZDIqAwsPu",
        "colab_type": "code",
        "colab": {}
      },
      "source": [
        "#same with installer\n",
        "(train[train['installer'].isnull()].groupby('scheme_name')['installer'].\n",
        " value_counts(dropna=False)).sort_values(ascending=False)[:5]"
      ],
      "execution_count": 0,
      "outputs": []
    },
    {
      "cell_type": "code",
      "metadata": {
        "id": "jMQVWwHBxGs-",
        "colab_type": "code",
        "outputId": "542758f3-da4b-48ef-8882-e181785cf7f9",
        "colab": {
          "base_uri": "https://localhost:8080/",
          "height": 149
        }
      },
      "source": [
        "#and funder\n",
        "(train[train['funder'].isnull()].groupby('scheme_name')['funder'].\n",
        " value_counts(dropna=False)).sort_values(ascending=False)[:5]"
      ],
      "execution_count": 0,
      "outputs": [
        {
          "output_type": "execute_result",
          "data": {
            "text/plain": [
              "scheme_name  funder\n",
              "None         NaN       1795\n",
              "K            NaN        612\n",
              "M            NaN        356\n",
              "I            NaN        195\n",
              "N            NaN        166\n",
              "Name: funder, dtype: int64"
            ]
          },
          "metadata": {
            "tags": []
          },
          "execution_count": 153
        }
      ]
    },
    {
      "cell_type": "code",
      "metadata": {
        "id": "eCjTqeJKx9I1",
        "colab_type": "code",
        "outputId": "f9c92f38-fde9-4d68-fe43-45b98e3f5f3b",
        "colab": {
          "base_uri": "https://localhost:8080/",
          "height": 694
        }
      },
      "source": [
        "#we look at other features against permit, funder, and installer and see\n",
        "#a pattern of unknown/none/etc. matching our NaN's indicating these were not\n",
        "#planned and authorized wells but most likely small local efforts\n",
        "train.groupby('management')['permit'].value_counts(dropna=False,normalize=True)"
      ],
      "execution_count": 0,
      "outputs": [
        {
          "output_type": "execute_result",
          "data": {
            "text/plain": [
              "management        permit\n",
              "company           True      0.945985\n",
              "                  NaN       0.039416\n",
              "                  False     0.014599\n",
              "other             True      0.778436\n",
              "                  NaN       0.118483\n",
              "                  False     0.103081\n",
              "other - school    False     1.000000\n",
              "parastatal        True      0.536199\n",
              "                  False     0.365950\n",
              "                  NaN       0.097851\n",
              "private operator  True      0.528666\n",
              "                  False     0.431761\n",
              "                  NaN       0.039574\n",
              "trust             True      0.602564\n",
              "                  False     0.384615\n",
              "                  NaN       0.012821\n",
              "unknown           True      0.616756\n",
              "                  False     0.308378\n",
              "                  NaN       0.074866\n",
              "vwc               True      0.662478\n",
              "                  False     0.282939\n",
              "                  NaN       0.054583\n",
              "water authority   True      0.827434\n",
              "                  NaN       0.087389\n",
              "                  False     0.085177\n",
              "water board       True      0.880327\n",
              "                  False     0.084555\n",
              "                  NaN       0.035118\n",
              "wua               True      0.786982\n",
              "                  False     0.186588\n",
              "                  NaN       0.026430\n",
              "wug               False     0.512049\n",
              "                  True      0.461090\n",
              "                  NaN       0.026861\n",
              "Name: permit, dtype: float64"
            ]
          },
          "metadata": {
            "tags": []
          },
          "execution_count": 157
        }
      ]
    },
    {
      "cell_type": "code",
      "metadata": {
        "id": "CXGScjtfxgeX",
        "colab_type": "code",
        "colab": {}
      },
      "source": [
        "#Assume the negative value for all three\n",
        "def fill_nulls(df):\n",
        "  df = df.copy()\n",
        "  \n",
        "  df['funder'] = df['funder'].fillna('None')\n",
        "  df['installer'] = df['installer'].fillna('None')\n",
        "  df['permit'] = df['permit'].fillna(False)\n",
        "  \n",
        "  return df"
      ],
      "execution_count": 0,
      "outputs": []
    },
    {
      "cell_type": "markdown",
      "metadata": {
        "id": "0UR5JnOzf6Ln",
        "colab_type": "text"
      },
      "source": [
        "###gps_height"
      ]
    },
    {
      "cell_type": "code",
      "metadata": {
        "id": "t76Z3UlFXeeG",
        "colab_type": "code",
        "outputId": "99a8bc4c-979a-41a7-ffbc-db7118dc386a",
        "colab": {
          "base_uri": "https://localhost:8080/",
          "height": 36
        }
      },
      "source": [
        "#gps height flagged as having a placeholder (-1) but negative altitude is \n",
        "#simply below sea level. Given that there are a large number below 0, \n",
        "#we can safely assume this is not error but intentional\n",
        "train[train['gps_height'] < 0]['gps_height'].value_counts().sum()"
      ],
      "execution_count": 0,
      "outputs": [
        {
          "output_type": "execute_result",
          "data": {
            "text/plain": [
              "1496"
            ]
          },
          "metadata": {
            "tags": []
          },
          "execution_count": 136
        }
      ]
    },
    {
      "cell_type": "markdown",
      "metadata": {
        "id": "Hb6wSWgof8eA",
        "colab_type": "text"
      },
      "source": [
        "###subvillage"
      ]
    },
    {
      "cell_type": "code",
      "metadata": {
        "id": "YFGeDA65X-W4",
        "colab_type": "code",
        "outputId": "fb75c7c5-eb06-4877-a2a0-e9e15eea5182",
        "colab": {
          "base_uri": "https://localhost:8080/",
          "height": 92
        }
      },
      "source": [
        "#most all of the nulls are in two regions but the regions aren't just all \n",
        "#null subvillages. Set these nulls to 'Other' in anticipation of consolidating\n",
        "#and encoding later.\n",
        "train[train['region'] == 'Mwanza']['subvillage'].value_counts(dropna=False)\n",
        "train[train['subvillage'].isnull()].groupby('region')['subvillage'].value_counts(dropna=False)"
      ],
      "execution_count": 0,
      "outputs": [
        {
          "output_type": "execute_result",
          "data": {
            "text/plain": [
              "region  subvillage\n",
              "Dodoma  NaN           361\n",
              "Mwanza  NaN            10\n",
              "Name: subvillage, dtype: int64"
            ]
          },
          "metadata": {
            "tags": []
          },
          "execution_count": 137
        }
      ]
    },
    {
      "cell_type": "code",
      "metadata": {
        "id": "mpKFasuucZ8S",
        "colab_type": "code",
        "colab": {}
      },
      "source": [
        "#add it our fill nulls function\n",
        "def fill_nulls(df):\n",
        "  df = df.copy()\n",
        "  \n",
        "  df['funder'] = df['funder'].fillna('None')\n",
        "  df['installer'] = df['installer'].fillna('None')\n",
        "  df['permit'] = df['permit'].fillna(False)\n",
        "  train['subvillage'] = train['subvillage'].fillna('Other')\n",
        "  \n",
        "  return df"
      ],
      "execution_count": 0,
      "outputs": []
    },
    {
      "cell_type": "markdown",
      "metadata": {
        "id": "uBfPqW-ugHrt",
        "colab_type": "text"
      },
      "source": [
        "###public_meeting"
      ]
    },
    {
      "cell_type": "code",
      "metadata": {
        "id": "6fQ33ircf1ET",
        "colab_type": "code",
        "outputId": "4904603f-eef0-4281-b7a2-4c8c72f5b751",
        "colab": {
          "base_uri": "https://localhost:8080/",
          "height": 92
        }
      },
      "source": [
        "#Lots of NaN's, don't want to assume value, let's look for a better indicator\n",
        "train['public_meeting'].value_counts(dropna=False)"
      ],
      "execution_count": 0,
      "outputs": [
        {
          "output_type": "execute_result",
          "data": {
            "text/plain": [
              "True     51011\n",
              "False     5055\n",
              "NaN       3334\n",
              "Name: public_meeting, dtype: int64"
            ]
          },
          "metadata": {
            "tags": []
          },
          "execution_count": 139
        }
      ]
    },
    {
      "cell_type": "code",
      "metadata": {
        "id": "zQJqh-GegMm5",
        "colab_type": "code",
        "colab": {}
      },
      "source": [
        "p_meet_nulls = (pd.DataFrame(train[train['public_meeting'].isnull()].\n",
        "                             groupby('region')['public_meeting'].\n",
        "                             value_counts(dropna=False)))\n",
        "meet_null_reg = p_meet_nulls.index.get_level_values('region').to_list()"
      ],
      "execution_count": 0,
      "outputs": []
    },
    {
      "cell_type": "code",
      "metadata": {
        "id": "Z6XF7VFyhBpC",
        "colab_type": "code",
        "colab": {}
      },
      "source": [
        "#no region has majority false, likely assign nulls to `True`. \n",
        "#Two regions with a large number of nulls though\n",
        "for meet_reg in meet_null_reg:\n",
        "  if (train[train['region']==meet_reg]['public_meeting'].\n",
        "        value_counts(dropna=False,normalize=True)[1] < .5):\n",
        "    print(meet_reg)\n",
        "    print(train[train['region']==meet_reg]['public_meeting'].\n",
        "        value_counts(dropna=False,normalize=True))"
      ],
      "execution_count": 0,
      "outputs": []
    },
    {
      "cell_type": "code",
      "metadata": {
        "id": "9AZFypC2gxdr",
        "colab_type": "code",
        "colab": {}
      },
      "source": [
        "#let's see if we can get clarity at subvillage level\n",
        "#still majority `True`\n",
        "p_meet_nulls = (pd.DataFrame(train[train['public_meeting'].isnull()].\n",
        "                             groupby('subvillage')['public_meeting'].\n",
        "                             value_counts(dropna=False)))\n",
        "meet_null_reg = p_meet_nulls.index.get_level_values('subvillage').to_list()\n",
        "for meet_reg in meet_null_reg:\n",
        "  print(meet_reg)\n",
        "  print(train[train['subvillage']==meet_reg]['public_meeting'].\n",
        "        value_counts(dropna=False,normalize=True))"
      ],
      "execution_count": 0,
      "outputs": []
    },
    {
      "cell_type": "code",
      "metadata": {
        "id": "hga71pRXlVxl",
        "colab_type": "code",
        "colab": {}
      },
      "source": [
        "def fill_nulls(df):\n",
        "  df = df.copy()\n",
        "  \n",
        "  df['funder'] = df['funder'].fillna('None')\n",
        "  df['installer'] = df['installer'].fillna('None')\n",
        "  df['permit'] = df['permit'].fillna(False)\n",
        "  train['subvillage'] = train['subvillage'].fillna('Other')\n",
        "  train['public_meeting'] = train['public_meeting'].fillna(True)\n",
        "  \n",
        "  return df"
      ],
      "execution_count": 0,
      "outputs": []
    },
    {
      "cell_type": "markdown",
      "metadata": {
        "id": "Awb0Qp7dnNgv",
        "colab_type": "text"
      },
      "source": [
        "###scheme_name/scheme_management"
      ]
    },
    {
      "cell_type": "code",
      "metadata": {
        "id": "x4JUS8xfmx4E",
        "colab_type": "code",
        "colab": {}
      },
      "source": [
        "#majority NaN's (63%) come from unpermitted wells, indicating these may not \n",
        "#have an official scheme. A lot of NaN's also exist under `other` for management\n",
        "#This leads to the assumption that these NaN's have no scheme\n",
        "scheme_mans = (train[(train['scheme_name'] == 'None') | (train['scheme_name'].\n",
        "               isnull())].groupby('management')['scheme_name'].\n",
        "               value_counts(dropna=False).index.\n",
        "               get_level_values('management').to_list())\n",
        "for man in scheme_mans:\n",
        "  print(man)\n",
        "  print(train[train['management']==man]['scheme_name'].\n",
        "        value_counts(dropna=False,normalize=True))"
      ],
      "execution_count": 0,
      "outputs": []
    },
    {
      "cell_type": "code",
      "metadata": {
        "id": "mskjm3KgnTSx",
        "colab_type": "code",
        "colab": {}
      },
      "source": [
        "#fill in scheme_name with 'None' and replace the 'none' with 'None' too\n",
        "#scheme_management seems to follow similar logic so we will do the same\n",
        "def fill_nulls(df):\n",
        "  df = df.copy()\n",
        "  \n",
        "  df['funder'] = df['funder'].fillna('None')\n",
        "  df['installer'] = df['installer'].fillna('None')\n",
        "  df['permit'] = df['permit'].fillna(False)\n",
        "  train['subvillage'] = train['subvillage'].fillna('Other')\n",
        "  train['public_meeting'] = train['public_meeting'].fillna(True)\n",
        "  train.loc[train['scheme_name'] == 'none','scheme_name'] = 'None'\n",
        "  train['scheme_name'] = train['scheme_name'].fillna('None')\n",
        "  train['scheme_management'] = train['scheme_management'].fillna('None')\n",
        "  \n",
        "  return df"
      ],
      "execution_count": 0,
      "outputs": []
    },
    {
      "cell_type": "markdown",
      "metadata": {
        "id": "TwpI4eRU0LHH",
        "colab_type": "text"
      },
      "source": [
        "###wpt_name"
      ]
    },
    {
      "cell_type": "code",
      "metadata": {
        "id": "_81gXBhV0Npv",
        "colab_type": "code",
        "colab": {}
      },
      "source": [
        "#had two ways to represent `None` so reduce to just `None`\n",
        "def fill_nulls(df):\n",
        "  df = df.copy()\n",
        "  \n",
        "  df['funder'] = df['funder'].fillna('None')\n",
        "  df['installer'] = df['installer'].fillna('None')\n",
        "  df['permit'] = df['permit'].fillna(False)\n",
        "  df['subvillage'] = df['subvillage'].fillna('Other')\n",
        "  df['public_meeting'] = df['public_meeting'].fillna(True)\n",
        "  df.loc[train['scheme_name'] == 'none','scheme_name'] = 'None'\n",
        "  df['scheme_name'] = df['scheme_name'].fillna('None')\n",
        "  df['scheme_management'] = df['scheme_management'].fillna('None')\n",
        "  df.loc[train['wpt_name']=='none','wpt_name'] = 'None'\n",
        "  \n",
        "  return df"
      ],
      "execution_count": 0,
      "outputs": []
    },
    {
      "cell_type": "markdown",
      "metadata": {
        "id": "nfIRtyuU0oNy",
        "colab_type": "text"
      },
      "source": [
        "###Verify\n",
        "\n",
        "No nulls and all flagged placehoders are addressed/expected"
      ]
    },
    {
      "cell_type": "code",
      "metadata": {
        "id": "akltnCkhCQmx",
        "colab_type": "code",
        "outputId": "915f041e-df6a-4c10-a868-0da801655839",
        "colab": {
          "base_uri": "https://localhost:8080/",
          "height": 807
        }
      },
      "source": [
        "nulls(fill_nulls(train))"
      ],
      "execution_count": 0,
      "outputs": [
        {
          "output_type": "stream",
          "text": [
            "Column                   Nulls  %Null    Placeholders    Recommendation\n",
            "---------------------  -------  -------  --------------  ------------------------------------------------------\n",
            "id                           0  0.0%\n",
            "amount_tsh                   0  0.0%\n",
            "date_recorded                0  0.0%\n",
            "funder                       0  0.0%     None            Possible Placeholders: Replace and rerun nulls report.\n",
            "gps_height                   0  0.0%     -1              Possible Placeholders: Replace and rerun nulls report.\n",
            "installer                    0  0.0%     None            Possible Placeholders: Replace and rerun nulls report.\n",
            "longitude                    0  0.0%\n",
            "latitude                     0  0.0%\n",
            "wpt_name                     0  0.0%     None            Possible Placeholders: Replace and rerun nulls report.\n",
            "num_private                  0  0.0%\n",
            "basin                        0  0.0%\n",
            "subvillage                   0  0.0%\n",
            "region                       0  0.0%\n",
            "region_code                  0  0.0%\n",
            "district_code                0  0.0%\n",
            "lga                          0  0.0%\n",
            "ward                         0  0.0%\n",
            "population                   0  0.0%\n",
            "public_meeting               0  0.0%\n",
            "recorded_by                  0  0.0%\n",
            "scheme_management            0  0.0%     None            Possible Placeholders: Replace and rerun nulls report.\n",
            "scheme_name                  0  0.0%     None            Possible Placeholders: Replace and rerun nulls report.\n",
            "permit                       0  0.0%\n",
            "construction_year            0  0.0%\n",
            "extraction_type              0  0.0%\n",
            "extraction_type_group        0  0.0%\n",
            "extraction_type_class        0  0.0%\n",
            "management                   0  0.0%\n",
            "management_group             0  0.0%\n",
            "payment                      0  0.0%\n",
            "payment_type                 0  0.0%\n",
            "water_quality                0  0.0%\n",
            "quality_group                0  0.0%\n",
            "quantity                     0  0.0%\n",
            "quantity_group               0  0.0%\n",
            "source                       0  0.0%\n",
            "source_type                  0  0.0%\n",
            "source_class                 0  0.0%\n",
            "waterpoint_type              0  0.0%\n",
            "waterpoint_type_group        0  0.0%\n"
          ],
          "name": "stdout"
        }
      ]
    },
    {
      "cell_type": "markdown",
      "metadata": {
        "id": "n1zlNODq09VE",
        "colab_type": "text"
      },
      "source": [
        "##Fast First"
      ]
    },
    {
      "cell_type": "code",
      "metadata": {
        "id": "Q5DUAUNw-sWy",
        "colab_type": "code",
        "outputId": "b682f992-3b5f-4662-d58e-512c38a0614e",
        "colab": {
          "base_uri": "https://localhost:8080/",
          "height": 111
        }
      },
      "source": [
        "X = fill_nulls(train).select_dtypes(include='number')\n",
        "y = labels['status_group']\n",
        "\n",
        "forest = RandomForestClassifier(n_estimators=100, max_depth=15)\n",
        "forest.fit(X,y)\n",
        "scores = cross_val_score(forest, X, y, cv=10, \n",
        "                         scoring='accuracy', \n",
        "                         n_jobs=-1,verbose=10)\n",
        "\n",
        "scores.mean()"
      ],
      "execution_count": 0,
      "outputs": [
        {
          "output_type": "stream",
          "text": [
            "[Parallel(n_jobs=-1)]: Using backend LokyBackend with 2 concurrent workers.\n",
            "[Parallel(n_jobs=-1)]: Done   1 tasks      | elapsed:   17.8s\n",
            "[Parallel(n_jobs=-1)]: Done   4 tasks      | elapsed:   35.3s\n",
            "[Parallel(n_jobs=-1)]: Done  10 out of  10 | elapsed:  1.4min finished\n"
          ],
          "name": "stderr"
        },
        {
          "output_type": "execute_result",
          "data": {
            "text/plain": [
              "0.7102185182724409"
            ]
          },
          "metadata": {
            "tags": []
          },
          "execution_count": 17
        }
      ]
    },
    {
      "cell_type": "code",
      "metadata": {
        "id": "8qxZhsJ7AtbH",
        "colab_type": "code",
        "colab": {}
      },
      "source": [
        "y_pred = forest.predict(fill_nulls(test).select_dtypes(include='number'))\n",
        "# Makes a dataframe with two columns, id and status_group, \n",
        "# and writes to a csv file, without the index\n",
        "sample_submission = pd.read_csv('sample_submission.csv')\n",
        "submission = sample_submission.copy()\n",
        "submission['status_group'] = y_pred\n",
        "submission.to_csv('fast_first.csv', index=False)"
      ],
      "execution_count": 0,
      "outputs": []
    },
    {
      "cell_type": "markdown",
      "metadata": {
        "id": "Z-LVCEqSGnlF",
        "colab_type": "text"
      },
      "source": [
        "##Feature Engineering"
      ]
    },
    {
      "cell_type": "code",
      "metadata": {
        "id": "TGZqcozvGzDm",
        "colab_type": "code",
        "outputId": "ae49edd7-ea69-428f-a62b-15684a01ba34",
        "colab": {
          "base_uri": "https://localhost:8080/",
          "height": 135
        }
      },
      "source": [
        "train.head(1)"
      ],
      "execution_count": 0,
      "outputs": [
        {
          "output_type": "execute_result",
          "data": {
            "text/html": [
              "<div>\n",
              "<style scoped>\n",
              "    .dataframe tbody tr th:only-of-type {\n",
              "        vertical-align: middle;\n",
              "    }\n",
              "\n",
              "    .dataframe tbody tr th {\n",
              "        vertical-align: top;\n",
              "    }\n",
              "\n",
              "    .dataframe thead th {\n",
              "        text-align: right;\n",
              "    }\n",
              "</style>\n",
              "<table border=\"1\" class=\"dataframe\">\n",
              "  <thead>\n",
              "    <tr style=\"text-align: right;\">\n",
              "      <th></th>\n",
              "      <th>id</th>\n",
              "      <th>amount_tsh</th>\n",
              "      <th>date_recorded</th>\n",
              "      <th>funder</th>\n",
              "      <th>gps_height</th>\n",
              "      <th>installer</th>\n",
              "      <th>longitude</th>\n",
              "      <th>latitude</th>\n",
              "      <th>wpt_name</th>\n",
              "      <th>num_private</th>\n",
              "      <th>basin</th>\n",
              "      <th>subvillage</th>\n",
              "      <th>region</th>\n",
              "      <th>region_code</th>\n",
              "      <th>district_code</th>\n",
              "      <th>lga</th>\n",
              "      <th>ward</th>\n",
              "      <th>population</th>\n",
              "      <th>public_meeting</th>\n",
              "      <th>recorded_by</th>\n",
              "      <th>scheme_management</th>\n",
              "      <th>scheme_name</th>\n",
              "      <th>permit</th>\n",
              "      <th>construction_year</th>\n",
              "      <th>extraction_type</th>\n",
              "      <th>extraction_type_group</th>\n",
              "      <th>extraction_type_class</th>\n",
              "      <th>management</th>\n",
              "      <th>management_group</th>\n",
              "      <th>payment</th>\n",
              "      <th>payment_type</th>\n",
              "      <th>water_quality</th>\n",
              "      <th>quality_group</th>\n",
              "      <th>quantity</th>\n",
              "      <th>quantity_group</th>\n",
              "      <th>source</th>\n",
              "      <th>source_type</th>\n",
              "      <th>source_class</th>\n",
              "      <th>waterpoint_type</th>\n",
              "      <th>waterpoint_type_group</th>\n",
              "    </tr>\n",
              "  </thead>\n",
              "  <tbody>\n",
              "    <tr>\n",
              "      <th>0</th>\n",
              "      <td>69572</td>\n",
              "      <td>6000.0</td>\n",
              "      <td>2011-03-14</td>\n",
              "      <td>Roman</td>\n",
              "      <td>1390</td>\n",
              "      <td>Roman</td>\n",
              "      <td>34.938093</td>\n",
              "      <td>-9.856322</td>\n",
              "      <td>None</td>\n",
              "      <td>0</td>\n",
              "      <td>Lake Nyasa</td>\n",
              "      <td>Mnyusi B</td>\n",
              "      <td>Iringa</td>\n",
              "      <td>11</td>\n",
              "      <td>5</td>\n",
              "      <td>Ludewa</td>\n",
              "      <td>Mundindi</td>\n",
              "      <td>109</td>\n",
              "      <td>True</td>\n",
              "      <td>GeoData Consultants Ltd</td>\n",
              "      <td>VWC</td>\n",
              "      <td>Roman</td>\n",
              "      <td>False</td>\n",
              "      <td>1999</td>\n",
              "      <td>gravity</td>\n",
              "      <td>gravity</td>\n",
              "      <td>gravity</td>\n",
              "      <td>vwc</td>\n",
              "      <td>user-group</td>\n",
              "      <td>pay annually</td>\n",
              "      <td>annually</td>\n",
              "      <td>soft</td>\n",
              "      <td>good</td>\n",
              "      <td>enough</td>\n",
              "      <td>enough</td>\n",
              "      <td>spring</td>\n",
              "      <td>spring</td>\n",
              "      <td>groundwater</td>\n",
              "      <td>communal standpipe</td>\n",
              "      <td>communal standpipe</td>\n",
              "    </tr>\n",
              "  </tbody>\n",
              "</table>\n",
              "</div>"
            ],
            "text/plain": [
              "      id  amount_tsh  ...     waterpoint_type waterpoint_type_group\n",
              "0  69572      6000.0  ...  communal standpipe    communal standpipe\n",
              "\n",
              "[1 rows x 40 columns]"
            ]
          },
          "metadata": {
            "tags": []
          },
          "execution_count": 207
        }
      ]
    },
    {
      "cell_type": "code",
      "metadata": {
        "id": "od8qrMtdc_7f",
        "colab_type": "code",
        "colab": {}
      },
      "source": [
        "train['date_recorded'] = pd.to_datetime(train['date_recorded'])"
      ],
      "execution_count": 0,
      "outputs": []
    },
    {
      "cell_type": "markdown",
      "metadata": {
        "id": "onrQFZo2KDbu",
        "colab_type": "text"
      },
      "source": [
        "###Numeric Features"
      ]
    },
    {
      "cell_type": "code",
      "metadata": {
        "id": "Sd_1L7UGG7ij",
        "colab_type": "code",
        "outputId": "018290d8-cec4-42fb-d93c-6d75c1de9fbb",
        "colab": {
          "base_uri": "https://localhost:8080/",
          "height": 263
        }
      },
      "source": [
        "def type_and_unique(df,unq_limit=10):\n",
        "  cols = df.columns\n",
        "  d_types = list(df.dtypes)\n",
        "  num_unique = list(df.nunique())\n",
        "  table = []\n",
        "  headers=['Column','Type','nUnique','Unique Values']\n",
        "  \n",
        "  for i in range(len(df.columns)):\n",
        "    unique_vals = list_to_string(list(df[cols[i]].unique()[:unq_limit]))\n",
        "    if (len(list(df[cols[i]].unique())) > unq_limit): \n",
        "      unique_vals += '...'\n",
        "\n",
        "    table.append([cols[i],str(d_types[i]),num_unique[i],unique_vals])\n",
        "  print(tabulate(table,headers=headers))\n",
        "\n",
        "type_and_unique(train.select_dtypes(include='number'))"
      ],
      "execution_count": 0,
      "outputs": [
        {
          "output_type": "stream",
          "text": [
            "Column             Type       nUnique  Unique Values\n",
            "-----------------  -------  ---------  ------------------------------------------------------------------------------------------------------------------------------------\n",
            "id                 int64        59400  69572, 8776, 34310, 67743, 19728, 9944, 19816, 54551, 53934, 46144...\n",
            "amount_tsh         float64         98  6000.0, 0.0, 25.0, 20.0, 200.0, 500.0, 50.0, 4000.0, 1500.0, 6.0...\n",
            "gps_height         int64         2428  1390, 1399, 686, 263, 0, 62, 1062, 1368, 1645, 1703...\n",
            "longitude          float64      57516  34.93809275, 34.6987661, 37.46066446, 38.48616088, 31.13084671, 39.1727956, 33.36240982, 32.62061707, 32.71110001, 30.62699053...\n",
            "latitude           float64      57517  -9.85632177, -2.14746569, -3.82132853, -11.15529772, -1.82535885, -4.76558728, -3.76636472, -4.22619802, -5.14671181, -1.25705061...\n",
            "num_private        int64           65  0, 39, 5, 45, 6, 3, 698, 32, 15, 7...\n",
            "region_code        int64           27  11, 20, 21, 90, 18, 4, 17, 14, 60, 10...\n",
            "district_code      int64           20  5, 2, 4, 63, 1, 8, 3, 6, 43, 7...\n",
            "population         int64         1049  109, 280, 250, 58, 0, 1, 345, 200, 35, 50...\n",
            "construction_year  int64           55  1999, 2010, 2009, 1986, 0, 2011, 1987, 1991, 1978, 1992...\n"
          ],
          "name": "stdout"
        }
      ]
    },
    {
      "cell_type": "code",
      "metadata": {
        "id": "3acVYU5XKRCJ",
        "colab_type": "code",
        "outputId": "1c34b0a6-a577-4d13-96d1-5b63b7804ff2",
        "colab": {
          "base_uri": "https://localhost:8080/",
          "height": 300
        }
      },
      "source": [
        "train.describe()"
      ],
      "execution_count": 0,
      "outputs": [
        {
          "output_type": "execute_result",
          "data": {
            "text/html": [
              "<div>\n",
              "<style scoped>\n",
              "    .dataframe tbody tr th:only-of-type {\n",
              "        vertical-align: middle;\n",
              "    }\n",
              "\n",
              "    .dataframe tbody tr th {\n",
              "        vertical-align: top;\n",
              "    }\n",
              "\n",
              "    .dataframe thead th {\n",
              "        text-align: right;\n",
              "    }\n",
              "</style>\n",
              "<table border=\"1\" class=\"dataframe\">\n",
              "  <thead>\n",
              "    <tr style=\"text-align: right;\">\n",
              "      <th></th>\n",
              "      <th>id</th>\n",
              "      <th>amount_tsh</th>\n",
              "      <th>gps_height</th>\n",
              "      <th>longitude</th>\n",
              "      <th>latitude</th>\n",
              "      <th>num_private</th>\n",
              "      <th>region_code</th>\n",
              "      <th>district_code</th>\n",
              "      <th>population</th>\n",
              "      <th>construction_year</th>\n",
              "    </tr>\n",
              "  </thead>\n",
              "  <tbody>\n",
              "    <tr>\n",
              "      <th>count</th>\n",
              "      <td>59400.000000</td>\n",
              "      <td>59400.000000</td>\n",
              "      <td>59400.000000</td>\n",
              "      <td>59400.000000</td>\n",
              "      <td>5.940000e+04</td>\n",
              "      <td>59400.000000</td>\n",
              "      <td>59400.000000</td>\n",
              "      <td>59400.000000</td>\n",
              "      <td>59400.000000</td>\n",
              "      <td>59400.000000</td>\n",
              "    </tr>\n",
              "    <tr>\n",
              "      <th>mean</th>\n",
              "      <td>37115.131768</td>\n",
              "      <td>317.650385</td>\n",
              "      <td>668.297239</td>\n",
              "      <td>34.077427</td>\n",
              "      <td>-5.706033e+00</td>\n",
              "      <td>0.474141</td>\n",
              "      <td>15.297003</td>\n",
              "      <td>5.629747</td>\n",
              "      <td>179.909983</td>\n",
              "      <td>1300.652475</td>\n",
              "    </tr>\n",
              "    <tr>\n",
              "      <th>std</th>\n",
              "      <td>21453.128371</td>\n",
              "      <td>2997.574558</td>\n",
              "      <td>693.116350</td>\n",
              "      <td>6.567432</td>\n",
              "      <td>2.946019e+00</td>\n",
              "      <td>12.236230</td>\n",
              "      <td>17.587406</td>\n",
              "      <td>9.633649</td>\n",
              "      <td>471.482176</td>\n",
              "      <td>951.620547</td>\n",
              "    </tr>\n",
              "    <tr>\n",
              "      <th>min</th>\n",
              "      <td>0.000000</td>\n",
              "      <td>0.000000</td>\n",
              "      <td>-90.000000</td>\n",
              "      <td>0.000000</td>\n",
              "      <td>-1.164944e+01</td>\n",
              "      <td>0.000000</td>\n",
              "      <td>1.000000</td>\n",
              "      <td>0.000000</td>\n",
              "      <td>0.000000</td>\n",
              "      <td>0.000000</td>\n",
              "    </tr>\n",
              "    <tr>\n",
              "      <th>25%</th>\n",
              "      <td>18519.750000</td>\n",
              "      <td>0.000000</td>\n",
              "      <td>0.000000</td>\n",
              "      <td>33.090347</td>\n",
              "      <td>-8.540621e+00</td>\n",
              "      <td>0.000000</td>\n",
              "      <td>5.000000</td>\n",
              "      <td>2.000000</td>\n",
              "      <td>0.000000</td>\n",
              "      <td>0.000000</td>\n",
              "    </tr>\n",
              "    <tr>\n",
              "      <th>50%</th>\n",
              "      <td>37061.500000</td>\n",
              "      <td>0.000000</td>\n",
              "      <td>369.000000</td>\n",
              "      <td>34.908743</td>\n",
              "      <td>-5.021597e+00</td>\n",
              "      <td>0.000000</td>\n",
              "      <td>12.000000</td>\n",
              "      <td>3.000000</td>\n",
              "      <td>25.000000</td>\n",
              "      <td>1986.000000</td>\n",
              "    </tr>\n",
              "    <tr>\n",
              "      <th>75%</th>\n",
              "      <td>55656.500000</td>\n",
              "      <td>20.000000</td>\n",
              "      <td>1319.250000</td>\n",
              "      <td>37.178387</td>\n",
              "      <td>-3.326156e+00</td>\n",
              "      <td>0.000000</td>\n",
              "      <td>17.000000</td>\n",
              "      <td>5.000000</td>\n",
              "      <td>215.000000</td>\n",
              "      <td>2004.000000</td>\n",
              "    </tr>\n",
              "    <tr>\n",
              "      <th>max</th>\n",
              "      <td>74247.000000</td>\n",
              "      <td>350000.000000</td>\n",
              "      <td>2770.000000</td>\n",
              "      <td>40.345193</td>\n",
              "      <td>-2.000000e-08</td>\n",
              "      <td>1776.000000</td>\n",
              "      <td>99.000000</td>\n",
              "      <td>80.000000</td>\n",
              "      <td>30500.000000</td>\n",
              "      <td>2013.000000</td>\n",
              "    </tr>\n",
              "  </tbody>\n",
              "</table>\n",
              "</div>"
            ],
            "text/plain": [
              "                 id     amount_tsh  ...    population  construction_year\n",
              "count  59400.000000   59400.000000  ...  59400.000000       59400.000000\n",
              "mean   37115.131768     317.650385  ...    179.909983        1300.652475\n",
              "std    21453.128371    2997.574558  ...    471.482176         951.620547\n",
              "min        0.000000       0.000000  ...      0.000000           0.000000\n",
              "25%    18519.750000       0.000000  ...      0.000000           0.000000\n",
              "50%    37061.500000       0.000000  ...     25.000000        1986.000000\n",
              "75%    55656.500000      20.000000  ...    215.000000        2004.000000\n",
              "max    74247.000000  350000.000000  ...  30500.000000        2013.000000\n",
              "\n",
              "[8 rows x 10 columns]"
            ]
          },
          "metadata": {
            "tags": []
          },
          "execution_count": 228
        }
      ]
    },
    {
      "cell_type": "code",
      "metadata": {
        "id": "ZuepxpuI5VgT",
        "colab_type": "code",
        "outputId": "f5055ff9-604d-4f7b-9611-b4012f0d5dfb",
        "colab": {
          "base_uri": "https://localhost:8080/",
          "height": 1992
        }
      },
      "source": [
        "X_train[['district_code','subvillage','lga','ward']]"
      ],
      "execution_count": 0,
      "outputs": [
        {
          "output_type": "execute_result",
          "data": {
            "text/html": [
              "<div>\n",
              "<style scoped>\n",
              "    .dataframe tbody tr th:only-of-type {\n",
              "        vertical-align: middle;\n",
              "    }\n",
              "\n",
              "    .dataframe tbody tr th {\n",
              "        vertical-align: top;\n",
              "    }\n",
              "\n",
              "    .dataframe thead th {\n",
              "        text-align: right;\n",
              "    }\n",
              "</style>\n",
              "<table border=\"1\" class=\"dataframe\">\n",
              "  <thead>\n",
              "    <tr style=\"text-align: right;\">\n",
              "      <th></th>\n",
              "      <th>district_code</th>\n",
              "      <th>subvillage</th>\n",
              "      <th>lga</th>\n",
              "      <th>ward</th>\n",
              "    </tr>\n",
              "  </thead>\n",
              "  <tbody>\n",
              "    <tr>\n",
              "      <th>3607</th>\n",
              "      <td>1</td>\n",
              "      <td>Bashnet Kati</td>\n",
              "      <td>Babati</td>\n",
              "      <td>Bashinet</td>\n",
              "    </tr>\n",
              "    <tr>\n",
              "      <th>50870</th>\n",
              "      <td>6</td>\n",
              "      <td>Lukali</td>\n",
              "      <td>Bahi</td>\n",
              "      <td>Lamaiti</td>\n",
              "    </tr>\n",
              "    <tr>\n",
              "      <th>20413</th>\n",
              "      <td>6</td>\n",
              "      <td>Chawalikozi</td>\n",
              "      <td>Mbozi</td>\n",
              "      <td>Ndalambo</td>\n",
              "    </tr>\n",
              "    <tr>\n",
              "      <th>52806</th>\n",
              "      <td>7</td>\n",
              "      <td>Shuleni</td>\n",
              "      <td>Mbarali</td>\n",
              "      <td>Chimala</td>\n",
              "    </tr>\n",
              "    <tr>\n",
              "      <th>50091</th>\n",
              "      <td>1</td>\n",
              "      <td>Ngholong</td>\n",
              "      <td>Kilosa</td>\n",
              "      <td>Chakwale</td>\n",
              "    </tr>\n",
              "    <tr>\n",
              "      <th>16521</th>\n",
              "      <td>2</td>\n",
              "      <td>Lumeji</td>\n",
              "      <td>Magu</td>\n",
              "      <td>Sukuma</td>\n",
              "    </tr>\n",
              "    <tr>\n",
              "      <th>52225</th>\n",
              "      <td>2</td>\n",
              "      <td>Ngomeni</td>\n",
              "      <td>Maswa</td>\n",
              "      <td>Busilili</td>\n",
              "    </tr>\n",
              "    <tr>\n",
              "      <th>9440</th>\n",
              "      <td>3</td>\n",
              "      <td>Namisatu</td>\n",
              "      <td>Kilombero</td>\n",
              "      <td>Kiberege</td>\n",
              "    </tr>\n",
              "    <tr>\n",
              "      <th>41885</th>\n",
              "      <td>2</td>\n",
              "      <td>Nyamiselya</td>\n",
              "      <td>Magu</td>\n",
              "      <td>Nyigogo</td>\n",
              "    </tr>\n",
              "    <tr>\n",
              "      <th>54042</th>\n",
              "      <td>2</td>\n",
              "      <td>Msebei</td>\n",
              "      <td>Kasulu</td>\n",
              "      <td>Ruhita</td>\n",
              "    </tr>\n",
              "    <tr>\n",
              "      <th>2732</th>\n",
              "      <td>2</td>\n",
              "      <td>Lusanga</td>\n",
              "      <td>Korogwe</td>\n",
              "      <td>Kwagunda</td>\n",
              "    </tr>\n",
              "    <tr>\n",
              "      <th>36783</th>\n",
              "      <td>2</td>\n",
              "      <td>Mjini</td>\n",
              "      <td>Korogwe</td>\n",
              "      <td>Makuyuni</td>\n",
              "    </tr>\n",
              "    <tr>\n",
              "      <th>23198</th>\n",
              "      <td>2</td>\n",
              "      <td>M</td>\n",
              "      <td>Mufindi</td>\n",
              "      <td>Sadani</td>\n",
              "    </tr>\n",
              "    <tr>\n",
              "      <th>2624</th>\n",
              "      <td>2</td>\n",
              "      <td>Muhida</td>\n",
              "      <td>Maswa</td>\n",
              "      <td>Badi</td>\n",
              "    </tr>\n",
              "    <tr>\n",
              "      <th>35833</th>\n",
              "      <td>2</td>\n",
              "      <td>Olomatejo</td>\n",
              "      <td>Arusha Rural</td>\n",
              "      <td>Oltroto</td>\n",
              "    </tr>\n",
              "    <tr>\n",
              "      <th>22823</th>\n",
              "      <td>1</td>\n",
              "      <td>Mwamayenze</td>\n",
              "      <td>Bariadi</td>\n",
              "      <td>Mhunze</td>\n",
              "    </tr>\n",
              "    <tr>\n",
              "      <th>22921</th>\n",
              "      <td>4</td>\n",
              "      <td>Busango</td>\n",
              "      <td>Rungwe</td>\n",
              "      <td>Lufingo</td>\n",
              "    </tr>\n",
              "    <tr>\n",
              "      <th>20357</th>\n",
              "      <td>7</td>\n",
              "      <td>Kijuka</td>\n",
              "      <td>Misenyi</td>\n",
              "      <td>Kassambya</td>\n",
              "    </tr>\n",
              "    <tr>\n",
              "      <th>35940</th>\n",
              "      <td>4</td>\n",
              "      <td>Mkwatani</td>\n",
              "      <td>Chamwino</td>\n",
              "      <td>Fufu</td>\n",
              "    </tr>\n",
              "    <tr>\n",
              "      <th>18591</th>\n",
              "      <td>1</td>\n",
              "      <td>Jabutwa</td>\n",
              "      <td>Bariadi</td>\n",
              "      <td>Sagata</td>\n",
              "    </tr>\n",
              "    <tr>\n",
              "      <th>8850</th>\n",
              "      <td>7</td>\n",
              "      <td>Maangalio</td>\n",
              "      <td>Meru</td>\n",
              "      <td>Leguruki</td>\n",
              "    </tr>\n",
              "    <tr>\n",
              "      <th>35806</th>\n",
              "      <td>2</td>\n",
              "      <td>Mvae</td>\n",
              "      <td>Singida Rural</td>\n",
              "      <td>Mudida</td>\n",
              "    </tr>\n",
              "    <tr>\n",
              "      <th>26971</th>\n",
              "      <td>5</td>\n",
              "      <td>Mpembe</td>\n",
              "      <td>Ileje</td>\n",
              "      <td>Itumba</td>\n",
              "    </tr>\n",
              "    <tr>\n",
              "      <th>20066</th>\n",
              "      <td>1</td>\n",
              "      <td>Mwambaha</td>\n",
              "      <td>Nzega</td>\n",
              "      <td>Utwigu</td>\n",
              "    </tr>\n",
              "    <tr>\n",
              "      <th>54408</th>\n",
              "      <td>8</td>\n",
              "      <td>1</td>\n",
              "      <td>Missungwi</td>\n",
              "      <td>Missungwi</td>\n",
              "    </tr>\n",
              "    <tr>\n",
              "      <th>19553</th>\n",
              "      <td>3</td>\n",
              "      <td>Sengerema</td>\n",
              "      <td>Shinyanga Rural</td>\n",
              "      <td>Tinde</td>\n",
              "    </tr>\n",
              "    <tr>\n",
              "      <th>5354</th>\n",
              "      <td>4</td>\n",
              "      <td>Mlimani</td>\n",
              "      <td>Njombe</td>\n",
              "      <td>Igosi</td>\n",
              "    </tr>\n",
              "    <tr>\n",
              "      <th>15879</th>\n",
              "      <td>1</td>\n",
              "      <td>Mwawande</td>\n",
              "      <td>Bariadi</td>\n",
              "      <td>Kinang'weli</td>\n",
              "    </tr>\n",
              "    <tr>\n",
              "      <th>38499</th>\n",
              "      <td>7</td>\n",
              "      <td>Ihanga</td>\n",
              "      <td>Mbarali</td>\n",
              "      <td>Rujewa</td>\n",
              "    </tr>\n",
              "    <tr>\n",
              "      <th>31196</th>\n",
              "      <td>7</td>\n",
              "      <td>Kambi Ya Mkaa</td>\n",
              "      <td>Meru</td>\n",
              "      <td>Kikatiti</td>\n",
              "    </tr>\n",
              "    <tr>\n",
              "      <th>...</th>\n",
              "      <td>...</td>\n",
              "      <td>...</td>\n",
              "      <td>...</td>\n",
              "      <td>...</td>\n",
              "    </tr>\n",
              "    <tr>\n",
              "      <th>41434</th>\n",
              "      <td>5</td>\n",
              "      <td>Majengo</td>\n",
              "      <td>Namtumbo</td>\n",
              "      <td>Ligera</td>\n",
              "    </tr>\n",
              "    <tr>\n",
              "      <th>27480</th>\n",
              "      <td>4</td>\n",
              "      <td>Milongodi</td>\n",
              "      <td>Tandahimba</td>\n",
              "      <td>Milogodi</td>\n",
              "    </tr>\n",
              "    <tr>\n",
              "      <th>6396</th>\n",
              "      <td>4</td>\n",
              "      <td>Msorwa Mjini</td>\n",
              "      <td>Mkuranga</td>\n",
              "      <td>Mbezi</td>\n",
              "    </tr>\n",
              "    <tr>\n",
              "      <th>28693</th>\n",
              "      <td>2</td>\n",
              "      <td>L</td>\n",
              "      <td>Mufindi</td>\n",
              "      <td>Kasanga</td>\n",
              "    </tr>\n",
              "    <tr>\n",
              "      <th>19769</th>\n",
              "      <td>1</td>\n",
              "      <td>Airport</td>\n",
              "      <td>Mpwapwa</td>\n",
              "      <td>Ipera</td>\n",
              "    </tr>\n",
              "    <tr>\n",
              "      <th>53707</th>\n",
              "      <td>7</td>\n",
              "      <td>Bwawani</td>\n",
              "      <td>Meru</td>\n",
              "      <td>Leguruki</td>\n",
              "    </tr>\n",
              "    <tr>\n",
              "      <th>17568</th>\n",
              "      <td>2</td>\n",
              "      <td>Kiyange</td>\n",
              "      <td>Kasulu</td>\n",
              "      <td>Msambara</td>\n",
              "    </tr>\n",
              "    <tr>\n",
              "      <th>39188</th>\n",
              "      <td>2</td>\n",
              "      <td>Mtaa Wa Kimwani</td>\n",
              "      <td>Ilala</td>\n",
              "      <td>Chanika</td>\n",
              "    </tr>\n",
              "    <tr>\n",
              "      <th>37819</th>\n",
              "      <td>4</td>\n",
              "      <td>Msitu Wa Tembo B</td>\n",
              "      <td>Simanjiro</td>\n",
              "      <td>Msitu wa Tembo</td>\n",
              "    </tr>\n",
              "    <tr>\n",
              "      <th>5311</th>\n",
              "      <td>3</td>\n",
              "      <td>Kibingo</td>\n",
              "      <td>Kigoma Rural</td>\n",
              "      <td>Kagongo</td>\n",
              "    </tr>\n",
              "    <tr>\n",
              "      <th>2433</th>\n",
              "      <td>4</td>\n",
              "      <td>Mwaya Mjini</td>\n",
              "      <td>Ulanga</td>\n",
              "      <td>Mwaya</td>\n",
              "    </tr>\n",
              "    <tr>\n",
              "      <th>56101</th>\n",
              "      <td>5</td>\n",
              "      <td>Bugelenga Centre</td>\n",
              "      <td>Bukombe</td>\n",
              "      <td>Iyogela</td>\n",
              "    </tr>\n",
              "    <tr>\n",
              "      <th>769</th>\n",
              "      <td>1</td>\n",
              "      <td>Zaburi</td>\n",
              "      <td>Monduli</td>\n",
              "      <td>Makuyuni</td>\n",
              "    </tr>\n",
              "    <tr>\n",
              "      <th>1685</th>\n",
              "      <td>6</td>\n",
              "      <td>Kagera</td>\n",
              "      <td>Bahi</td>\n",
              "      <td>Chipanga</td>\n",
              "    </tr>\n",
              "    <tr>\n",
              "      <th>41090</th>\n",
              "      <td>3</td>\n",
              "      <td>NaN</td>\n",
              "      <td>Kongwa</td>\n",
              "      <td>Iduo</td>\n",
              "    </tr>\n",
              "    <tr>\n",
              "      <th>16023</th>\n",
              "      <td>2</td>\n",
              "      <td>Ccm</td>\n",
              "      <td>Singida Rural</td>\n",
              "      <td>Ikhawoda</td>\n",
              "    </tr>\n",
              "    <tr>\n",
              "      <th>44131</th>\n",
              "      <td>1</td>\n",
              "      <td>Kilimba B</td>\n",
              "      <td>Kondoa</td>\n",
              "      <td>Ovada</td>\n",
              "    </tr>\n",
              "    <tr>\n",
              "      <th>47191</th>\n",
              "      <td>7</td>\n",
              "      <td>Bondeni</td>\n",
              "      <td>Meru</td>\n",
              "      <td>Maji ya Chai</td>\n",
              "    </tr>\n",
              "    <tr>\n",
              "      <th>21962</th>\n",
              "      <td>1</td>\n",
              "      <td>Mlesa</td>\n",
              "      <td>Lushoto</td>\n",
              "      <td>Mbaramo</td>\n",
              "    </tr>\n",
              "    <tr>\n",
              "      <th>37194</th>\n",
              "      <td>3</td>\n",
              "      <td>Ikonda Bo</td>\n",
              "      <td>Makete</td>\n",
              "      <td>Lupalilo</td>\n",
              "    </tr>\n",
              "    <tr>\n",
              "      <th>16850</th>\n",
              "      <td>2</td>\n",
              "      <td>Manzese</td>\n",
              "      <td>Korogwe</td>\n",
              "      <td>Korogwe</td>\n",
              "    </tr>\n",
              "    <tr>\n",
              "      <th>6265</th>\n",
              "      <td>6</td>\n",
              "      <td>Kikuyu</td>\n",
              "      <td>Bahi</td>\n",
              "      <td>Ibugule</td>\n",
              "    </tr>\n",
              "    <tr>\n",
              "      <th>54886</th>\n",
              "      <td>1</td>\n",
              "      <td>Mgogo</td>\n",
              "      <td>Iramba</td>\n",
              "      <td>Kinampanda</td>\n",
              "    </tr>\n",
              "    <tr>\n",
              "      <th>11284</th>\n",
              "      <td>4</td>\n",
              "      <td>Shinga</td>\n",
              "      <td>Moshi Rural</td>\n",
              "      <td>Uru Kaskazini</td>\n",
              "    </tr>\n",
              "    <tr>\n",
              "      <th>44732</th>\n",
              "      <td>7</td>\n",
              "      <td>Uzunguni</td>\n",
              "      <td>Meru</td>\n",
              "      <td>Ngarenanyuki</td>\n",
              "    </tr>\n",
              "    <tr>\n",
              "      <th>54343</th>\n",
              "      <td>4</td>\n",
              "      <td>Bwawani</td>\n",
              "      <td>Ulanga</td>\n",
              "      <td>Mtimbira</td>\n",
              "    </tr>\n",
              "    <tr>\n",
              "      <th>38158</th>\n",
              "      <td>5</td>\n",
              "      <td>Mlangali Ndani</td>\n",
              "      <td>Ludewa</td>\n",
              "      <td>Mlangali</td>\n",
              "    </tr>\n",
              "    <tr>\n",
              "      <th>860</th>\n",
              "      <td>5</td>\n",
              "      <td>Sokoni</td>\n",
              "      <td>Pangani</td>\n",
              "      <td>Pangani Mashariki</td>\n",
              "    </tr>\n",
              "    <tr>\n",
              "      <th>15795</th>\n",
              "      <td>6</td>\n",
              "      <td>Ijosho</td>\n",
              "      <td>Meatu</td>\n",
              "      <td>Sakasaka</td>\n",
              "    </tr>\n",
              "    <tr>\n",
              "      <th>56422</th>\n",
              "      <td>1</td>\n",
              "      <td>Kwandele</td>\n",
              "      <td>Rombo</td>\n",
              "      <td>Shimbi</td>\n",
              "    </tr>\n",
              "  </tbody>\n",
              "</table>\n",
              "<p>47520 rows × 4 columns</p>\n",
              "</div>"
            ],
            "text/plain": [
              "       district_code        subvillage              lga               ward\n",
              "3607               1      Bashnet Kati           Babati           Bashinet\n",
              "50870              6            Lukali             Bahi            Lamaiti\n",
              "20413              6       Chawalikozi            Mbozi           Ndalambo\n",
              "52806              7           Shuleni          Mbarali            Chimala\n",
              "50091              1          Ngholong           Kilosa           Chakwale\n",
              "16521              2            Lumeji             Magu             Sukuma\n",
              "52225              2           Ngomeni            Maswa           Busilili\n",
              "9440               3          Namisatu        Kilombero           Kiberege\n",
              "41885              2        Nyamiselya             Magu            Nyigogo\n",
              "54042              2            Msebei           Kasulu             Ruhita\n",
              "2732               2           Lusanga          Korogwe           Kwagunda\n",
              "36783              2             Mjini          Korogwe           Makuyuni\n",
              "23198              2                 M          Mufindi             Sadani\n",
              "2624               2            Muhida            Maswa               Badi\n",
              "35833              2         Olomatejo     Arusha Rural            Oltroto\n",
              "22823              1        Mwamayenze          Bariadi             Mhunze\n",
              "22921              4           Busango           Rungwe            Lufingo\n",
              "20357              7            Kijuka          Misenyi          Kassambya\n",
              "35940              4          Mkwatani         Chamwino               Fufu\n",
              "18591              1           Jabutwa          Bariadi             Sagata\n",
              "8850               7         Maangalio             Meru           Leguruki\n",
              "35806              2              Mvae    Singida Rural             Mudida\n",
              "26971              5            Mpembe            Ileje             Itumba\n",
              "20066              1          Mwambaha            Nzega             Utwigu\n",
              "54408              8                 1        Missungwi          Missungwi\n",
              "19553              3         Sengerema  Shinyanga Rural              Tinde\n",
              "5354               4           Mlimani           Njombe              Igosi\n",
              "15879              1          Mwawande          Bariadi        Kinang'weli\n",
              "38499              7            Ihanga          Mbarali             Rujewa\n",
              "31196              7     Kambi Ya Mkaa             Meru           Kikatiti\n",
              "...              ...               ...              ...                ...\n",
              "41434              5           Majengo         Namtumbo             Ligera\n",
              "27480              4         Milongodi       Tandahimba           Milogodi\n",
              "6396               4      Msorwa Mjini         Mkuranga              Mbezi\n",
              "28693              2                 L          Mufindi            Kasanga\n",
              "19769              1           Airport          Mpwapwa              Ipera\n",
              "53707              7           Bwawani             Meru           Leguruki\n",
              "17568              2           Kiyange           Kasulu           Msambara\n",
              "39188              2   Mtaa Wa Kimwani            Ilala            Chanika\n",
              "37819              4  Msitu Wa Tembo B        Simanjiro     Msitu wa Tembo\n",
              "5311               3           Kibingo     Kigoma Rural            Kagongo\n",
              "2433               4       Mwaya Mjini           Ulanga              Mwaya\n",
              "56101              5  Bugelenga Centre          Bukombe            Iyogela\n",
              "769                1            Zaburi          Monduli           Makuyuni\n",
              "1685               6            Kagera             Bahi           Chipanga\n",
              "41090              3               NaN           Kongwa               Iduo\n",
              "16023              2               Ccm    Singida Rural           Ikhawoda\n",
              "44131              1         Kilimba B           Kondoa              Ovada\n",
              "47191              7           Bondeni             Meru       Maji ya Chai\n",
              "21962              1             Mlesa          Lushoto            Mbaramo\n",
              "37194              3         Ikonda Bo           Makete           Lupalilo\n",
              "16850              2           Manzese          Korogwe            Korogwe\n",
              "6265               6            Kikuyu             Bahi            Ibugule\n",
              "54886              1             Mgogo           Iramba         Kinampanda\n",
              "11284              4            Shinga      Moshi Rural      Uru Kaskazini\n",
              "44732              7          Uzunguni             Meru       Ngarenanyuki\n",
              "54343              4           Bwawani           Ulanga           Mtimbira\n",
              "38158              5    Mlangali Ndani           Ludewa           Mlangali\n",
              "860                5            Sokoni          Pangani  Pangani Mashariki\n",
              "15795              6            Ijosho            Meatu           Sakasaka\n",
              "56422              1          Kwandele            Rombo             Shimbi\n",
              "\n",
              "[47520 rows x 4 columns]"
            ]
          },
          "metadata": {
            "tags": []
          },
          "execution_count": 106
        }
      ]
    },
    {
      "cell_type": "code",
      "metadata": {
        "id": "PBpOcGQ5IQLp",
        "colab_type": "code",
        "outputId": "60494cc0-6188-4d53-f11d-7a04f9f6da0c",
        "colab": {
          "base_uri": "https://localhost:8080/",
          "height": 729
        }
      },
      "source": [
        "(train.select_dtypes(include='number')).hist(figsize=(10,10))\n",
        "plt.tight_layout()\n",
        "plt.show()"
      ],
      "execution_count": 0,
      "outputs": [
        {
          "output_type": "display_data",
          "data": {
            "image/png": "[encoded data removed]",
            "text/plain": [
              "<Figure size 720x720 with 12 Axes>"
            ]
          },
          "metadata": {
            "tags": []
          }
        }
      ]
    },
    {
      "cell_type": "code",
      "metadata": {
        "id": "1gQtwolC2ENA",
        "colab_type": "code",
        "outputId": "01b5460a-5600-4ff0-ce75-0d74a7fb9eb7",
        "colab": {
          "base_uri": "https://localhost:8080/",
          "height": 186
        }
      },
      "source": [
        "train['population'].describe()"
      ],
      "execution_count": 0,
      "outputs": [
        {
          "output_type": "execute_result",
          "data": {
            "text/plain": [
              "count    59400.000000\n",
              "mean       179.909983\n",
              "std        471.482176\n",
              "min          0.000000\n",
              "25%          0.000000\n",
              "50%         25.000000\n",
              "75%        215.000000\n",
              "max      30500.000000\n",
              "Name: population, dtype: float64"
            ]
          },
          "metadata": {
            "tags": []
          },
          "execution_count": 394
        }
      ]
    },
    {
      "cell_type": "markdown",
      "metadata": {
        "id": "ia5YCJlbgPJZ",
        "colab_type": "text"
      },
      "source": [
        "###Categorical Features"
      ]
    },
    {
      "cell_type": "code",
      "metadata": {
        "id": "mheliSW9g3A4",
        "colab_type": "code",
        "colab": {}
      },
      "source": [
        "#clean up capitalization issues\n",
        "def lower_case_dataframe(df):\n",
        "  df = df.copy()\n",
        "\n",
        "  cols = df.select_dtypes(exclude='number').columns.to_list()\n",
        "  for col in cols:\n",
        "    df[col] = df[col].str.lower()\n",
        "    \n",
        "  return df"
      ],
      "execution_count": 0,
      "outputs": []
    },
    {
      "cell_type": "markdown",
      "metadata": {
        "id": "aToKmYn1xuH8",
        "colab_type": "text"
      },
      "source": [
        "####Duplicate Features"
      ]
    },
    {
      "cell_type": "code",
      "metadata": {
        "id": "DGKQ37ELj6Kv",
        "colab_type": "code",
        "outputId": "2624e08f-7216-4b58-c0a5-229d3d091f60",
        "colab": {
          "base_uri": "https://localhost:8080/",
          "height": 639
        }
      },
      "source": [
        "#quite a few categories with identical values\n",
        "temp = lower_case_dataframe(train.select_dtypes(exclude='number'))\n",
        "type_and_unique(fill_nulls(temp))"
      ],
      "execution_count": 0,
      "outputs": [
        {
          "output_type": "stream",
          "text": [
            "Column                 Type      nUnique  Unique Values\n",
            "---------------------  ------  ---------  --------------------------------------------------------------------------------------------------------------------------------\n",
            "date_recorded          object        356  2011-03-14, 2013-03-06, 2013-02-25, 2013-01-28, 2011-07-13, 2011-03-13, 2012-10-01, 2012-10-09, 2012-11-03, 2011-08-03...\n",
            "funder                 object       1898  roman, grumeti, lottery club, unicef, action in a, mkinga distric coun, dwsp, rwssp, wateraid, isingiro ho...\n",
            "installer              object       1936  roman, grumeti, world vision, unicef, artisan, dwe, dwsp, water aid, private, danida...\n",
            "wpt_name               object      37400  None, zahanati, kwa mahundi, zahanati ya nanyumbu, shuleni, tajiri, kwa ngomho, tushirikiane, kwa ramadhan musa, kwapeto...\n",
            "basin                  object          9  lake nyasa, lake victoria, pangani, ruvuma / southern coast, internal, lake tanganyika, wami / ruvu, rufiji, lake rukwa\n",
            "subvillage             object      19288  mnyusi b, nyamara, majengo, mahakamani, kyanyamisa, moa/mwereme, ishinabulandi, nyawishi center, imalauduki, mkonomre...\n",
            "region                 object         21  iringa, mara, manyara, mtwara, kagera, tanga, shinyanga, tabora, pwani, ruvuma...\n",
            "lga                    object        125  ludewa, serengeti, simanjiro, nanyumbu, karagwe, mkinga, shinyanga rural, kahama, tabora urban, mkuranga...\n",
            "ward                   object       2092  mundindi, natta, ngorika, nanyumbu, nyakasimbi, moa, samuye, chambo, itetemia, kaisho...\n",
            "public_meeting         bool            1  True\n",
            "recorded_by            object          1  geodata consultants ltd\n",
            "scheme_management      object         13  vwc, other, None, private operator, wug, water board, wua, water authority, company, parastatal...\n",
            "scheme_name            object       2577  roman, None, nyumba ya mungu pipe scheme, zingibali, bl bondeni, none, wanging'ombe water supply s, makanj, kidabu, mashangwi...\n",
            "permit                 bool            1  False\n",
            "extraction_type        object         18  gravity, submersible, swn 80, nira/tanira, india mark ii, other, ksb, mono, windmill, afridev...\n",
            "extraction_type_group  object         13  gravity, submersible, swn 80, nira/tanira, india mark ii, other, mono, wind-powered, afridev, rope pump...\n",
            "extraction_type_class  object          7  gravity, submersible, handpump, other, motorpump, wind-powered, rope pump\n",
            "management             object         12  vwc, wug, other, private operator, water board, wua, company, water authority, parastatal, unknown...\n",
            "management_group       object          5  user-group, other, commercial, parastatal, unknown\n",
            "payment                object          7  pay annually, never pay, pay per bucket, unknown, pay when scheme fails, other, pay monthly\n",
            "payment_type           object          7  annually, never pay, per bucket, unknown, on failure, other, monthly\n",
            "water_quality          object          8  soft, salty, milky, unknown, fluoride, coloured, salty abandoned, fluoride abandoned\n",
            "quality_group          object          6  good, salty, milky, unknown, fluoride, colored\n",
            "quantity               object          5  enough, insufficient, dry, seasonal, unknown\n",
            "quantity_group         object          5  enough, insufficient, dry, seasonal, unknown\n",
            "source                 object         10  spring, rainwater harvesting, dam, machine dbh, other, shallow well, river, hand dtw, lake, unknown\n",
            "source_type            object          7  spring, rainwater harvesting, dam, borehole, other, shallow well, river/lake\n",
            "source_class           object          3  groundwater, surface, unknown\n",
            "waterpoint_type        object          7  communal standpipe, communal standpipe multiple, hand pump, other, improved spring, cattle trough, dam\n",
            "waterpoint_type_group  object          6  communal standpipe, hand pump, other, improved spring, cattle trough, dam\n"
          ],
          "name": "stdout"
        }
      ]
    },
    {
      "cell_type": "code",
      "metadata": {
        "id": "-JjLvYa_kWdG",
        "colab_type": "code",
        "outputId": "9c6eedac-75cd-4739-fcbf-48f97c14abfb",
        "colab": {
          "base_uri": "https://localhost:8080/",
          "height": 2819
        }
      },
      "source": [
        "def compare_almost_equal(df,feature1,feature2):\n",
        "  df = pd.DataFrame(df[[feature1,feature2]])\n",
        "  \n",
        "  df['is_equal'] = (df[feature1] == df[feature2])\n",
        "  print(feature1 + ', ' + feature2)\n",
        "  print(df['is_equal'].value_counts(),'\\n')\n",
        "  \n",
        "  return df\n",
        "\n",
        "#let's compare and take note of what we can drop\n",
        "#drop: waterpoint_type_group, source_type, quantity_group, quality_group, \n",
        "#drop: payment, management_group, extraction_type, extraction_type_class\n",
        "compare_almost_equal(temp,'waterpoint_type','waterpoint_type_group')\n",
        "compare_almost_equal(temp,'source','source_type')\n",
        "compare_almost_equal(temp,'quantity','quantity_group') #identical\n",
        "compare_almost_equal(temp,'water_quality','quality_group')\n",
        "compare_almost_equal(temp,'payment','payment_type') #identical w/ different name\n",
        "compare_almost_equal(temp,'management','management_group')\n",
        "compare_almost_equal(temp,'extraction_type','extraction_type_group')\n",
        "compare_almost_equal(temp,'extraction_type_group','extraction_type_class')\n",
        "compare_almost_equal(temp,'funder','installer') #may drop both, need  more info"
      ],
      "execution_count": 0,
      "outputs": [
        {
          "output_type": "stream",
          "text": [
            "waterpoint_type, waterpoint_type_group\n",
            "True     53297\n",
            "False     6103\n",
            "Name: is_equal, dtype: int64 \n",
            "\n",
            "source, source_type\n",
            "True     37008\n",
            "False    22392\n",
            "Name: is_equal, dtype: int64 \n",
            "\n",
            "quantity, quantity_group\n",
            "True    59400\n",
            "Name: is_equal, dtype: int64 \n",
            "\n",
            "water_quality, quality_group\n",
            "False    51664\n",
            "True      7736\n",
            "Name: is_equal, dtype: int64 \n",
            "\n",
            "payment, payment_type\n",
            "True     34559\n",
            "False    24841\n",
            "Name: is_equal, dtype: int64 \n",
            "\n",
            "management, management_group\n",
            "False    56227\n",
            "True      3173\n",
            "Name: is_equal, dtype: int64 \n",
            "\n",
            "extraction_type, extraction_type_group\n",
            "True     56931\n",
            "False     2469\n",
            "Name: is_equal, dtype: int64 \n",
            "\n",
            "extraction_type_group, extraction_type_class\n",
            "True     39957\n",
            "False    19443\n",
            "Name: is_equal, dtype: int64 \n",
            "\n",
            "funder, installer\n",
            "False    40470\n",
            "True     18930\n",
            "Name: is_equal, dtype: int64 \n",
            "\n"
          ],
          "name": "stdout"
        },
        {
          "output_type": "execute_result",
          "data": {
            "text/html": [
              "<div>\n",
              "<style scoped>\n",
              "    .dataframe tbody tr th:only-of-type {\n",
              "        vertical-align: middle;\n",
              "    }\n",
              "\n",
              "    .dataframe tbody tr th {\n",
              "        vertical-align: top;\n",
              "    }\n",
              "\n",
              "    .dataframe thead th {\n",
              "        text-align: right;\n",
              "    }\n",
              "</style>\n",
              "<table border=\"1\" class=\"dataframe\">\n",
              "  <thead>\n",
              "    <tr style=\"text-align: right;\">\n",
              "      <th></th>\n",
              "      <th>funder</th>\n",
              "      <th>installer</th>\n",
              "      <th>is_equal</th>\n",
              "    </tr>\n",
              "  </thead>\n",
              "  <tbody>\n",
              "    <tr>\n",
              "      <th>0</th>\n",
              "      <td>roman</td>\n",
              "      <td>roman</td>\n",
              "      <td>True</td>\n",
              "    </tr>\n",
              "    <tr>\n",
              "      <th>1</th>\n",
              "      <td>grumeti</td>\n",
              "      <td>grumeti</td>\n",
              "      <td>True</td>\n",
              "    </tr>\n",
              "    <tr>\n",
              "      <th>2</th>\n",
              "      <td>lottery club</td>\n",
              "      <td>world vision</td>\n",
              "      <td>False</td>\n",
              "    </tr>\n",
              "    <tr>\n",
              "      <th>3</th>\n",
              "      <td>unicef</td>\n",
              "      <td>unicef</td>\n",
              "      <td>True</td>\n",
              "    </tr>\n",
              "    <tr>\n",
              "      <th>4</th>\n",
              "      <td>action in a</td>\n",
              "      <td>artisan</td>\n",
              "      <td>False</td>\n",
              "    </tr>\n",
              "    <tr>\n",
              "      <th>5</th>\n",
              "      <td>mkinga distric coun</td>\n",
              "      <td>dwe</td>\n",
              "      <td>False</td>\n",
              "    </tr>\n",
              "    <tr>\n",
              "      <th>6</th>\n",
              "      <td>dwsp</td>\n",
              "      <td>dwsp</td>\n",
              "      <td>True</td>\n",
              "    </tr>\n",
              "    <tr>\n",
              "      <th>7</th>\n",
              "      <td>rwssp</td>\n",
              "      <td>dwe</td>\n",
              "      <td>False</td>\n",
              "    </tr>\n",
              "    <tr>\n",
              "      <th>8</th>\n",
              "      <td>wateraid</td>\n",
              "      <td>water aid</td>\n",
              "      <td>False</td>\n",
              "    </tr>\n",
              "    <tr>\n",
              "      <th>9</th>\n",
              "      <td>isingiro ho</td>\n",
              "      <td>artisan</td>\n",
              "      <td>False</td>\n",
              "    </tr>\n",
              "    <tr>\n",
              "      <th>10</th>\n",
              "      <td>private</td>\n",
              "      <td>private</td>\n",
              "      <td>True</td>\n",
              "    </tr>\n",
              "    <tr>\n",
              "      <th>11</th>\n",
              "      <td>danida</td>\n",
              "      <td>danida</td>\n",
              "      <td>True</td>\n",
              "    </tr>\n",
              "    <tr>\n",
              "      <th>12</th>\n",
              "      <td>world vision</td>\n",
              "      <td>world vision</td>\n",
              "      <td>True</td>\n",
              "    </tr>\n",
              "    <tr>\n",
              "      <th>13</th>\n",
              "      <td>lawatefuka water supply</td>\n",
              "      <td>lawatefuka water sup</td>\n",
              "      <td>False</td>\n",
              "    </tr>\n",
              "    <tr>\n",
              "      <th>14</th>\n",
              "      <td>biore</td>\n",
              "      <td>wedeco</td>\n",
              "      <td>False</td>\n",
              "    </tr>\n",
              "    <tr>\n",
              "      <th>15</th>\n",
              "      <td>rudep</td>\n",
              "      <td>dwe</td>\n",
              "      <td>False</td>\n",
              "    </tr>\n",
              "    <tr>\n",
              "      <th>16</th>\n",
              "      <td>unicef</td>\n",
              "      <td>dwe</td>\n",
              "      <td>False</td>\n",
              "    </tr>\n",
              "    <tr>\n",
              "      <th>17</th>\n",
              "      <td>unicef</td>\n",
              "      <td>dwe</td>\n",
              "      <td>False</td>\n",
              "    </tr>\n",
              "    <tr>\n",
              "      <th>18</th>\n",
              "      <td>hesawa</td>\n",
              "      <td>dwe</td>\n",
              "      <td>False</td>\n",
              "    </tr>\n",
              "    <tr>\n",
              "      <th>19</th>\n",
              "      <td>danida</td>\n",
              "      <td>danid</td>\n",
              "      <td>False</td>\n",
              "    </tr>\n",
              "    <tr>\n",
              "      <th>20</th>\n",
              "      <td>twe</td>\n",
              "      <td>twe</td>\n",
              "      <td>True</td>\n",
              "    </tr>\n",
              "    <tr>\n",
              "      <th>21</th>\n",
              "      <td>dwsp</td>\n",
              "      <td>dwe</td>\n",
              "      <td>False</td>\n",
              "    </tr>\n",
              "    <tr>\n",
              "      <th>22</th>\n",
              "      <td>unicef</td>\n",
              "      <td>dwe</td>\n",
              "      <td>False</td>\n",
              "    </tr>\n",
              "    <tr>\n",
              "      <th>23</th>\n",
              "      <td>isf</td>\n",
              "      <td>isf</td>\n",
              "      <td>True</td>\n",
              "    </tr>\n",
              "    <tr>\n",
              "      <th>24</th>\n",
              "      <td>african development bank</td>\n",
              "      <td>dwe</td>\n",
              "      <td>False</td>\n",
              "    </tr>\n",
              "    <tr>\n",
              "      <th>25</th>\n",
              "      <td>government of tanzania</td>\n",
              "      <td>dwe</td>\n",
              "      <td>False</td>\n",
              "    </tr>\n",
              "    <tr>\n",
              "      <th>26</th>\n",
              "      <td>sobodo</td>\n",
              "      <td>kilolo star</td>\n",
              "      <td>False</td>\n",
              "    </tr>\n",
              "    <tr>\n",
              "      <th>27</th>\n",
              "      <td>hesawa</td>\n",
              "      <td>dwe</td>\n",
              "      <td>False</td>\n",
              "    </tr>\n",
              "    <tr>\n",
              "      <th>28</th>\n",
              "      <td>government of tanzania</td>\n",
              "      <td>district council</td>\n",
              "      <td>False</td>\n",
              "    </tr>\n",
              "    <tr>\n",
              "      <th>29</th>\n",
              "      <td>lawatefuka water supply</td>\n",
              "      <td>lawatefuka water sup</td>\n",
              "      <td>False</td>\n",
              "    </tr>\n",
              "    <tr>\n",
              "      <th>...</th>\n",
              "      <td>...</td>\n",
              "      <td>...</td>\n",
              "      <td>...</td>\n",
              "    </tr>\n",
              "    <tr>\n",
              "      <th>59370</th>\n",
              "      <td>NaN</td>\n",
              "      <td>NaN</td>\n",
              "      <td>False</td>\n",
              "    </tr>\n",
              "    <tr>\n",
              "      <th>59371</th>\n",
              "      <td>netherlands</td>\n",
              "      <td>dwe</td>\n",
              "      <td>False</td>\n",
              "    </tr>\n",
              "    <tr>\n",
              "      <th>59372</th>\n",
              "      <td>tlc</td>\n",
              "      <td>tlc</td>\n",
              "      <td>True</td>\n",
              "    </tr>\n",
              "    <tr>\n",
              "      <th>59373</th>\n",
              "      <td>rudep</td>\n",
              "      <td>distri</td>\n",
              "      <td>False</td>\n",
              "    </tr>\n",
              "    <tr>\n",
              "      <th>59374</th>\n",
              "      <td>rwssp</td>\n",
              "      <td>dwe</td>\n",
              "      <td>False</td>\n",
              "    </tr>\n",
              "    <tr>\n",
              "      <th>59375</th>\n",
              "      <td>government of tanzania</td>\n",
              "      <td>dwe</td>\n",
              "      <td>False</td>\n",
              "    </tr>\n",
              "    <tr>\n",
              "      <th>59376</th>\n",
              "      <td>NaN</td>\n",
              "      <td>NaN</td>\n",
              "      <td>False</td>\n",
              "    </tr>\n",
              "    <tr>\n",
              "      <th>59377</th>\n",
              "      <td>government of tanzania</td>\n",
              "      <td>government</td>\n",
              "      <td>False</td>\n",
              "    </tr>\n",
              "    <tr>\n",
              "      <th>59378</th>\n",
              "      <td>rc</td>\n",
              "      <td>acra</td>\n",
              "      <td>False</td>\n",
              "    </tr>\n",
              "    <tr>\n",
              "      <th>59379</th>\n",
              "      <td>do</td>\n",
              "      <td>do</td>\n",
              "      <td>True</td>\n",
              "    </tr>\n",
              "    <tr>\n",
              "      <th>59380</th>\n",
              "      <td>roman</td>\n",
              "      <td>roman</td>\n",
              "      <td>True</td>\n",
              "    </tr>\n",
              "    <tr>\n",
              "      <th>59381</th>\n",
              "      <td>mkinga distric coun</td>\n",
              "      <td>dwe</td>\n",
              "      <td>False</td>\n",
              "    </tr>\n",
              "    <tr>\n",
              "      <th>59382</th>\n",
              "      <td>ces(gmbh)</td>\n",
              "      <td>dwe</td>\n",
              "      <td>False</td>\n",
              "    </tr>\n",
              "    <tr>\n",
              "      <th>59383</th>\n",
              "      <td>world bank</td>\n",
              "      <td>world bank</td>\n",
              "      <td>True</td>\n",
              "    </tr>\n",
              "    <tr>\n",
              "      <th>59384</th>\n",
              "      <td>concern</td>\n",
              "      <td>concern</td>\n",
              "      <td>True</td>\n",
              "    </tr>\n",
              "    <tr>\n",
              "      <th>59385</th>\n",
              "      <td>jaica</td>\n",
              "      <td>jaica co</td>\n",
              "      <td>False</td>\n",
              "    </tr>\n",
              "    <tr>\n",
              "      <th>59386</th>\n",
              "      <td>adb</td>\n",
              "      <td>dwe</td>\n",
              "      <td>False</td>\n",
              "    </tr>\n",
              "    <tr>\n",
              "      <th>59387</th>\n",
              "      <td>0</td>\n",
              "      <td>0</td>\n",
              "      <td>True</td>\n",
              "    </tr>\n",
              "    <tr>\n",
              "      <th>59388</th>\n",
              "      <td>kidep</td>\n",
              "      <td>dwe</td>\n",
              "      <td>False</td>\n",
              "    </tr>\n",
              "    <tr>\n",
              "      <th>59389</th>\n",
              "      <td>co</td>\n",
              "      <td>dwe</td>\n",
              "      <td>False</td>\n",
              "    </tr>\n",
              "    <tr>\n",
              "      <th>59390</th>\n",
              "      <td>rudep</td>\n",
              "      <td>dwe</td>\n",
              "      <td>False</td>\n",
              "    </tr>\n",
              "    <tr>\n",
              "      <th>59391</th>\n",
              "      <td>government of tanzania</td>\n",
              "      <td>government</td>\n",
              "      <td>False</td>\n",
              "    </tr>\n",
              "    <tr>\n",
              "      <th>59392</th>\n",
              "      <td>government of tanzania</td>\n",
              "      <td>government</td>\n",
              "      <td>False</td>\n",
              "    </tr>\n",
              "    <tr>\n",
              "      <th>59393</th>\n",
              "      <td>private</td>\n",
              "      <td>private</td>\n",
              "      <td>True</td>\n",
              "    </tr>\n",
              "    <tr>\n",
              "      <th>59394</th>\n",
              "      <td>world bank</td>\n",
              "      <td>ml appro</td>\n",
              "      <td>False</td>\n",
              "    </tr>\n",
              "    <tr>\n",
              "      <th>59395</th>\n",
              "      <td>germany republi</td>\n",
              "      <td>ces</td>\n",
              "      <td>False</td>\n",
              "    </tr>\n",
              "    <tr>\n",
              "      <th>59396</th>\n",
              "      <td>cefa-njombe</td>\n",
              "      <td>cefa</td>\n",
              "      <td>False</td>\n",
              "    </tr>\n",
              "    <tr>\n",
              "      <th>59397</th>\n",
              "      <td>NaN</td>\n",
              "      <td>NaN</td>\n",
              "      <td>False</td>\n",
              "    </tr>\n",
              "    <tr>\n",
              "      <th>59398</th>\n",
              "      <td>malec</td>\n",
              "      <td>musa</td>\n",
              "      <td>False</td>\n",
              "    </tr>\n",
              "    <tr>\n",
              "      <th>59399</th>\n",
              "      <td>world bank</td>\n",
              "      <td>world</td>\n",
              "      <td>False</td>\n",
              "    </tr>\n",
              "  </tbody>\n",
              "</table>\n",
              "<p>59400 rows × 3 columns</p>\n",
              "</div>"
            ],
            "text/plain": [
              "                         funder             installer  is_equal\n",
              "0                         roman                 roman      True\n",
              "1                       grumeti               grumeti      True\n",
              "2                  lottery club          world vision     False\n",
              "3                        unicef                unicef      True\n",
              "4                   action in a               artisan     False\n",
              "5           mkinga distric coun                   dwe     False\n",
              "6                          dwsp                  dwsp      True\n",
              "7                         rwssp                   dwe     False\n",
              "8                      wateraid             water aid     False\n",
              "9                   isingiro ho               artisan     False\n",
              "10                      private               private      True\n",
              "11                       danida                danida      True\n",
              "12                 world vision          world vision      True\n",
              "13      lawatefuka water supply  lawatefuka water sup     False\n",
              "14                        biore                wedeco     False\n",
              "15                        rudep                   dwe     False\n",
              "16                       unicef                   dwe     False\n",
              "17                       unicef                   dwe     False\n",
              "18                       hesawa                   dwe     False\n",
              "19                       danida                 danid     False\n",
              "20                          twe                   twe      True\n",
              "21                         dwsp                   dwe     False\n",
              "22                       unicef                   dwe     False\n",
              "23                          isf                   isf      True\n",
              "24     african development bank                   dwe     False\n",
              "25       government of tanzania                   dwe     False\n",
              "26                       sobodo           kilolo star     False\n",
              "27                       hesawa                   dwe     False\n",
              "28       government of tanzania      district council     False\n",
              "29      lawatefuka water supply  lawatefuka water sup     False\n",
              "...                         ...                   ...       ...\n",
              "59370                       NaN                   NaN     False\n",
              "59371               netherlands                   dwe     False\n",
              "59372                       tlc                   tlc      True\n",
              "59373                     rudep                distri     False\n",
              "59374                     rwssp                   dwe     False\n",
              "59375    government of tanzania                   dwe     False\n",
              "59376                       NaN                   NaN     False\n",
              "59377    government of tanzania            government     False\n",
              "59378                        rc                  acra     False\n",
              "59379                        do                    do      True\n",
              "59380                     roman                 roman      True\n",
              "59381       mkinga distric coun                   dwe     False\n",
              "59382                 ces(gmbh)                   dwe     False\n",
              "59383                world bank            world bank      True\n",
              "59384                   concern               concern      True\n",
              "59385                     jaica              jaica co     False\n",
              "59386                       adb                   dwe     False\n",
              "59387                         0                     0      True\n",
              "59388                     kidep                   dwe     False\n",
              "59389                        co                   dwe     False\n",
              "59390                     rudep                   dwe     False\n",
              "59391    government of tanzania            government     False\n",
              "59392    government of tanzania            government     False\n",
              "59393                   private               private      True\n",
              "59394                world bank              ml appro     False\n",
              "59395           germany republi                   ces     False\n",
              "59396               cefa-njombe                  cefa     False\n",
              "59397                       NaN                   NaN     False\n",
              "59398                     malec                  musa     False\n",
              "59399                world bank                 world     False\n",
              "\n",
              "[59400 rows x 3 columns]"
            ]
          },
          "metadata": {
            "tags": []
          },
          "execution_count": 23
        }
      ]
    },
    {
      "cell_type": "code",
      "metadata": {
        "id": "j3c6xhE8xWLF",
        "colab_type": "code",
        "colab": {}
      },
      "source": [
        "type_and_unique(drop_features(fill_nulls(temp)))"
      ],
      "execution_count": 0,
      "outputs": []
    },
    {
      "cell_type": "markdown",
      "metadata": {
        "id": "dWtlvQGwzaq9",
        "colab_type": "text"
      },
      "source": [
        "####High Ordinality"
      ]
    },
    {
      "cell_type": "code",
      "metadata": {
        "id": "KZXA5qSAx473",
        "colab_type": "code",
        "colab": {}
      },
      "source": [
        "def reduce_ordinality(series,dump_stat='other',ords=20):\n",
        "  series = series.copy()\n",
        "  \n",
        "  values = (series.value_counts(normalize=True)[:ords].index.to_list())\n",
        "  series.loc[~series.isin(values)] = dump_stat\n",
        "  \n",
        "  return series\n",
        "\n",
        "def mass_ord_reduce(df,features):\n",
        "  df = df.copy()\n",
        "  \n",
        "  for feature in features_dict:\n",
        "    df[feature] = reduce_ordinality(df[feature],ords = features_dict[feature])\n",
        "  \n",
        "  return df"
      ],
      "execution_count": 0,
      "outputs": []
    },
    {
      "cell_type": "code",
      "metadata": {
        "id": "tUnGrMAa_P6w",
        "colab_type": "code",
        "colab": {}
      },
      "source": [
        "#Look at all high ordinality features, reduce funder and installer.\n",
        "#Drop: 'ward','subvillage','scheme_name','wpt_name'\n",
        "\n",
        "# mass_ord_reduce(temp,{'funder':19,'installer':12})\n",
        "\n",
        "# temp['wpt_name'].value_counts(normalize=True)[:34].sum()\n",
        "# temp['wpt_name'].value_counts(normalize=True)[:34]"
      ],
      "execution_count": 0,
      "outputs": []
    },
    {
      "cell_type": "markdown",
      "metadata": {
        "id": "v_GT64AtBGDY",
        "colab_type": "text"
      },
      "source": [
        "####Misc."
      ]
    },
    {
      "cell_type": "code",
      "metadata": {
        "id": "uGqSeatNBIWA",
        "colab_type": "code",
        "outputId": "c5b766d4-acdf-445b-ccea-4ed20156e86e",
        "colab": {
          "base_uri": "https://localhost:8080/",
          "height": 73
        }
      },
      "source": [
        "#boolean, leave alone\n",
        "train['public_meeting'].value_counts()"
      ],
      "execution_count": 0,
      "outputs": [
        {
          "output_type": "execute_result",
          "data": {
            "text/plain": [
              "True     51011\n",
              "False     5055\n",
              "Name: public_meeting, dtype: int64"
            ]
          },
          "metadata": {
            "tags": []
          },
          "execution_count": 165
        }
      ]
    },
    {
      "cell_type": "code",
      "metadata": {
        "id": "ED9iP5v8BRo7",
        "colab_type": "code",
        "outputId": "6466b259-3196-41ca-9df2-c08546adb79f",
        "colab": {
          "base_uri": "https://localhost:8080/",
          "height": 73
        }
      },
      "source": [
        "#boolean, leave alone\n",
        "train['permit'].value_counts()"
      ],
      "execution_count": 0,
      "outputs": [
        {
          "output_type": "execute_result",
          "data": {
            "text/plain": [
              "True     38852\n",
              "False    17492\n",
              "Name: permit, dtype: int64"
            ]
          },
          "metadata": {
            "tags": []
          },
          "execution_count": 166
        }
      ]
    },
    {
      "cell_type": "code",
      "metadata": {
        "id": "3nJtSMzUBWw4",
        "colab_type": "code",
        "outputId": "35a1ca2f-c87c-48d3-8163-1fed962ba08d",
        "colab": {
          "base_uri": "https://localhost:8080/",
          "height": 55
        }
      },
      "source": [
        "#single value for all, drop\n",
        "train['recorded_by'].value_counts()"
      ],
      "execution_count": 0,
      "outputs": [
        {
          "output_type": "execute_result",
          "data": {
            "text/plain": [
              "GeoData Consultants Ltd    59400\n",
              "Name: recorded_by, dtype: int64"
            ]
          },
          "metadata": {
            "tags": []
          },
          "execution_count": 170
        }
      ]
    },
    {
      "cell_type": "code",
      "metadata": {
        "id": "nkN_ISyREZ7n",
        "colab_type": "code",
        "outputId": "3ea53198-9707-422d-ead6-f44f52821262",
        "colab": {
          "base_uri": "https://localhost:8080/",
          "height": 261
        }
      },
      "source": [
        "temp['management'].value_counts()"
      ],
      "execution_count": 0,
      "outputs": [
        {
          "output_type": "execute_result",
          "data": {
            "text/plain": [
              "vwc                 40507\n",
              "wug                  6515\n",
              "water board          2933\n",
              "wua                  2535\n",
              "private operator     1971\n",
              "parastatal           1768\n",
              "water authority       904\n",
              "other                 844\n",
              "company               685\n",
              "unknown               561\n",
              "other - school         99\n",
              "trust                  78\n",
              "Name: management, dtype: int64"
            ]
          },
          "metadata": {
            "tags": []
          },
          "execution_count": 173
        }
      ]
    },
    {
      "cell_type": "code",
      "metadata": {
        "id": "B0Mfq8uzDkOI",
        "colab_type": "code",
        "colab": {}
      },
      "source": [
        "temp.loc[temp['source'] == 'unknown','source'] = 'other'\n",
        "temp.loc[temp['payment_type'] == 'unknown','payment_type'] = 'other'\n",
        "temp.loc[(temp['management'] == 'unknown') | \n",
        "         (temp['management'] == 'other - school') | \n",
        "         (temp['management'] == 'trust'),'management'] = 'other'"
      ],
      "execution_count": 0,
      "outputs": []
    },
    {
      "cell_type": "markdown",
      "metadata": {
        "id": "KucW0nFo_dbN",
        "colab_type": "text"
      },
      "source": [
        "####Encoding"
      ]
    },
    {
      "cell_type": "code",
      "metadata": {
        "id": "w8x6jsRw_iJ2",
        "colab_type": "code",
        "outputId": "2dc0bd2c-71ed-40d2-d4b1-a35415114401",
        "colab": {
          "base_uri": "https://localhost:8080/",
          "height": 375
        }
      },
      "source": [
        "type_and_unique(drop_features(fill_nulls(temp)))"
      ],
      "execution_count": 0,
      "outputs": [
        {
          "output_type": "stream",
          "text": [
            "Column                 Type      nUnique  Unique Values\n",
            "---------------------  ------  ---------  -------------------------------------------------------------------------------------------------------------------------\n",
            "date_recorded          object        356  2011-03-14, 2013-03-06, 2013-02-25, 2013-01-28, 2011-07-13, 2011-03-13, 2012-10-01, 2012-10-09, 2012-11-03, 2011-08-03...\n",
            "funder                 object       1898  roman, grumeti, lottery club, unicef, action in a, mkinga distric coun, dwsp, rwssp, wateraid, isingiro ho...\n",
            "installer              object       1936  roman, grumeti, world vision, unicef, artisan, dwe, dwsp, water aid, private, danida...\n",
            "basin                  object          9  lake nyasa, lake victoria, pangani, ruvuma / southern coast, internal, lake tanganyika, wami / ruvu, rufiji, lake rukwa\n",
            "region                 object         21  iringa, mara, manyara, mtwara, kagera, tanga, shinyanga, tabora, pwani, ruvuma...\n",
            "lga                    object        125  ludewa, serengeti, simanjiro, nanyumbu, karagwe, mkinga, shinyanga rural, kahama, tabora urban, mkuranga...\n",
            "public_meeting         bool            1  True\n",
            "permit                 bool            1  False\n",
            "extraction_type_group  object         13  gravity, submersible, swn 80, nira/tanira, india mark ii, other, mono, wind-powered, afridev, rope pump...\n",
            "management             object          9  vwc, wug, other, private operator, water board, wua, company, water authority, parastatal\n",
            "payment_type           object          6  annually, never pay, per bucket, other, on failure, monthly\n",
            "water_quality          object          8  soft, salty, milky, unknown, fluoride, coloured, salty abandoned, fluoride abandoned\n",
            "quantity               object          5  enough, insufficient, dry, seasonal, unknown\n",
            "source                 object          9  spring, rainwater harvesting, dam, machine dbh, other, shallow well, river, hand dtw, lake\n",
            "source_class           object          3  groundwater, surface, unknown\n",
            "waterpoint_type        object          7  communal standpipe, communal standpipe multiple, hand pump, other, improved spring, cattle trough, dam\n"
          ],
          "name": "stdout"
        }
      ]
    },
    {
      "cell_type": "code",
      "metadata": {
        "id": "odyfGec8AcAC",
        "colab_type": "code",
        "colab": {}
      },
      "source": [
        "def encode(df):\n",
        "  df = df.copy()\n",
        "  \n",
        "  high_ord_features = ['funder','installer','region',\n",
        "                       'lga','extraction_type_group']\n",
        "  low_ord_features = ['basin','management','payment_type','water_quality',\n",
        "                      'quantity','source','source_class','waterpoint_type']\n",
        "\n",
        "  ord_encode = ce.OrdinalEncoder()\n",
        "#   one_hot = ce.OneHotEncoder(cols=low_ord_features,use_cat_names=True)\n",
        "  \n",
        "  df = ord_encode.fit_transform(df)\n",
        "#   df = one_hot.fit_transform(df)\n",
        "  \n",
        "  return df"
      ],
      "execution_count": 0,
      "outputs": []
    },
    {
      "cell_type": "markdown",
      "metadata": {
        "id": "FxA-pNfngXxO",
        "colab_type": "text"
      },
      "source": [
        "##Verify It"
      ]
    },
    {
      "cell_type": "code",
      "metadata": {
        "id": "nDFjxYpTbHWG",
        "colab_type": "code",
        "colab": {}
      },
      "source": [
        "def scaling(df):\n",
        "  df = df.copy()\n",
        "  \n",
        "  scaler = RobustScaler() #look at doing this with MinMaxScaler\n",
        "  df[['amount_tsh']] = scaler.fit_transform(df[['amount_tsh']])\n",
        "  df[['population']] = scaler.fit_transform(df[['population']])\n",
        "  df[['gps_height']] = scaler.fit_transform(df[['gps_height']])\n",
        "  ###Maybe scale num_private\n",
        "  \n",
        "  return df\n",
        "\n",
        "def time_manipulation(df):\n",
        "  df = df.copy()\n",
        "  \n",
        "  df['date_recorded'] = pd.to_datetime(df['date_recorded'])\n",
        "  #future proof these calculations for age\n",
        "  current_year = datetime.now().year\n",
        "  df['age'] = (current_year - df['construction_year'])\n",
        "  f_proof = ((df['age'] == current_year) & \n",
        "            (df['date_recorded'].dt.year != current_year))\n",
        "  df.loc[f_proof,'age'] = df[df['age'] < current_year]['age'].median()\n",
        "  df['age'] = df['age'].astype(int)\n",
        "    \n",
        "  return df\n",
        "\n",
        "def misc_engineering(df):\n",
        "  df = df.copy()\n",
        "  \n",
        "  df['num_private_bool'] = False\n",
        "  df.loc[df['num_private'] != 0,'num_private_bool'] = True\n",
        "  df.loc[df['amount_tsh'] == 0,'amount_tsh'] = df['amount_tsh'].median()\n",
        "  \n",
        "  return df\n",
        "\n",
        "def categoricals(df):\n",
        "  df = df.copy()\n",
        "  \n",
        "#   df = lower_case_dataframe(df)\n",
        "  df = mass_ord_reduce(df,{'funder':19,'installer':12})\n",
        "  df.loc[df['source'] == 'unknown','source'] = 'other'\n",
        "  df.loc[df['payment_type'] == 'unknown','payment_type'] = 'other'\n",
        "  df.loc[(df['management']  == 'unknown') | \n",
        "         (df['management']  == 'other - school') | \n",
        "         (df['management']  == 'trust'),'management'] = 'other'\n",
        "  df = encode(df)\n",
        "  \n",
        "  return df\n",
        "\n",
        "def drop_features(df):\n",
        "  df = df.copy()\n",
        "  \n",
        "  features = ['id', 'waterpoint_type_group', 'source_type', 'quantity_group', \n",
        "              'quality_group', 'payment', 'management_group', 'extraction_type',\n",
        "              'extraction_type_class', 'ward', 'subvillage', 'scheme_name',\n",
        "              'wpt_name', 'scheme_management', 'recorded_by', 'date_recorded', \n",
        "              'construction_year','num_private','region','lga','funder',\n",
        "              'installer','extraction_type_group','management',\n",
        "              'payment_type','quantity','source','waterpoint_type']\n",
        "              #num_private?\n",
        "  \n",
        "  return df.drop(features,axis='columns')\n",
        "\n",
        "def feature_engineer(df,scale=False):\n",
        "  df = df.copy()\n",
        "  \n",
        "  df = fill_nulls(df)\n",
        "  df = misc_engineering(df)\n",
        "  if scale == True:\n",
        "    df = scaling(df)\n",
        "  df = time_manipulation(df)\n",
        "  df = categoricals(df)\n",
        "  df = drop_features(df)\n",
        "  \n",
        "  return df"
      ],
      "execution_count": 0,
      "outputs": []
    },
    {
      "cell_type": "code",
      "metadata": {
        "id": "CE1MtIN2uThY",
        "colab_type": "code",
        "outputId": "043ada49-4bf2-43b5-8a95-6a82eb55f0a0",
        "colab": {
          "base_uri": "https://localhost:8080/",
          "height": 261
        }
      },
      "source": [
        "X_train, X_test, y_train, y_test, test = reset()\n",
        "feature_engineer(X_train).info()"
      ],
      "execution_count": 0,
      "outputs": [
        {
          "output_type": "stream",
          "text": [
            "<class 'pandas.core.frame.DataFrame'>\n",
            "Int64Index: 47520 entries, 3607 to 56422\n",
            "Data columns (total 8 columns):\n",
            "amount_tsh       47520 non-null float64\n",
            "gps_height       47520 non-null int64\n",
            "longitude        47520 non-null float64\n",
            "latitude         47520 non-null float64\n",
            "region_code      47520 non-null int64\n",
            "district_code    47520 non-null int64\n",
            "population       47520 non-null int64\n",
            "age              47520 non-null int64\n",
            "dtypes: float64(3), int64(5)\n",
            "memory usage: 3.3 MB\n"
          ],
          "name": "stdout"
        }
      ]
    },
    {
      "cell_type": "code",
      "metadata": {
        "id": "XO7ooUKgvtyr",
        "colab_type": "code",
        "outputId": "3f69cc46-417c-47b7-ccec-969e7a6ffd8d",
        "colab": {
          "base_uri": "https://localhost:8080/",
          "height": 167
        }
      },
      "source": [
        "X = feature_engineer(X_train)\n",
        "y = y_train\n",
        "\n",
        "forest = RandomForestClassifier(max_depth=None,n_estimators=500,\n",
        "                                n_jobs=-1,min_samples_leaf=5,)\n",
        "forest.fit(X,y)\n",
        "scores = cross_val_score(forest, X, y, cv=5,  \n",
        "                         scoring='accuracy', \n",
        "                         n_jobs=-1,verbose=10)\n",
        "\n",
        "print(scores)\n",
        "print(scores.mean())\n",
        "y_pred = forest.predict(feature_engineer(X_test))\n",
        "accuracy_score(y_test,y_pred)"
      ],
      "execution_count": 0,
      "outputs": [
        {
          "output_type": "stream",
          "text": [
            "[Parallel(n_jobs=-1)]: Using backend LokyBackend with 2 concurrent workers.\n",
            "[Parallel(n_jobs=-1)]: Done   1 tasks      | elapsed:   43.4s\n",
            "[Parallel(n_jobs=-1)]: Done   3 out of   5 | elapsed:  1.5min remaining:   58.5s\n",
            "[Parallel(n_jobs=-1)]: Done   5 out of   5 | elapsed:  1.9min remaining:    0.0s\n",
            "[Parallel(n_jobs=-1)]: Done   5 out of   5 | elapsed:  1.9min finished\n"
          ],
          "name": "stderr"
        },
        {
          "output_type": "stream",
          "text": [
            "[0.71638965 0.71930563 0.71009155 0.71387983 0.71724719]\n",
            "0.7153827679637343\n"
          ],
          "name": "stdout"
        },
        {
          "output_type": "execute_result",
          "data": {
            "text/plain": [
              "0.7239057239057239"
            ]
          },
          "metadata": {
            "tags": []
          },
          "execution_count": 251
        }
      ]
    },
    {
      "cell_type": "code",
      "metadata": {
        "id": "NJSkAXQrgsgI",
        "colab_type": "code",
        "outputId": "1829d5a3-4ddb-4f94-90da-f32b4ef588e3",
        "colab": {
          "base_uri": "https://localhost:8080/",
          "height": 73
        }
      },
      "source": [
        "confusion_matrix(y_test,y_pred)"
      ],
      "execution_count": 0,
      "outputs": [
        {
          "output_type": "execute_result",
          "data": {
            "text/plain": [
              "array([[5213,   35, 1209],\n",
              "       [ 509,  116,  226],\n",
              "       [1309,   24, 3239]])"
            ]
          },
          "metadata": {
            "tags": []
          },
          "execution_count": 240
        }
      ]
    },
    {
      "cell_type": "code",
      "metadata": {
        "id": "hqhlHhjS4kHQ",
        "colab_type": "code",
        "colab": {}
      },
      "source": [
        "X = feature_engineer(X_train,True).select_dtypes(include='number')\n",
        "y = y_train\n",
        "\n",
        "xgb = XGBClassifier(max_depth=15,n_estimators=500,\n",
        "                                n_jobs=-1,min_samples_leaf=2)\n",
        "xgb.fit(X,y)\n",
        "scores = cross_val_score(xgb, X, y, cv=5, \n",
        "                         scoring='accuracy', \n",
        "                         n_jobs=-1,verbose=10)\n",
        "\n",
        "print(scores)\n",
        "print(scores.mean())\n",
        "y_pred = xgb.predict(feature_engineer(X_test,True).select_dtypes(include='number'))\n",
        "accuracy_score(y_test,y_pred)"
      ],
      "execution_count": 0,
      "outputs": []
    },
    {
      "cell_type": "markdown",
      "metadata": {
        "id": "gWR4sUkCSZQ2",
        "colab_type": "text"
      },
      "source": [
        "#Rewrite"
      ]
    },
    {
      "cell_type": "markdown",
      "metadata": {
        "id": "p7pdkaMhFMii",
        "colab_type": "text"
      },
      "source": [
        "##Feature Engineering"
      ]
    },
    {
      "cell_type": "code",
      "metadata": {
        "id": "dIDCktmgustq",
        "colab_type": "code",
        "colab": {}
      },
      "source": [
        "def feature_engineer(df):\n",
        "  df = df.copy()\n",
        "  \n",
        "  ###date and time mods###\n",
        "  #construction has a year 0 which is extremely unlikely, set 0's to min year-1960\n",
        "  df.loc[df.construction_year <= 0, df.columns=='construction_year'] = 1960\n",
        "  #date_recorded isn't datetime so let's fix that and extract year and month\n",
        "  df['date_recorded'] = pd.to_datetime(df['date_recorded'])\n",
        "  df['record_year']   = df['date_recorded'].dt.year\n",
        "  df['record_month']  = df['date_recorded'].dt.month\n",
        "  #create inspect_wait to measure time from construction to inspection\n",
        "  df['inspect_wait'] = df['record_year'] - df['construction_year']\n",
        "  \n",
        "  ###Categoricals###\n",
        "  #set all strings to lowercase so we don't have miscounts from capitalization\n",
        "  cat_cols = train.select_dtypes(exclude='number').columns.tolist()\n",
        "  cat_cols.remove('date_recorded')\n",
        "  cat_cols.remove('permit')\n",
        "  cat_cols.remove('public_meeting')\n",
        "  df[cat_cols] = lower_case_dataframe(df[cat_cols])\n",
        "  #reduce the ordinality of the categoricals\n",
        "  df = mass_ord_reduce(df,cat_cols)\n",
        "   \n",
        "  ###Numerics###\n",
        "#   df['population'] = df['population'].apply(lambda x: np.log(x+1))\n",
        "  \n",
        "  #unnecessary features\n",
        "  drop_features = ['id','waterpoint_type_group','source_type','quantity_group', \n",
        "                   'quality_group','payment','management_group',\n",
        "                   'extraction_type','extraction_type_class','ward','subvillage',\n",
        "                   'scheme_name','wpt_name','scheme_management','recorded_by',\n",
        "                   'date_recorded']\n",
        "  df = df.drop(drop_features,axis='columns')\n",
        "  \n",
        "  #encode everything\n",
        "  encoder = ce.OrdinalEncoder()\n",
        "  df = encoder.fit_transform(df)\n",
        "  \n",
        "  return df"
      ],
      "execution_count": 0,
      "outputs": []
    },
    {
      "cell_type": "code",
      "metadata": {
        "id": "7VwrJgCZGeDe",
        "colab_type": "code",
        "outputId": "5379d718-8e9a-4ec3-d43a-260adb2caa34",
        "colab": {
          "base_uri": "https://localhost:8080/",
          "height": 135
        }
      },
      "source": [
        "X_train.head(1)"
      ],
      "execution_count": 0,
      "outputs": [
        {
          "output_type": "execute_result",
          "data": {
            "text/html": [
              "<div>\n",
              "<style scoped>\n",
              "    .dataframe tbody tr th:only-of-type {\n",
              "        vertical-align: middle;\n",
              "    }\n",
              "\n",
              "    .dataframe tbody tr th {\n",
              "        vertical-align: top;\n",
              "    }\n",
              "\n",
              "    .dataframe thead th {\n",
              "        text-align: right;\n",
              "    }\n",
              "</style>\n",
              "<table border=\"1\" class=\"dataframe\">\n",
              "  <thead>\n",
              "    <tr style=\"text-align: right;\">\n",
              "      <th></th>\n",
              "      <th>id</th>\n",
              "      <th>amount_tsh</th>\n",
              "      <th>date_recorded</th>\n",
              "      <th>funder</th>\n",
              "      <th>gps_height</th>\n",
              "      <th>installer</th>\n",
              "      <th>longitude</th>\n",
              "      <th>latitude</th>\n",
              "      <th>wpt_name</th>\n",
              "      <th>num_private</th>\n",
              "      <th>basin</th>\n",
              "      <th>subvillage</th>\n",
              "      <th>region</th>\n",
              "      <th>region_code</th>\n",
              "      <th>district_code</th>\n",
              "      <th>lga</th>\n",
              "      <th>ward</th>\n",
              "      <th>population</th>\n",
              "      <th>public_meeting</th>\n",
              "      <th>recorded_by</th>\n",
              "      <th>scheme_management</th>\n",
              "      <th>scheme_name</th>\n",
              "      <th>permit</th>\n",
              "      <th>construction_year</th>\n",
              "      <th>extraction_type</th>\n",
              "      <th>extraction_type_group</th>\n",
              "      <th>extraction_type_class</th>\n",
              "      <th>management</th>\n",
              "      <th>management_group</th>\n",
              "      <th>payment</th>\n",
              "      <th>payment_type</th>\n",
              "      <th>water_quality</th>\n",
              "      <th>quality_group</th>\n",
              "      <th>quantity</th>\n",
              "      <th>quantity_group</th>\n",
              "      <th>source</th>\n",
              "      <th>source_type</th>\n",
              "      <th>source_class</th>\n",
              "      <th>waterpoint_type</th>\n",
              "      <th>waterpoint_type_group</th>\n",
              "    </tr>\n",
              "  </thead>\n",
              "  <tbody>\n",
              "    <tr>\n",
              "      <th>3607</th>\n",
              "      <td>454</td>\n",
              "      <td>50.0</td>\n",
              "      <td>2013-02-27</td>\n",
              "      <td>Dmdd</td>\n",
              "      <td>2092</td>\n",
              "      <td>DMDD</td>\n",
              "      <td>35.42602</td>\n",
              "      <td>-4.227446</td>\n",
              "      <td>Narmo</td>\n",
              "      <td>0</td>\n",
              "      <td>Internal</td>\n",
              "      <td>Bashnet Kati</td>\n",
              "      <td>Manyara</td>\n",
              "      <td>21</td>\n",
              "      <td>1</td>\n",
              "      <td>Babati</td>\n",
              "      <td>Bashinet</td>\n",
              "      <td>160</td>\n",
              "      <td>True</td>\n",
              "      <td>GeoData Consultants Ltd</td>\n",
              "      <td>Water Board</td>\n",
              "      <td>NaN</td>\n",
              "      <td>True</td>\n",
              "      <td>1998</td>\n",
              "      <td>gravity</td>\n",
              "      <td>gravity</td>\n",
              "      <td>gravity</td>\n",
              "      <td>water board</td>\n",
              "      <td>user-group</td>\n",
              "      <td>pay per bucket</td>\n",
              "      <td>per bucket</td>\n",
              "      <td>soft</td>\n",
              "      <td>good</td>\n",
              "      <td>insufficient</td>\n",
              "      <td>insufficient</td>\n",
              "      <td>spring</td>\n",
              "      <td>spring</td>\n",
              "      <td>groundwater</td>\n",
              "      <td>communal standpipe</td>\n",
              "      <td>communal standpipe</td>\n",
              "    </tr>\n",
              "  </tbody>\n",
              "</table>\n",
              "</div>"
            ],
            "text/plain": [
              "       id  amount_tsh  ...     waterpoint_type waterpoint_type_group\n",
              "3607  454        50.0  ...  communal standpipe    communal standpipe\n",
              "\n",
              "[1 rows x 40 columns]"
            ]
          },
          "metadata": {
            "tags": []
          },
          "execution_count": 169
        }
      ]
    },
    {
      "cell_type": "markdown",
      "metadata": {
        "id": "VztoHYKHZeIm",
        "colab_type": "text"
      },
      "source": [
        "##Verify It"
      ]
    },
    {
      "cell_type": "code",
      "metadata": {
        "id": "6l7pAawsDrkr",
        "colab_type": "code",
        "outputId": "f59b77b9-2547-4032-d78b-6564d7b03008",
        "colab": {
          "base_uri": "https://localhost:8080/",
          "height": 206
        }
      },
      "source": [
        "X_train = feature_engineer(X_train)\n",
        "X_test  = feature_engineer(X_test)\n",
        "\n",
        "forest  = RandomForestClassifier(n_estimators=1500, \n",
        "                                 min_samples_split=5, \n",
        "                                 n_jobs=-1)\n",
        "forest.fit(X_train,y_train)\n",
        "scores = cross_val_score(forest, X_train, y_train, cv=5,  \n",
        "                         scoring='accuracy', \n",
        "                         n_jobs=-1,verbose=10)\n",
        "\n",
        "print(scores)\n",
        "print(scores.mean())"
      ],
      "execution_count": 0,
      "outputs": [
        {
          "output_type": "stream",
          "text": [
            "[Parallel(n_jobs=-1)]: Using backend LokyBackend with 2 concurrent workers.\n",
            "[Parallel(n_jobs=-1)]: Done   1 tasks      | elapsed:  3.3min\n",
            "[Parallel(n_jobs=-1)]: Done   3 out of   5 | elapsed:  6.6min remaining:  4.4min\n",
            "/usr/local/lib/python3.6/dist-packages/sklearn/externals/joblib/externals/loky/process_executor.py:706: UserWarning: A worker stopped while some jobs were given to the executor. This can be caused by a too short worker timeout or by a memory leak.\n",
            "  \"timeout or by a memory leak.\", UserWarning\n"
          ],
          "name": "stderr"
        },
        {
          "output_type": "stream",
          "text": [
            "[0.80464969 0.80452393 0.80700831 0.80753446 0.80616647]\n",
            "0.8059765758822618\n"
          ],
          "name": "stdout"
        },
        {
          "output_type": "stream",
          "text": [
            "[Parallel(n_jobs=-1)]: Done   5 out of   5 | elapsed:  8.4min remaining:    0.0s\n",
            "[Parallel(n_jobs=-1)]: Done   5 out of   5 | elapsed:  8.4min finished\n"
          ],
          "name": "stderr"
        }
      ]
    },
    {
      "cell_type": "code",
      "metadata": {
        "id": "ZbgTMkSdMOer",
        "colab_type": "code",
        "outputId": "a1d9220f-605e-4767-9add-0b89a8400373",
        "colab": {
          "base_uri": "https://localhost:8080/",
          "height": 36
        }
      },
      "source": [
        "y_pred = forest.predict(feature_engineer(X_test))\n",
        "accuracy_score(y_test,y_pred)"
      ],
      "execution_count": 0,
      "outputs": [
        {
          "output_type": "execute_result",
          "data": {
            "text/plain": [
              "0.39015151515151514"
            ]
          },
          "metadata": {
            "tags": []
          },
          "execution_count": 175
        }
      ]
    },
    {
      "cell_type": "markdown",
      "metadata": {
        "id": "twy_l3h3hmIl",
        "colab_type": "text"
      },
      "source": [
        "#Tabula Rasa"
      ]
    },
    {
      "cell_type": "markdown",
      "metadata": {
        "id": "w0KqWZNDZzW7",
        "colab_type": "text"
      },
      "source": [
        "##Import and Load"
      ]
    },
    {
      "cell_type": "code",
      "metadata": {
        "id": "gg6rj6ZCEfWx",
        "colab_type": "code",
        "outputId": "5b63f773-b87a-4815-9b58-7434e6dff166",
        "colab": {
          "base_uri": "https://localhost:8080/",
          "height": 338
        }
      },
      "source": [
        "!pip install eli5"
      ],
      "execution_count": 0,
      "outputs": [
        {
          "output_type": "stream",
          "text": [
            "Collecting eli5\n",
            "\u001b[?25l  Downloading https://files.pythonhosted.org/packages/ee/2b/246db9e1c2d6f38e999daf0c4d5e54f36fbd0b937ffb13a34d32c2139403/eli5-0.8.2-py2.py3-none-any.whl (98kB)\n",
            "\u001b[K     |████████████████████████████████| 102kB 1.6MB/s \n",
            "\u001b[?25hRequirement already satisfied: attrs>16.0.0 in /usr/local/lib/python3.6/dist-packages (from eli5) (19.1.0)\n",
            "Requirement already satisfied: tabulate>=0.7.7 in /usr/local/lib/python3.6/dist-packages (from eli5) (0.8.3)\n",
            "Requirement already satisfied: scipy in /usr/local/lib/python3.6/dist-packages (from eli5) (1.3.0)\n",
            "Requirement already satisfied: scikit-learn>=0.18 in /usr/local/lib/python3.6/dist-packages (from eli5) (0.21.1)\n",
            "Requirement already satisfied: six in /usr/local/lib/python3.6/dist-packages (from eli5) (1.12.0)\n",
            "Requirement already satisfied: numpy>=1.9.0 in /usr/local/lib/python3.6/dist-packages (from eli5) (1.16.3)\n",
            "Requirement already satisfied: typing in /usr/local/lib/python3.6/dist-packages (from eli5) (3.6.6)\n",
            "Requirement already satisfied: graphviz in /usr/local/lib/python3.6/dist-packages (from eli5) (0.10.1)\n",
            "Requirement already satisfied: jinja2 in /usr/local/lib/python3.6/dist-packages (from eli5) (2.10.1)\n",
            "Requirement already satisfied: joblib>=0.11 in /usr/local/lib/python3.6/dist-packages (from scikit-learn>=0.18->eli5) (0.12.5)\n",
            "Requirement already satisfied: MarkupSafe>=0.23 in /usr/local/lib/python3.6/dist-packages (from jinja2->eli5) (1.1.1)\n",
            "Installing collected packages: eli5\n",
            "Successfully installed eli5-0.8.2\n"
          ],
          "name": "stdout"
        }
      ]
    },
    {
      "cell_type": "code",
      "metadata": {
        "id": "ciPeyJNWEw5v",
        "colab_type": "code",
        "outputId": "72bf5e0a-9e5b-47ad-c38e-90db2204f7e7",
        "colab": {
          "base_uri": "https://localhost:8080/",
          "height": 319
        }
      },
      "source": [
        "!pip install category_encoders"
      ],
      "execution_count": 0,
      "outputs": [
        {
          "output_type": "stream",
          "text": [
            "Collecting category_encoders\n",
            "\u001b[?25l  Downloading https://files.pythonhosted.org/packages/6e/a1/f7a22f144f33be78afeb06bfa78478e8284a64263a3c09b1ef54e673841e/category_encoders-2.0.0-py2.py3-none-any.whl (87kB)\n",
            "\u001b[K     |████████████████████████████████| 92kB 2.3MB/s \n",
            "\u001b[?25hRequirement already satisfied: pandas>=0.21.1 in /usr/local/lib/python3.6/dist-packages (from category_encoders) (0.24.2)\n",
            "Requirement already satisfied: numpy>=1.11.3 in /usr/local/lib/python3.6/dist-packages (from category_encoders) (1.16.3)\n",
            "Requirement already satisfied: statsmodels>=0.6.1 in /usr/local/lib/python3.6/dist-packages (from category_encoders) (0.9.0)\n",
            "Requirement already satisfied: patsy>=0.4.1 in /usr/local/lib/python3.6/dist-packages (from category_encoders) (0.5.1)\n",
            "Requirement already satisfied: scipy>=0.19.0 in /usr/local/lib/python3.6/dist-packages (from category_encoders) (1.3.0)\n",
            "Requirement already satisfied: scikit-learn>=0.20.0 in /usr/local/lib/python3.6/dist-packages (from category_encoders) (0.21.1)\n",
            "Requirement already satisfied: python-dateutil>=2.5.0 in /usr/local/lib/python3.6/dist-packages (from pandas>=0.21.1->category_encoders) (2.5.3)\n",
            "Requirement already satisfied: pytz>=2011k in /usr/local/lib/python3.6/dist-packages (from pandas>=0.21.1->category_encoders) (2018.9)\n",
            "Requirement already satisfied: six in /usr/local/lib/python3.6/dist-packages (from patsy>=0.4.1->category_encoders) (1.12.0)\n",
            "Requirement already satisfied: joblib>=0.11 in /usr/local/lib/python3.6/dist-packages (from scikit-learn>=0.20.0->category_encoders) (0.12.5)\n",
            "Installing collected packages: category-encoders\n",
            "Successfully installed category-encoders-2.0.0\n"
          ],
          "name": "stdout"
        }
      ]
    },
    {
      "cell_type": "code",
      "metadata": {
        "id": "jwYDMl9VEfXJ",
        "colab_type": "code",
        "colab": {}
      },
      "source": [
        "import pandas as pd\n",
        "import numpy as np\n",
        "import category_encoders as ce\n",
        "from xgboost import XGBClassifier\n",
        "from sklearn.ensemble import RandomForestClassifier\n",
        "from sklearn.model_selection import train_test_split\n",
        "from sklearn.model_selection import RandomizedSearchCV\n",
        "from sklearn.metrics import accuracy_score\n",
        "from eli5.sklearn import PermutationImportance\n",
        "from eli5 import show_weights"
      ],
      "execution_count": 0,
      "outputs": []
    },
    {
      "cell_type": "code",
      "metadata": {
        "id": "jPikAaZKEfXR",
        "colab_type": "code",
        "colab": {}
      },
      "source": [
        "#read in and make sure we can see all columns\n",
        "pd.set_option('display.max_columns', 100)\n",
        "\n",
        "X_train = pd.read_csv('train_features.csv')\n",
        "X_test = pd.read_csv('test_features.csv')\n",
        "y_train = pd.read_csv('train_labels.csv')"
      ],
      "execution_count": 0,
      "outputs": []
    },
    {
      "cell_type": "code",
      "metadata": {
        "id": "QgNtEm3hE9hH",
        "colab_type": "code",
        "outputId": "181e3aa3-59f8-4f1a-e8ec-cd0a25b99a34",
        "colab": {
          "base_uri": "https://localhost:8080/",
          "height": 201
        }
      },
      "source": [
        "#I've done plenty of EDA by this point so just checking that nothing looks odd\n",
        "X_train.head(2)"
      ],
      "execution_count": 0,
      "outputs": [
        {
          "output_type": "execute_result",
          "data": {
            "text/html": [
              "<div>\n",
              "<style scoped>\n",
              "    .dataframe tbody tr th:only-of-type {\n",
              "        vertical-align: middle;\n",
              "    }\n",
              "\n",
              "    .dataframe tbody tr th {\n",
              "        vertical-align: top;\n",
              "    }\n",
              "\n",
              "    .dataframe thead th {\n",
              "        text-align: right;\n",
              "    }\n",
              "</style>\n",
              "<table border=\"1\" class=\"dataframe\">\n",
              "  <thead>\n",
              "    <tr style=\"text-align: right;\">\n",
              "      <th></th>\n",
              "      <th>id</th>\n",
              "      <th>amount_tsh</th>\n",
              "      <th>date_recorded</th>\n",
              "      <th>funder</th>\n",
              "      <th>gps_height</th>\n",
              "      <th>installer</th>\n",
              "      <th>longitude</th>\n",
              "      <th>latitude</th>\n",
              "      <th>wpt_name</th>\n",
              "      <th>num_private</th>\n",
              "      <th>basin</th>\n",
              "      <th>subvillage</th>\n",
              "      <th>region</th>\n",
              "      <th>region_code</th>\n",
              "      <th>district_code</th>\n",
              "      <th>lga</th>\n",
              "      <th>ward</th>\n",
              "      <th>population</th>\n",
              "      <th>public_meeting</th>\n",
              "      <th>recorded_by</th>\n",
              "      <th>scheme_management</th>\n",
              "      <th>scheme_name</th>\n",
              "      <th>permit</th>\n",
              "      <th>construction_year</th>\n",
              "      <th>extraction_type</th>\n",
              "      <th>extraction_type_group</th>\n",
              "      <th>extraction_type_class</th>\n",
              "      <th>management</th>\n",
              "      <th>management_group</th>\n",
              "      <th>payment</th>\n",
              "      <th>payment_type</th>\n",
              "      <th>water_quality</th>\n",
              "      <th>quality_group</th>\n",
              "      <th>quantity</th>\n",
              "      <th>quantity_group</th>\n",
              "      <th>source</th>\n",
              "      <th>source_type</th>\n",
              "      <th>source_class</th>\n",
              "      <th>waterpoint_type</th>\n",
              "      <th>waterpoint_type_group</th>\n",
              "    </tr>\n",
              "  </thead>\n",
              "  <tbody>\n",
              "    <tr>\n",
              "      <th>0</th>\n",
              "      <td>69572</td>\n",
              "      <td>6000.0</td>\n",
              "      <td>2011-03-14</td>\n",
              "      <td>Roman</td>\n",
              "      <td>1390</td>\n",
              "      <td>Roman</td>\n",
              "      <td>34.938093</td>\n",
              "      <td>-9.856322</td>\n",
              "      <td>none</td>\n",
              "      <td>0</td>\n",
              "      <td>Lake Nyasa</td>\n",
              "      <td>Mnyusi B</td>\n",
              "      <td>Iringa</td>\n",
              "      <td>11</td>\n",
              "      <td>5</td>\n",
              "      <td>Ludewa</td>\n",
              "      <td>Mundindi</td>\n",
              "      <td>109</td>\n",
              "      <td>True</td>\n",
              "      <td>GeoData Consultants Ltd</td>\n",
              "      <td>VWC</td>\n",
              "      <td>Roman</td>\n",
              "      <td>False</td>\n",
              "      <td>1999</td>\n",
              "      <td>gravity</td>\n",
              "      <td>gravity</td>\n",
              "      <td>gravity</td>\n",
              "      <td>vwc</td>\n",
              "      <td>user-group</td>\n",
              "      <td>pay annually</td>\n",
              "      <td>annually</td>\n",
              "      <td>soft</td>\n",
              "      <td>good</td>\n",
              "      <td>enough</td>\n",
              "      <td>enough</td>\n",
              "      <td>spring</td>\n",
              "      <td>spring</td>\n",
              "      <td>groundwater</td>\n",
              "      <td>communal standpipe</td>\n",
              "      <td>communal standpipe</td>\n",
              "    </tr>\n",
              "    <tr>\n",
              "      <th>1</th>\n",
              "      <td>8776</td>\n",
              "      <td>0.0</td>\n",
              "      <td>2013-03-06</td>\n",
              "      <td>Grumeti</td>\n",
              "      <td>1399</td>\n",
              "      <td>GRUMETI</td>\n",
              "      <td>34.698766</td>\n",
              "      <td>-2.147466</td>\n",
              "      <td>Zahanati</td>\n",
              "      <td>0</td>\n",
              "      <td>Lake Victoria</td>\n",
              "      <td>Nyamara</td>\n",
              "      <td>Mara</td>\n",
              "      <td>20</td>\n",
              "      <td>2</td>\n",
              "      <td>Serengeti</td>\n",
              "      <td>Natta</td>\n",
              "      <td>280</td>\n",
              "      <td>NaN</td>\n",
              "      <td>GeoData Consultants Ltd</td>\n",
              "      <td>Other</td>\n",
              "      <td>NaN</td>\n",
              "      <td>True</td>\n",
              "      <td>2010</td>\n",
              "      <td>gravity</td>\n",
              "      <td>gravity</td>\n",
              "      <td>gravity</td>\n",
              "      <td>wug</td>\n",
              "      <td>user-group</td>\n",
              "      <td>never pay</td>\n",
              "      <td>never pay</td>\n",
              "      <td>soft</td>\n",
              "      <td>good</td>\n",
              "      <td>insufficient</td>\n",
              "      <td>insufficient</td>\n",
              "      <td>rainwater harvesting</td>\n",
              "      <td>rainwater harvesting</td>\n",
              "      <td>surface</td>\n",
              "      <td>communal standpipe</td>\n",
              "      <td>communal standpipe</td>\n",
              "    </tr>\n",
              "  </tbody>\n",
              "</table>\n",
              "</div>"
            ],
            "text/plain": [
              "      id  amount_tsh date_recorded   funder  gps_height installer  longitude  \\\n",
              "0  69572      6000.0    2011-03-14    Roman        1390     Roman  34.938093   \n",
              "1   8776         0.0    2013-03-06  Grumeti        1399   GRUMETI  34.698766   \n",
              "\n",
              "   latitude  wpt_name  num_private          basin subvillage  region  \\\n",
              "0 -9.856322      none            0     Lake Nyasa   Mnyusi B  Iringa   \n",
              "1 -2.147466  Zahanati            0  Lake Victoria    Nyamara    Mara   \n",
              "\n",
              "   region_code  district_code        lga      ward  population public_meeting  \\\n",
              "0           11              5     Ludewa  Mundindi         109           True   \n",
              "1           20              2  Serengeti     Natta         280            NaN   \n",
              "\n",
              "               recorded_by scheme_management scheme_name permit  \\\n",
              "0  GeoData Consultants Ltd               VWC       Roman  False   \n",
              "1  GeoData Consultants Ltd             Other         NaN   True   \n",
              "\n",
              "   construction_year extraction_type extraction_type_group  \\\n",
              "0               1999         gravity               gravity   \n",
              "1               2010         gravity               gravity   \n",
              "\n",
              "  extraction_type_class management management_group       payment  \\\n",
              "0               gravity        vwc       user-group  pay annually   \n",
              "1               gravity        wug       user-group     never pay   \n",
              "\n",
              "  payment_type water_quality quality_group      quantity quantity_group  \\\n",
              "0     annually          soft          good        enough         enough   \n",
              "1    never pay          soft          good  insufficient   insufficient   \n",
              "\n",
              "                 source           source_type source_class  \\\n",
              "0                spring                spring  groundwater   \n",
              "1  rainwater harvesting  rainwater harvesting      surface   \n",
              "\n",
              "      waterpoint_type waterpoint_type_group  \n",
              "0  communal standpipe    communal standpipe  \n",
              "1  communal standpipe    communal standpipe  "
            ]
          },
          "metadata": {
            "tags": []
          },
          "execution_count": 67
        }
      ]
    },
    {
      "cell_type": "markdown",
      "metadata": {
        "id": "MK5Ze9oiZ7KQ",
        "colab_type": "text"
      },
      "source": [
        "##Fast First"
      ]
    },
    {
      "cell_type": "code",
      "metadata": {
        "id": "XVSD9xC0F_xJ",
        "colab_type": "code",
        "colab": {}
      },
      "source": [
        "#Run model below and then use permutation importance to drop features\n",
        "drop_features = ['date_recorded','id','recorded_by','num_private',\n",
        "                 'management_group','wpt_name','region_code','district_code',\n",
        "                 'basin','payment','extraction_type_group','source',\n",
        "                 'source_type']\n",
        "X_train = X_train.drop(drop_features,axis='columns')\n",
        "X_test  = X_test.drop(drop_features,axis='columns')"
      ],
      "execution_count": 0,
      "outputs": []
    },
    {
      "cell_type": "code",
      "metadata": {
        "id": "L0W6-SSCEfXg",
        "colab_type": "code",
        "colab": {}
      },
      "source": [
        "#split X_train to training and validation\n",
        "X_train, X_val, y_train, y_val = train_test_split(X_train, y_train, random_state=42, test_size=.2)"
      ],
      "execution_count": 0,
      "outputs": []
    },
    {
      "cell_type": "code",
      "metadata": {
        "id": "Tc-X8-WliadI",
        "colab_type": "code",
        "colab": {}
      },
      "source": [
        "#encode our categoricals\n",
        "encoder = ce.OrdinalEncoder()\n",
        "X_train = encoder.fit_transform(X_train)"
      ],
      "execution_count": 0,
      "outputs": []
    },
    {
      "cell_type": "code",
      "metadata": {
        "id": "Env5oATyEfXm",
        "colab_type": "code",
        "outputId": "45651000-0077-46c6-e2a6-2558806c3e2b",
        "colab": {
          "base_uri": "https://localhost:8080/",
          "height": 206
        }
      },
      "source": [
        "#simple model that I had success with already\n",
        "forest = RandomForestClassifier(n_jobs=-1, random_state=42)\n",
        "\n",
        "#Using randomized search cv isn't necessary at this stage but using it to have\n",
        "#a working option later when I really care about hyperparameter optimization\n",
        "param_distributions = {'n_estimators':[200],\n",
        "                       'max_depth':[20]}\n",
        "\n",
        "search = RandomizedSearchCV(forest, param_distributions=param_distributions,\n",
        "                            scoring='accuracy', n_iter=20, n_jobs=-1, cv=5,\n",
        "                            verbose=10, return_train_score=True, random_state=42)\n",
        "search.fit(X_train, y_train['status_group'])\n",
        "\n",
        "#Solid score but I have had misleading results, need to test on the validation\n",
        "print('Training Accuracy Score:',search.best_score_)"
      ],
      "execution_count": 0,
      "outputs": [
        {
          "output_type": "stream",
          "text": [
            "Fitting 5 folds for each of 1 candidates, totalling 5 fits\n"
          ],
          "name": "stdout"
        },
        {
          "output_type": "stream",
          "text": [
            "/usr/local/lib/python3.6/dist-packages/sklearn/model_selection/_search.py:266: UserWarning: The total space of parameters 1 is smaller than n_iter=5. Running 1 iterations. For exhaustive searches, use GridSearchCV.\n",
            "  % (grid_size, self.n_iter, grid_size), UserWarning)\n",
            "[Parallel(n_jobs=-1)]: Using backend LokyBackend with 2 concurrent workers.\n",
            "[Parallel(n_jobs=-1)]: Done   1 tasks      | elapsed:   35.3s\n",
            "[Parallel(n_jobs=-1)]: Done   3 out of   5 | elapsed:  1.2min remaining:   46.1s\n",
            "[Parallel(n_jobs=-1)]: Done   5 out of   5 | elapsed:  1.4min remaining:    0.0s\n",
            "[Parallel(n_jobs=-1)]: Done   5 out of   5 | elapsed:  1.4min finished\n"
          ],
          "name": "stderr"
        },
        {
          "output_type": "stream",
          "text": [
            "Training Accuracy Score: 0.8087121212121212\n"
          ],
          "name": "stdout"
        }
      ]
    },
    {
      "cell_type": "code",
      "metadata": {
        "id": "eD2-3qGaEfXu",
        "colab_type": "code",
        "outputId": "e460f4d6-0816-4643-ef6a-33f10680ddf4",
        "colab": {
          "base_uri": "https://localhost:8080/",
          "height": 36
        }
      },
      "source": [
        "#success! validation works as well\n",
        "best = search.best_estimator_\n",
        "X_val = encoder.transform(X_val)\n",
        "y_pred = best.predict(X_val)\n",
        "print('Validation Set Accuracy Score:', accuracy_score(y_val['status_group'], y_pred))"
      ],
      "execution_count": 0,
      "outputs": [
        {
          "output_type": "stream",
          "text": [
            "Validation Set Accuracy Score: 0.811952861952862\n"
          ],
          "name": "stdout"
        }
      ]
    },
    {
      "cell_type": "code",
      "metadata": {
        "scrolled": false,
        "id": "hbZqXQCREfYM",
        "colab_type": "code",
        "outputId": "8439f28f-f42a-4893-cdb1-5783b8171e19",
        "colab": {
          "base_uri": "https://localhost:8080/",
          "height": 503
        }
      },
      "source": [
        "import eli5\n",
        "from eli5.sklearn import PermutationImportance\n",
        "\n",
        "permuter = PermutationImportance(best, scoring='accuracy', cv='prefit', \n",
        "                                 n_iter=3, random_state=42)\n",
        "\n",
        "permuter.fit(X_val, y_val['status_group'])\n",
        "\n",
        "feature_names = X_val.columns.tolist()\n",
        "eli5.show_weights(permuter, top=None, feature_names=feature_names)"
      ],
      "execution_count": 0,
      "outputs": [
        {
          "output_type": "execute_result",
          "data": {
            "text/html": [
              "\n",
              "    <style>\n",
              "    table.eli5-weights tr:hover {\n",
              "        filter: brightness(85%);\n",
              "    }\n",
              "</style>\n",
              "\n",
              "\n",
              "\n",
              "    \n",
              "\n",
              "    \n",
              "\n",
              "    \n",
              "\n",
              "    \n",
              "\n",
              "    \n",
              "\n",
              "    \n",
              "\n",
              "\n",
              "    \n",
              "\n",
              "    \n",
              "\n",
              "    \n",
              "\n",
              "    \n",
              "\n",
              "    \n",
              "\n",
              "    \n",
              "\n",
              "\n",
              "    \n",
              "\n",
              "    \n",
              "\n",
              "    \n",
              "\n",
              "    \n",
              "\n",
              "    \n",
              "        <table class=\"eli5-weights eli5-feature-importances\" style=\"border-collapse: collapse; border: none; margin-top: 0em; table-layout: auto;\">\n",
              "    <thead>\n",
              "    <tr style=\"border: none;\">\n",
              "        <th style=\"padding: 0 1em 0 0.5em; text-align: right; border: none;\">Weight</th>\n",
              "        <th style=\"padding: 0 0.5em 0 0.5em; text-align: left; border: none;\">Feature</th>\n",
              "    </tr>\n",
              "    </thead>\n",
              "    <tbody>\n",
              "    \n",
              "        <tr style=\"background-color: hsl(120, 100.00%, 80.00%); border: none;\">\n",
              "            <td style=\"padding: 0 1em 0 0.5em; text-align: right; border: none;\">\n",
              "                0.0526\n",
              "                \n",
              "                    &plusmn; 0.0010\n",
              "                \n",
              "            </td>\n",
              "            <td style=\"padding: 0 0.5em 0 0.5em; text-align: left; border: none;\">\n",
              "                quantity_group\n",
              "            </td>\n",
              "        </tr>\n",
              "    \n",
              "        <tr style=\"background-color: hsl(120, 100.00%, 89.15%); border: none;\">\n",
              "            <td style=\"padding: 0 1em 0 0.5em; text-align: right; border: none;\">\n",
              "                0.0220\n",
              "                \n",
              "                    &plusmn; 0.0001\n",
              "                \n",
              "            </td>\n",
              "            <td style=\"padding: 0 0.5em 0 0.5em; text-align: left; border: none;\">\n",
              "                extraction_type_class\n",
              "            </td>\n",
              "        </tr>\n",
              "    \n",
              "        <tr style=\"background-color: hsl(120, 100.00%, 89.61%); border: none;\">\n",
              "            <td style=\"padding: 0 1em 0 0.5em; text-align: right; border: none;\">\n",
              "                0.0207\n",
              "                \n",
              "                    &plusmn; 0.0047\n",
              "                \n",
              "            </td>\n",
              "            <td style=\"padding: 0 0.5em 0 0.5em; text-align: left; border: none;\">\n",
              "                quantity\n",
              "            </td>\n",
              "        </tr>\n",
              "    \n",
              "        <tr style=\"background-color: hsl(120, 100.00%, 90.80%); border: none;\">\n",
              "            <td style=\"padding: 0 1em 0 0.5em; text-align: right; border: none;\">\n",
              "                0.0173\n",
              "                \n",
              "                    &plusmn; 0.0026\n",
              "                \n",
              "            </td>\n",
              "            <td style=\"padding: 0 0.5em 0 0.5em; text-align: left; border: none;\">\n",
              "                construction_year\n",
              "            </td>\n",
              "        </tr>\n",
              "    \n",
              "        <tr style=\"background-color: hsl(120, 100.00%, 91.40%); border: none;\">\n",
              "            <td style=\"padding: 0 1em 0 0.5em; text-align: right; border: none;\">\n",
              "                0.0158\n",
              "                \n",
              "                    &plusmn; 0.0010\n",
              "                \n",
              "            </td>\n",
              "            <td style=\"padding: 0 0.5em 0 0.5em; text-align: left; border: none;\">\n",
              "                longitude\n",
              "            </td>\n",
              "        </tr>\n",
              "    \n",
              "        <tr style=\"background-color: hsl(120, 100.00%, 92.08%); border: none;\">\n",
              "            <td style=\"padding: 0 1em 0 0.5em; text-align: right; border: none;\">\n",
              "                0.0140\n",
              "                \n",
              "                    &plusmn; 0.0007\n",
              "                \n",
              "            </td>\n",
              "            <td style=\"padding: 0 0.5em 0 0.5em; text-align: left; border: none;\">\n",
              "                amount_tsh\n",
              "            </td>\n",
              "        </tr>\n",
              "    \n",
              "        <tr style=\"background-color: hsl(120, 100.00%, 92.37%); border: none;\">\n",
              "            <td style=\"padding: 0 1em 0 0.5em; text-align: right; border: none;\">\n",
              "                0.0133\n",
              "                \n",
              "                    &plusmn; 0.0041\n",
              "                \n",
              "            </td>\n",
              "            <td style=\"padding: 0 0.5em 0 0.5em; text-align: left; border: none;\">\n",
              "                waterpoint_type\n",
              "            </td>\n",
              "        </tr>\n",
              "    \n",
              "        <tr style=\"background-color: hsl(120, 100.00%, 92.46%); border: none;\">\n",
              "            <td style=\"padding: 0 1em 0 0.5em; text-align: right; border: none;\">\n",
              "                0.0130\n",
              "                \n",
              "                    &plusmn; 0.0032\n",
              "                \n",
              "            </td>\n",
              "            <td style=\"padding: 0 0.5em 0 0.5em; text-align: left; border: none;\">\n",
              "                latitude\n",
              "            </td>\n",
              "        </tr>\n",
              "    \n",
              "        <tr style=\"background-color: hsl(120, 100.00%, 93.57%); border: none;\">\n",
              "            <td style=\"padding: 0 1em 0 0.5em; text-align: right; border: none;\">\n",
              "                0.0104\n",
              "                \n",
              "                    &plusmn; 0.0005\n",
              "                \n",
              "            </td>\n",
              "            <td style=\"padding: 0 0.5em 0 0.5em; text-align: left; border: none;\">\n",
              "                population\n",
              "            </td>\n",
              "        </tr>\n",
              "    \n",
              "        <tr style=\"background-color: hsl(120, 100.00%, 95.57%); border: none;\">\n",
              "            <td style=\"padding: 0 1em 0 0.5em; text-align: right; border: none;\">\n",
              "                0.0061\n",
              "                \n",
              "                    &plusmn; 0.0020\n",
              "                \n",
              "            </td>\n",
              "            <td style=\"padding: 0 0.5em 0 0.5em; text-align: left; border: none;\">\n",
              "                gps_height\n",
              "            </td>\n",
              "        </tr>\n",
              "    \n",
              "        <tr style=\"background-color: hsl(120, 100.00%, 95.81%); border: none;\">\n",
              "            <td style=\"padding: 0 1em 0 0.5em; text-align: right; border: none;\">\n",
              "                0.0056\n",
              "                \n",
              "                    &plusmn; 0.0004\n",
              "                \n",
              "            </td>\n",
              "            <td style=\"padding: 0 0.5em 0 0.5em; text-align: left; border: none;\">\n",
              "                payment_type\n",
              "            </td>\n",
              "        </tr>\n",
              "    \n",
              "        <tr style=\"background-color: hsl(120, 100.00%, 95.97%); border: none;\">\n",
              "            <td style=\"padding: 0 1em 0 0.5em; text-align: right; border: none;\">\n",
              "                0.0053\n",
              "                \n",
              "                    &plusmn; 0.0021\n",
              "                \n",
              "            </td>\n",
              "            <td style=\"padding: 0 0.5em 0 0.5em; text-align: left; border: none;\">\n",
              "                lga\n",
              "            </td>\n",
              "        </tr>\n",
              "    \n",
              "        <tr style=\"background-color: hsl(120, 100.00%, 96.15%); border: none;\">\n",
              "            <td style=\"padding: 0 1em 0 0.5em; text-align: right; border: none;\">\n",
              "                0.0050\n",
              "                \n",
              "                    &plusmn; 0.0009\n",
              "                \n",
              "            </td>\n",
              "            <td style=\"padding: 0 0.5em 0 0.5em; text-align: left; border: none;\">\n",
              "                extraction_type\n",
              "            </td>\n",
              "        </tr>\n",
              "    \n",
              "        <tr style=\"background-color: hsl(120, 100.00%, 96.72%); border: none;\">\n",
              "            <td style=\"padding: 0 1em 0 0.5em; text-align: right; border: none;\">\n",
              "                0.0040\n",
              "                \n",
              "                    &plusmn; 0.0024\n",
              "                \n",
              "            </td>\n",
              "            <td style=\"padding: 0 0.5em 0 0.5em; text-align: left; border: none;\">\n",
              "                ward\n",
              "            </td>\n",
              "        </tr>\n",
              "    \n",
              "        <tr style=\"background-color: hsl(120, 100.00%, 96.72%); border: none;\">\n",
              "            <td style=\"padding: 0 1em 0 0.5em; text-align: right; border: none;\">\n",
              "                0.0040\n",
              "                \n",
              "                    &plusmn; 0.0008\n",
              "                \n",
              "            </td>\n",
              "            <td style=\"padding: 0 0.5em 0 0.5em; text-align: left; border: none;\">\n",
              "                funder\n",
              "            </td>\n",
              "        </tr>\n",
              "    \n",
              "        <tr style=\"background-color: hsl(120, 100.00%, 96.83%); border: none;\">\n",
              "            <td style=\"padding: 0 1em 0 0.5em; text-align: right; border: none;\">\n",
              "                0.0038\n",
              "                \n",
              "                    &plusmn; 0.0009\n",
              "                \n",
              "            </td>\n",
              "            <td style=\"padding: 0 0.5em 0 0.5em; text-align: left; border: none;\">\n",
              "                scheme_name\n",
              "            </td>\n",
              "        </tr>\n",
              "    \n",
              "        <tr style=\"background-color: hsl(120, 100.00%, 97.10%); border: none;\">\n",
              "            <td style=\"padding: 0 1em 0 0.5em; text-align: right; border: none;\">\n",
              "                0.0033\n",
              "                \n",
              "                    &plusmn; 0.0014\n",
              "                \n",
              "            </td>\n",
              "            <td style=\"padding: 0 0.5em 0 0.5em; text-align: left; border: none;\">\n",
              "                source_class\n",
              "            </td>\n",
              "        </tr>\n",
              "    \n",
              "        <tr style=\"background-color: hsl(120, 100.00%, 97.18%); border: none;\">\n",
              "            <td style=\"padding: 0 1em 0 0.5em; text-align: right; border: none;\">\n",
              "                0.0032\n",
              "                \n",
              "                    &plusmn; 0.0033\n",
              "                \n",
              "            </td>\n",
              "            <td style=\"padding: 0 0.5em 0 0.5em; text-align: left; border: none;\">\n",
              "                region\n",
              "            </td>\n",
              "        </tr>\n",
              "    \n",
              "        <tr style=\"background-color: hsl(120, 100.00%, 97.27%); border: none;\">\n",
              "            <td style=\"padding: 0 1em 0 0.5em; text-align: right; border: none;\">\n",
              "                0.0031\n",
              "                \n",
              "                    &plusmn; 0.0006\n",
              "                \n",
              "            </td>\n",
              "            <td style=\"padding: 0 0.5em 0 0.5em; text-align: left; border: none;\">\n",
              "                installer\n",
              "            </td>\n",
              "        </tr>\n",
              "    \n",
              "        <tr style=\"background-color: hsl(120, 100.00%, 97.52%); border: none;\">\n",
              "            <td style=\"padding: 0 1em 0 0.5em; text-align: right; border: none;\">\n",
              "                0.0027\n",
              "                \n",
              "                    &plusmn; 0.0014\n",
              "                \n",
              "            </td>\n",
              "            <td style=\"padding: 0 0.5em 0 0.5em; text-align: left; border: none;\">\n",
              "                waterpoint_type_group\n",
              "            </td>\n",
              "        </tr>\n",
              "    \n",
              "        <tr style=\"background-color: hsl(120, 100.00%, 98.44%); border: none;\">\n",
              "            <td style=\"padding: 0 1em 0 0.5em; text-align: right; border: none;\">\n",
              "                0.0014\n",
              "                \n",
              "                    &plusmn; 0.0030\n",
              "                \n",
              "            </td>\n",
              "            <td style=\"padding: 0 0.5em 0 0.5em; text-align: left; border: none;\">\n",
              "                subvillage\n",
              "            </td>\n",
              "        </tr>\n",
              "    \n",
              "        <tr style=\"background-color: hsl(120, 100.00%, 98.49%); border: none;\">\n",
              "            <td style=\"padding: 0 1em 0 0.5em; text-align: right; border: none;\">\n",
              "                0.0013\n",
              "                \n",
              "                    &plusmn; 0.0008\n",
              "                \n",
              "            </td>\n",
              "            <td style=\"padding: 0 0.5em 0 0.5em; text-align: left; border: none;\">\n",
              "                permit\n",
              "            </td>\n",
              "        </tr>\n",
              "    \n",
              "        <tr style=\"background-color: hsl(120, 100.00%, 98.79%); border: none;\">\n",
              "            <td style=\"padding: 0 1em 0 0.5em; text-align: right; border: none;\">\n",
              "                0.0010\n",
              "                \n",
              "                    &plusmn; 0.0005\n",
              "                \n",
              "            </td>\n",
              "            <td style=\"padding: 0 0.5em 0 0.5em; text-align: left; border: none;\">\n",
              "                management\n",
              "            </td>\n",
              "        </tr>\n",
              "    \n",
              "        <tr style=\"background-color: hsl(120, 100.00%, 99.26%); border: none;\">\n",
              "            <td style=\"padding: 0 1em 0 0.5em; text-align: right; border: none;\">\n",
              "                0.0005\n",
              "                \n",
              "                    &plusmn; 0.0012\n",
              "                \n",
              "            </td>\n",
              "            <td style=\"padding: 0 0.5em 0 0.5em; text-align: left; border: none;\">\n",
              "                public_meeting\n",
              "            </td>\n",
              "        </tr>\n",
              "    \n",
              "        <tr style=\"background-color: hsl(120, 100.00%, 99.56%); border: none;\">\n",
              "            <td style=\"padding: 0 1em 0 0.5em; text-align: right; border: none;\">\n",
              "                0.0002\n",
              "                \n",
              "                    &plusmn; 0.0006\n",
              "                \n",
              "            </td>\n",
              "            <td style=\"padding: 0 0.5em 0 0.5em; text-align: left; border: none;\">\n",
              "                quality_group\n",
              "            </td>\n",
              "        </tr>\n",
              "    \n",
              "        <tr style=\"background-color: hsl(120, 100.00%, 99.64%); border: none;\">\n",
              "            <td style=\"padding: 0 1em 0 0.5em; text-align: right; border: none;\">\n",
              "                0.0002\n",
              "                \n",
              "                    &plusmn; 0.0014\n",
              "                \n",
              "            </td>\n",
              "            <td style=\"padding: 0 0.5em 0 0.5em; text-align: left; border: none;\">\n",
              "                scheme_management\n",
              "            </td>\n",
              "        </tr>\n",
              "    \n",
              "        <tr style=\"background-color: hsl(120, 100.00%, 99.73%); border: none;\">\n",
              "            <td style=\"padding: 0 1em 0 0.5em; text-align: right; border: none;\">\n",
              "                0.0001\n",
              "                \n",
              "                    &plusmn; 0.0004\n",
              "                \n",
              "            </td>\n",
              "            <td style=\"padding: 0 0.5em 0 0.5em; text-align: left; border: none;\">\n",
              "                water_quality\n",
              "            </td>\n",
              "        </tr>\n",
              "    \n",
              "    \n",
              "    </tbody>\n",
              "</table>\n",
              "    \n",
              "\n",
              "    \n",
              "\n",
              "\n",
              "    \n",
              "\n",
              "    \n",
              "\n",
              "    \n",
              "\n",
              "    \n",
              "\n",
              "    \n",
              "\n",
              "    \n",
              "\n",
              "\n",
              "\n"
            ],
            "text/plain": [
              "<IPython.core.display.HTML object>"
            ]
          },
          "metadata": {
            "tags": []
          },
          "execution_count": 72
        }
      ]
    },
    {
      "cell_type": "code",
      "metadata": {
        "id": "5Llg0NglEfX5",
        "colab_type": "code",
        "colab": {}
      },
      "source": [
        "#make predictions for official competition submission\n",
        "X_test = encoder.transform(X_test)\n",
        "test_pred = best.predict(X_test)"
      ],
      "execution_count": 0,
      "outputs": []
    },
    {
      "cell_type": "code",
      "metadata": {
        "id": "fP64AiX1EfYB",
        "colab_type": "code",
        "colab": {}
      },
      "source": [
        "#submit, jumping from 71% accuracy to 81%\n",
        "sample_submission = pd.read_csv('sample_submission.csv')\n",
        "submission = sample_submission.copy()\n",
        "submission['status_group'] = test_pred\n",
        "submission.to_csv('stripped_down_3.csv', index=False)"
      ],
      "execution_count": 0,
      "outputs": []
    },
    {
      "cell_type": "markdown",
      "metadata": {
        "id": "bXOz3xTNkMZ5",
        "colab_type": "text"
      },
      "source": [
        "##Feature Engineering"
      ]
    },
    {
      "cell_type": "code",
      "metadata": {
        "id": "4MHrG2N9-HqO",
        "colab_type": "code",
        "colab": {}
      },
      "source": [
        "#fill in some null values\n",
        "df['scheme_name'] = df['scheme_name'].fillna('none')\n",
        "df['public_meeting'] = df['public_meeting'].fillna(True)\n",
        "df['funder'] = df['funder'].fillna('None')"
      ],
      "execution_count": 0,
      "outputs": []
    },
    {
      "cell_type": "code",
      "metadata": {
        "id": "wJdAkKNTGzrW",
        "colab_type": "code",
        "colab": {}
      },
      "source": [
        "current_year = datetime.now().year\n",
        "df['age'] = current_year - df['construction_year']"
      ],
      "execution_count": 0,
      "outputs": []
    },
    {
      "cell_type": "code",
      "metadata": {
        "id": "Hj6RJsxzFVdp",
        "colab_type": "code",
        "colab": {}
      },
      "source": [
        "df['num_private_bool'] = False\n",
        "df.loc[df['num_private'] != 0,'num_private_bool'] = True"
      ],
      "execution_count": 0,
      "outputs": []
    },
    {
      "cell_type": "code",
      "metadata": {
        "id": "-sst0pXN2_vz",
        "colab_type": "code",
        "colab": {}
      },
      "source": [
        "df['lat+lon'] = ((df['latitude']+90)*180)+df['longitude']"
      ],
      "execution_count": 0,
      "outputs": []
    },
    {
      "cell_type": "code",
      "metadata": {
        "id": "k-LQyUc1q-4D",
        "colab_type": "code",
        "colab": {}
      },
      "source": [
        "#another feature with little impact\n",
        "df['water_per_person'] = df['amount_tsh']/df['population']\n",
        "df.loc[df['water_per_person'] == np.inf,'water_per_person'] = np.NaN\n",
        "df['water_per_person'] = test.fillna(0)"
      ],
      "execution_count": 0,
      "outputs": []
    },
    {
      "cell_type": "code",
      "metadata": {
        "id": "Gbrhd22moDCI",
        "colab_type": "code",
        "colab": {}
      },
      "source": [
        "X_train.head(1)\n",
        "df= X_train.copy()\n",
        "#look at lat and lon outside of 3 standard deviations, lots of wells at (0,0)\n",
        "df[(np.abs(df['longitude']-df['longitude'].mean()) > (3*df['longitude'].std()))][['longitude','longitude']]\n",
        "\n",
        "#fill in the 0's with the average for their regions\n",
        "df.loc[df['longitude']== 0, 'longitude'] = df.groupby('district_code')['longitude'].transform('mean')\n",
        "df.loc[df['latitude'] > -.001, 'latitude'] = df.groupby('district_code')['latitude'].transform('mean')"
      ],
      "execution_count": 0,
      "outputs": []
    },
    {
      "cell_type": "code",
      "metadata": {
        "id": "Md5sSMoLtWGS",
        "colab_type": "code",
        "colab": {}
      },
      "source": [
        "def seasons(months): #Ended up being worse\n",
        "  #See if we can boost the month signal by consolidating to seasons\n",
        "  #https://www.wildland.com/destinations/africa/tanzania/seasonsclimate.aspx\n",
        "  seasons = months.copy()\n",
        "  \n",
        "  seasons.loc[(months < 3) | (months == 12)] = 'Hot Dry' #December to February\n",
        "  seasons.loc[months == 3] = 'Intermittent Rains' #March\n",
        "  seasons.loc[(months == 4) | (months == 5)] = 'Heavy Rains' #April and May\n",
        "  seasons.loc[(months > 5) & (months < 11)] = 'Cool Dry' #June to October\n",
        "  seasons.loc[months == 11] = 'Short Rains' #November\n",
        "  \n",
        "  return seasons"
      ],
      "execution_count": 0,
      "outputs": []
    },
    {
      "cell_type": "code",
      "metadata": {
        "id": "AhfiTdnkJQ-E",
        "colab_type": "code",
        "colab": {}
      },
      "source": [
        "from datetime import datetime\n",
        "#time to add in features to see if we can't improve just a tad\n",
        "def feature_engineer(df):\n",
        "  df = df.copy()\n",
        "  \n",
        "  #construction has year 0 which is extremely unlikely, set 0's to min year-1960\n",
        "  df.loc[df.construction_year <= 0, df.columns=='construction_year'] = 1960\n",
        "  #date_recorded isn't datetime so let's fix that and extract year and month\n",
        "  df['date_recorded'] = pd.to_datetime(df['date_recorded'])\n",
        "  #create inspect_wait to measure time from construction to inspection\n",
        "  df['inspect_wait'] = df['date_recorded'].dt.year - df['construction_year']\n",
        "  \n",
        "  #convert all categoricals to lowercase to combine items like 'Other' & 'other'\n",
        "  cat_features = (df.select_dtypes(exclude='number')\n",
        "                  .drop(['date_recorded','public_meeting'],axis=1)\n",
        "                   .columns.to_list())\n",
        "  for col in cat_features:\n",
        "    df[col] = df[col].str.lower()\n",
        "  \n",
        "  #remove outliers in lat and lon\n",
        "  df.loc[df['longitude']== 0, 'longitude'] = df.groupby(\n",
        "                                 'district_code')['longitude'].transform('mean')\n",
        "  df.loc[df['latitude'] > -.001, 'latitude'] = df.groupby(\n",
        "                                  'district_code')['latitude'].transform('mean')\n",
        "  \n",
        "  #drop the features that are noise/duplicates\n",
        "  drop_features = ['date_recorded','id','recorded_by','num_private',\n",
        "                   'management_group','wpt_name','region_code','district_code',\n",
        "                   'basin','payment','extraction_type_group','source',\n",
        "                   'source_type','management','water_quality',\n",
        "                   'waterpoint_type_group','quantity_group', 'subvillage',\n",
        "                   'extraction_type_class','installer','permit',\n",
        "                   'scheme_management']\n",
        "  df = df.drop(drop_features,axis='columns')\n",
        "  \n",
        "  return df"
      ],
      "execution_count": 0,
      "outputs": []
    },
    {
      "cell_type": "code",
      "metadata": {
        "id": "3FXkv4jykoiq",
        "colab_type": "code",
        "colab": {}
      },
      "source": [
        "#copy down and consolidate cells above\n",
        "X_train = pd.read_csv('train_features.csv')\n",
        "X_test  = pd.read_csv('test_features.csv')\n",
        "y_train = pd.read_csv('train_labels.csv')\n",
        "\n",
        "#apply our changes, we could do this after the split but saves a few code lines\n",
        "X_train = feature_engineer(X_train)\n",
        "X_test  = feature_engineer(X_test)\n",
        "\n",
        "#split X_train to training and validation\n",
        "X_train, X_val, y_train, y_val = train_test_split(X_train, y_train, \n",
        "                                                  random_state=42, test_size=.2)"
      ],
      "execution_count": 0,
      "outputs": []
    },
    {
      "cell_type": "code",
      "metadata": {
        "id": "McfBvIbMl7iu",
        "colab_type": "code",
        "outputId": "e9cbfd2b-bfb9-445b-d8c0-c049453e845f",
        "colab": {
          "base_uri": "https://localhost:8080/",
          "height": 187
        }
      },
      "source": [
        "#just copying down some more\n",
        "encoder = ce.OrdinalEncoder()\n",
        "X_train = encoder.fit_transform(X_train)\n",
        "\n",
        "forest = RandomForestClassifier(n_jobs=-1, random_state=42)\n",
        "\n",
        "param_distributions = {'n_estimators':[400],\n",
        "                       'max_depth':[20,23],\n",
        "                       'min_samples_leaf':[3],\n",
        "                       'max_features':['sqrt']}\n",
        "\n",
        "search = RandomizedSearchCV(forest, param_distributions=param_distributions,\n",
        "                            scoring='accuracy', n_iter=12, n_jobs=-1, cv=5,\n",
        "                            verbose=10, return_train_score=True, random_state=42)\n",
        "search.fit(X_train, y_train['status_group'])\n",
        "\n",
        "print('Training Accuracy Score:',search.best_score_)"
      ],
      "execution_count": 0,
      "outputs": [
        {
          "output_type": "stream",
          "text": [
            "/usr/local/lib/python3.6/dist-packages/sklearn/model_selection/_search.py:266: UserWarning: The total space of parameters 2 is smaller than n_iter=12. Running 2 iterations. For exhaustive searches, use GridSearchCV.\n",
            "  % (grid_size, self.n_iter, grid_size), UserWarning)\n",
            "[Parallel(n_jobs=-1)]: Using backend LokyBackend with 2 concurrent workers.\n"
          ],
          "name": "stderr"
        },
        {
          "output_type": "stream",
          "text": [
            "Fitting 5 folds for each of 2 candidates, totalling 10 fits\n"
          ],
          "name": "stdout"
        },
        {
          "output_type": "stream",
          "text": [
            "[Parallel(n_jobs=-1)]: Done   1 tasks      | elapsed:   47.6s\n",
            "[Parallel(n_jobs=-1)]: Done   4 tasks      | elapsed:  1.6min\n",
            "[Parallel(n_jobs=-1)]: Done  10 out of  10 | elapsed:  3.9min finished\n"
          ],
          "name": "stderr"
        },
        {
          "output_type": "stream",
          "text": [
            "Training Accuracy Score: 0.803766835016835\n"
          ],
          "name": "stdout"
        }
      ]
    },
    {
      "cell_type": "code",
      "metadata": {
        "id": "6cZbj529rxed",
        "colab_type": "code",
        "outputId": "d6d9e5d1-66a5-436e-8580-50ff92ad24c1",
        "colab": {
          "base_uri": "https://localhost:8080/",
          "height": 153
        }
      },
      "source": [
        "results = pd.DataFrame(search.cv_results_)\n",
        "results.sort_values('rank_test_score').head(1)"
      ],
      "execution_count": 0,
      "outputs": [
        {
          "output_type": "execute_result",
          "data": {
            "text/html": [
              "<div>\n",
              "<style scoped>\n",
              "    .dataframe tbody tr th:only-of-type {\n",
              "        vertical-align: middle;\n",
              "    }\n",
              "\n",
              "    .dataframe tbody tr th {\n",
              "        vertical-align: top;\n",
              "    }\n",
              "\n",
              "    .dataframe thead th {\n",
              "        text-align: right;\n",
              "    }\n",
              "</style>\n",
              "<table border=\"1\" class=\"dataframe\">\n",
              "  <thead>\n",
              "    <tr style=\"text-align: right;\">\n",
              "      <th></th>\n",
              "      <th>mean_fit_time</th>\n",
              "      <th>std_fit_time</th>\n",
              "      <th>mean_score_time</th>\n",
              "      <th>std_score_time</th>\n",
              "      <th>param_n_estimators</th>\n",
              "      <th>param_min_samples_leaf</th>\n",
              "      <th>param_max_features</th>\n",
              "      <th>param_max_depth</th>\n",
              "      <th>params</th>\n",
              "      <th>split0_test_score</th>\n",
              "      <th>split1_test_score</th>\n",
              "      <th>split2_test_score</th>\n",
              "      <th>split3_test_score</th>\n",
              "      <th>split4_test_score</th>\n",
              "      <th>mean_test_score</th>\n",
              "      <th>std_test_score</th>\n",
              "      <th>rank_test_score</th>\n",
              "      <th>split0_train_score</th>\n",
              "      <th>split1_train_score</th>\n",
              "      <th>split2_train_score</th>\n",
              "      <th>split3_train_score</th>\n",
              "      <th>split4_train_score</th>\n",
              "      <th>mean_train_score</th>\n",
              "      <th>std_train_score</th>\n",
              "    </tr>\n",
              "  </thead>\n",
              "  <tbody>\n",
              "    <tr>\n",
              "      <th>0</th>\n",
              "      <td>41.307051</td>\n",
              "      <td>0.519456</td>\n",
              "      <td>1.242994</td>\n",
              "      <td>0.066861</td>\n",
              "      <td>400</td>\n",
              "      <td>3</td>\n",
              "      <td>sqrt</td>\n",
              "      <td>20</td>\n",
              "      <td>{'n_estimators': 400, 'min_samples_leaf': 3, '...</td>\n",
              "      <td>0.802651</td>\n",
              "      <td>0.804208</td>\n",
              "      <td>0.801642</td>\n",
              "      <td>0.808482</td>\n",
              "      <td>0.801852</td>\n",
              "      <td>0.803767</td>\n",
              "      <td>0.002524</td>\n",
              "      <td>1</td>\n",
              "      <td>0.893487</td>\n",
              "      <td>0.893568</td>\n",
              "      <td>0.893232</td>\n",
              "      <td>0.895678</td>\n",
              "      <td>0.893968</td>\n",
              "      <td>0.893987</td>\n",
              "      <td>0.000878</td>\n",
              "    </tr>\n",
              "  </tbody>\n",
              "</table>\n",
              "</div>"
            ],
            "text/plain": [
              "   mean_fit_time  std_fit_time  ...  mean_train_score  std_train_score\n",
              "0      41.307051      0.519456  ...          0.893987         0.000878\n",
              "\n",
              "[1 rows x 24 columns]"
            ]
          },
          "metadata": {
            "tags": []
          },
          "execution_count": 53
        }
      ]
    },
    {
      "cell_type": "code",
      "metadata": {
        "id": "GsNGM6ccmAsq",
        "colab_type": "code",
        "outputId": "fc30c023-565b-4fa0-b5a2-a99632fe3e48",
        "colab": {
          "base_uri": "https://localhost:8080/",
          "height": 36
        }
      },
      "source": [
        "best = search.best_estimator_\n",
        "X_val = encoder.transform(X_val)\n",
        "y_pred = best.predict(X_val)\n",
        "print('Validation Set Accuracy Score:', accuracy_score(y_val['status_group'], \n",
        "                                                       y_pred))"
      ],
      "execution_count": 0,
      "outputs": [
        {
          "output_type": "stream",
          "text": [
            "Validation Set Accuracy Score: 0.812037037037037\n"
          ],
          "name": "stdout"
        }
      ]
    },
    {
      "cell_type": "code",
      "metadata": {
        "id": "epz2EP09q8Gf",
        "colab_type": "code",
        "outputId": "168d7925-2fd8-4dec-b9b1-50c0f8fd610f",
        "colab": {
          "base_uri": "https://localhost:8080/",
          "height": 364
        }
      },
      "source": [
        "#loop through and drop unnecessary features to refine our model\n",
        "permuter = PermutationImportance(best, scoring='accuracy', cv='prefit', \n",
        "                                 n_iter=3, random_state=42)\n",
        "\n",
        "permuter.fit(X_val, y_val['status_group'])\n",
        "\n",
        "feature_names = X_val.columns.tolist()\n",
        "show_weights(permuter, top=None, feature_names=feature_names)"
      ],
      "execution_count": 0,
      "outputs": [
        {
          "output_type": "execute_result",
          "data": {
            "text/html": [
              "\n",
              "    <style>\n",
              "    table.eli5-weights tr:hover {\n",
              "        filter: brightness(85%);\n",
              "    }\n",
              "</style>\n",
              "\n",
              "\n",
              "\n",
              "    \n",
              "\n",
              "    \n",
              "\n",
              "    \n",
              "\n",
              "    \n",
              "\n",
              "    \n",
              "\n",
              "    \n",
              "\n",
              "\n",
              "    \n",
              "\n",
              "    \n",
              "\n",
              "    \n",
              "\n",
              "    \n",
              "\n",
              "    \n",
              "\n",
              "    \n",
              "\n",
              "\n",
              "    \n",
              "\n",
              "    \n",
              "\n",
              "    \n",
              "\n",
              "    \n",
              "\n",
              "    \n",
              "        <table class=\"eli5-weights eli5-feature-importances\" style=\"border-collapse: collapse; border: none; margin-top: 0em; table-layout: auto;\">\n",
              "    <thead>\n",
              "    <tr style=\"border: none;\">\n",
              "        <th style=\"padding: 0 1em 0 0.5em; text-align: right; border: none;\">Weight</th>\n",
              "        <th style=\"padding: 0 0.5em 0 0.5em; text-align: left; border: none;\">Feature</th>\n",
              "    </tr>\n",
              "    </thead>\n",
              "    <tbody>\n",
              "    \n",
              "        <tr style=\"background-color: hsl(120, 100.00%, 80.00%); border: none;\">\n",
              "            <td style=\"padding: 0 1em 0 0.5em; text-align: right; border: none;\">\n",
              "                0.1059\n",
              "                \n",
              "                    &plusmn; 0.0040\n",
              "                \n",
              "            </td>\n",
              "            <td style=\"padding: 0 0.5em 0 0.5em; text-align: left; border: none;\">\n",
              "                quantity\n",
              "            </td>\n",
              "        </tr>\n",
              "    \n",
              "        <tr style=\"background-color: hsl(120, 100.00%, 86.14%); border: none;\">\n",
              "            <td style=\"padding: 0 1em 0 0.5em; text-align: right; border: none;\">\n",
              "                0.0627\n",
              "                \n",
              "                    &plusmn; 0.0041\n",
              "                \n",
              "            </td>\n",
              "            <td style=\"padding: 0 0.5em 0 0.5em; text-align: left; border: none;\">\n",
              "                waterpoint_type\n",
              "            </td>\n",
              "        </tr>\n",
              "    \n",
              "        <tr style=\"background-color: hsl(120, 100.00%, 93.14%); border: none;\">\n",
              "            <td style=\"padding: 0 1em 0 0.5em; text-align: right; border: none;\">\n",
              "                0.0230\n",
              "                \n",
              "                    &plusmn; 0.0023\n",
              "                \n",
              "            </td>\n",
              "            <td style=\"padding: 0 0.5em 0 0.5em; text-align: left; border: none;\">\n",
              "                extraction_type\n",
              "            </td>\n",
              "        </tr>\n",
              "    \n",
              "        <tr style=\"background-color: hsl(120, 100.00%, 93.71%); border: none;\">\n",
              "            <td style=\"padding: 0 1em 0 0.5em; text-align: right; border: none;\">\n",
              "                0.0203\n",
              "                \n",
              "                    &plusmn; 0.0027\n",
              "                \n",
              "            </td>\n",
              "            <td style=\"padding: 0 0.5em 0 0.5em; text-align: left; border: none;\">\n",
              "                amount_tsh\n",
              "            </td>\n",
              "        </tr>\n",
              "    \n",
              "        <tr style=\"background-color: hsl(120, 100.00%, 94.17%); border: none;\">\n",
              "            <td style=\"padding: 0 1em 0 0.5em; text-align: right; border: none;\">\n",
              "                0.0182\n",
              "                \n",
              "                    &plusmn; 0.0012\n",
              "                \n",
              "            </td>\n",
              "            <td style=\"padding: 0 0.5em 0 0.5em; text-align: left; border: none;\">\n",
              "                longitude\n",
              "            </td>\n",
              "        </tr>\n",
              "    \n",
              "        <tr style=\"background-color: hsl(120, 100.00%, 94.76%); border: none;\">\n",
              "            <td style=\"padding: 0 1em 0 0.5em; text-align: right; border: none;\">\n",
              "                0.0156\n",
              "                \n",
              "                    &plusmn; 0.0009\n",
              "                \n",
              "            </td>\n",
              "            <td style=\"padding: 0 0.5em 0 0.5em; text-align: left; border: none;\">\n",
              "                latitude\n",
              "            </td>\n",
              "        </tr>\n",
              "    \n",
              "        <tr style=\"background-color: hsl(120, 100.00%, 95.76%); border: none;\">\n",
              "            <td style=\"padding: 0 1em 0 0.5em; text-align: right; border: none;\">\n",
              "                0.0116\n",
              "                \n",
              "                    &plusmn; 0.0004\n",
              "                \n",
              "            </td>\n",
              "            <td style=\"padding: 0 0.5em 0 0.5em; text-align: left; border: none;\">\n",
              "                lga\n",
              "            </td>\n",
              "        </tr>\n",
              "    \n",
              "        <tr style=\"background-color: hsl(120, 100.00%, 96.25%); border: none;\">\n",
              "            <td style=\"padding: 0 1em 0 0.5em; text-align: right; border: none;\">\n",
              "                0.0097\n",
              "                \n",
              "                    &plusmn; 0.0027\n",
              "                \n",
              "            </td>\n",
              "            <td style=\"padding: 0 0.5em 0 0.5em; text-align: left; border: none;\">\n",
              "                population\n",
              "            </td>\n",
              "        </tr>\n",
              "    \n",
              "        <tr style=\"background-color: hsl(120, 100.00%, 96.52%); border: none;\">\n",
              "            <td style=\"padding: 0 1em 0 0.5em; text-align: right; border: none;\">\n",
              "                0.0087\n",
              "                \n",
              "                    &plusmn; 0.0002\n",
              "                \n",
              "            </td>\n",
              "            <td style=\"padding: 0 0.5em 0 0.5em; text-align: left; border: none;\">\n",
              "                payment_type\n",
              "            </td>\n",
              "        </tr>\n",
              "    \n",
              "        <tr style=\"background-color: hsl(120, 100.00%, 96.53%); border: none;\">\n",
              "            <td style=\"padding: 0 1em 0 0.5em; text-align: right; border: none;\">\n",
              "                0.0087\n",
              "                \n",
              "                    &plusmn; 0.0031\n",
              "                \n",
              "            </td>\n",
              "            <td style=\"padding: 0 0.5em 0 0.5em; text-align: left; border: none;\">\n",
              "                construction_year\n",
              "            </td>\n",
              "        </tr>\n",
              "    \n",
              "        <tr style=\"background-color: hsl(120, 100.00%, 96.90%); border: none;\">\n",
              "            <td style=\"padding: 0 1em 0 0.5em; text-align: right; border: none;\">\n",
              "                0.0074\n",
              "                \n",
              "                    &plusmn; 0.0009\n",
              "                \n",
              "            </td>\n",
              "            <td style=\"padding: 0 0.5em 0 0.5em; text-align: left; border: none;\">\n",
              "                ward\n",
              "            </td>\n",
              "        </tr>\n",
              "    \n",
              "        <tr style=\"background-color: hsl(120, 100.00%, 96.91%); border: none;\">\n",
              "            <td style=\"padding: 0 1em 0 0.5em; text-align: right; border: none;\">\n",
              "                0.0074\n",
              "                \n",
              "                    &plusmn; 0.0006\n",
              "                \n",
              "            </td>\n",
              "            <td style=\"padding: 0 0.5em 0 0.5em; text-align: left; border: none;\">\n",
              "                region\n",
              "            </td>\n",
              "        </tr>\n",
              "    \n",
              "        <tr style=\"background-color: hsl(120, 100.00%, 96.95%); border: none;\">\n",
              "            <td style=\"padding: 0 1em 0 0.5em; text-align: right; border: none;\">\n",
              "                0.0072\n",
              "                \n",
              "                    &plusmn; 0.0056\n",
              "                \n",
              "            </td>\n",
              "            <td style=\"padding: 0 0.5em 0 0.5em; text-align: left; border: none;\">\n",
              "                inspect_wait\n",
              "            </td>\n",
              "        </tr>\n",
              "    \n",
              "        <tr style=\"background-color: hsl(120, 100.00%, 97.06%); border: none;\">\n",
              "            <td style=\"padding: 0 1em 0 0.5em; text-align: right; border: none;\">\n",
              "                0.0068\n",
              "                \n",
              "                    &plusmn; 0.0004\n",
              "                \n",
              "            </td>\n",
              "            <td style=\"padding: 0 0.5em 0 0.5em; text-align: left; border: none;\">\n",
              "                funder\n",
              "            </td>\n",
              "        </tr>\n",
              "    \n",
              "        <tr style=\"background-color: hsl(120, 100.00%, 97.19%); border: none;\">\n",
              "            <td style=\"padding: 0 1em 0 0.5em; text-align: right; border: none;\">\n",
              "                0.0064\n",
              "                \n",
              "                    &plusmn; 0.0010\n",
              "                \n",
              "            </td>\n",
              "            <td style=\"padding: 0 0.5em 0 0.5em; text-align: left; border: none;\">\n",
              "                scheme_name\n",
              "            </td>\n",
              "        </tr>\n",
              "    \n",
              "        <tr style=\"background-color: hsl(120, 100.00%, 97.62%); border: none;\">\n",
              "            <td style=\"padding: 0 1em 0 0.5em; text-align: right; border: none;\">\n",
              "                0.0051\n",
              "                \n",
              "                    &plusmn; 0.0015\n",
              "                \n",
              "            </td>\n",
              "            <td style=\"padding: 0 0.5em 0 0.5em; text-align: left; border: none;\">\n",
              "                gps_height\n",
              "            </td>\n",
              "        </tr>\n",
              "    \n",
              "        <tr style=\"background-color: hsl(120, 100.00%, 98.24%); border: none;\">\n",
              "            <td style=\"padding: 0 1em 0 0.5em; text-align: right; border: none;\">\n",
              "                0.0033\n",
              "                \n",
              "                    &plusmn; 0.0014\n",
              "                \n",
              "            </td>\n",
              "            <td style=\"padding: 0 0.5em 0 0.5em; text-align: left; border: none;\">\n",
              "                source_class\n",
              "            </td>\n",
              "        </tr>\n",
              "    \n",
              "        <tr style=\"background-color: hsl(120, 100.00%, 98.74%); border: none;\">\n",
              "            <td style=\"padding: 0 1em 0 0.5em; text-align: right; border: none;\">\n",
              "                0.0020\n",
              "                \n",
              "                    &plusmn; 0.0006\n",
              "                \n",
              "            </td>\n",
              "            <td style=\"padding: 0 0.5em 0 0.5em; text-align: left; border: none;\">\n",
              "                quality_group\n",
              "            </td>\n",
              "        </tr>\n",
              "    \n",
              "        <tr style=\"background-color: hsl(120, 100.00%, 98.85%); border: none;\">\n",
              "            <td style=\"padding: 0 1em 0 0.5em; text-align: right; border: none;\">\n",
              "                0.0018\n",
              "                \n",
              "                    &plusmn; 0.0004\n",
              "                \n",
              "            </td>\n",
              "            <td style=\"padding: 0 0.5em 0 0.5em; text-align: left; border: none;\">\n",
              "                public_meeting\n",
              "            </td>\n",
              "        </tr>\n",
              "    \n",
              "    \n",
              "    </tbody>\n",
              "</table>\n",
              "    \n",
              "\n",
              "    \n",
              "\n",
              "\n",
              "    \n",
              "\n",
              "    \n",
              "\n",
              "    \n",
              "\n",
              "    \n",
              "\n",
              "    \n",
              "\n",
              "    \n",
              "\n",
              "\n",
              "\n"
            ],
            "text/plain": [
              "<IPython.core.display.HTML object>"
            ]
          },
          "metadata": {
            "tags": []
          },
          "execution_count": 57
        }
      ]
    },
    {
      "cell_type": "code",
      "metadata": {
        "colab_type": "code",
        "id": "ZBAlOW8tHRPh",
        "colab": {}
      },
      "source": [
        "#submit\n",
        "X_test = encoder.transform(X_test)\n",
        "test_pred = best.predict(X_test)\n",
        "sample_submission = pd.read_csv('sample_submission.csv')\n",
        "submission = sample_submission.copy()\n",
        "submission['status_group'] = test_pred\n",
        "submission.to_csv('new_final_submission_hopefully.csv', index=False)"
      ],
      "execution_count": 0,
      "outputs": []
    },
    {
      "cell_type": "code",
      "metadata": {
        "id": "Hazt8QcvJARJ",
        "colab_type": "code",
        "outputId": "9c39eed5-5c87-4258-fe52-b365058c63f5",
        "colab": {
          "base_uri": "https://localhost:8080/",
          "height": 149
        }
      },
      "source": [
        "X_train = encoder.fit_transform(X_train)\n",
        "\n",
        "xgb = XGBClassifier(n_jobs=-1, random_state=42)\n",
        "\n",
        "param_distributions = {'n_estimators':[400],\n",
        "                       'max_depth':[20]\n",
        "                       'learning_rate':[.1,.01,.001,.0001]}\n",
        "\n",
        "search = RandomizedSearchCV(xgb, param_distributions=param_distributions,\n",
        "                            scoring='accuracy', n_iter=4, n_jobs=-1, cv=5,\n",
        "                            verbose=10, return_train_score=True, random_state=42)\n",
        "search.fit(X_train, y_train['status_group'])\n",
        "\n",
        "print('Training Accuracy Score:',search.best_score_)"
      ],
      "execution_count": 0,
      "outputs": [
        {
          "output_type": "stream",
          "text": [
            "Fitting 5 folds for each of 1 candidates, totalling 5 fits\n"
          ],
          "name": "stdout"
        },
        {
          "output_type": "stream",
          "text": [
            "[Parallel(n_jobs=-1)]: Using backend LokyBackend with 2 concurrent workers.\n",
            "[Parallel(n_jobs=-1)]: Done   1 tasks      | elapsed:  6.0min\n",
            "[Parallel(n_jobs=-1)]: Done   3 out of   5 | elapsed: 12.2min remaining:  8.1min\n",
            "[Parallel(n_jobs=-1)]: Done   5 out of   5 | elapsed: 16.3min remaining:    0.0s\n",
            "[Parallel(n_jobs=-1)]: Done   5 out of   5 | elapsed: 16.3min finished\n"
          ],
          "name": "stderr"
        },
        {
          "output_type": "stream",
          "text": [
            "Training Accuracy Score: 0.7083543771043771\n"
          ],
          "name": "stdout"
        }
      ]
    },
    {
      "cell_type": "code",
      "metadata": {
        "colab_type": "code",
        "outputId": "80f209c6-c8bb-4c0b-9959-743354def432",
        "id": "iTWGnd0GMedT",
        "colab": {
          "base_uri": "https://localhost:8080/",
          "height": 36
        }
      },
      "source": [
        "#success! validation works as well\n",
        "best = search.best_estimator_\n",
        "X_val = encoder.transform(X_val)\n",
        "y_pred = best.predict(X_val)\n",
        "print('Validation Set Accuracy Score:', accuracy_score(y_val['status_group'], \n",
        "                                                       y_pred))"
      ],
      "execution_count": 0,
      "outputs": [
        {
          "output_type": "stream",
          "text": [
            "Validation Set Accuracy Score: 0.7111952861952862\n"
          ],
          "name": "stdout"
        }
      ]
    },
    {
      "cell_type": "code",
      "metadata": {
        "id": "E-ejEY_BshdR",
        "colab_type": "code",
        "colab": {}
      },
      "source": [
        ""
      ],
      "execution_count": 0,
      "outputs": []
    },
    {
      "cell_type": "markdown",
      "metadata": {
        "id": "7Pd1zldJiHLM",
        "colab_type": "text"
      },
      "source": [
        "#"
      ]
    }
  ]
}