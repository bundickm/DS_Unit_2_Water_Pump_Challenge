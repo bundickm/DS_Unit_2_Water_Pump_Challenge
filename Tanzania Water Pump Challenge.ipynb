{
  "nbformat": 4,
  "nbformat_minor": 0,
  "metadata": {
    "celltoolbar": "Raw Cell Format",
    "kernelspec": {
      "display_name": "Python 3",
      "language": "python",
      "name": "python3"
    },
    "language_info": {
      "codemirror_mode": {
        "name": "ipython",
        "version": 3
      },
      "file_extension": ".py",
      "mimetype": "text/x-python",
      "name": "python",
      "nbconvert_exporter": "python",
      "pygments_lexer": "ipython3",
      "version": "3.7.3"
    },
    "colab": {
      "name": "Tanzania Water Pump Challenge.ipynb",
      "version": "0.3.2",
      "provenance": [],
      "include_colab_link": true
    }
  },
  "cells": [
    {
      "cell_type": "markdown",
      "metadata": {
        "id": "view-in-github",
        "colab_type": "text"
      },
      "source": [
        "<a href=\"https://colab.research.google.com/github/bundickm/Kaggle_Water_Pump_Competition/blob/master/Tanzania%20Water%20Pump%20Challenge.ipynb\" target=\"_parent\"><img src=\"https://colab.research.google.com/assets/colab-badge.svg\" alt=\"Open In Colab\"/></a>"
      ]
    },
    {
      "cell_type": "markdown",
      "metadata": {
        "id": "P6aYqC0HDVmi",
        "colab_type": "text"
      },
      "source": [
        "# Tanzania Waterpumps\n",
        "\n",
        "Predicting the functional status of waterpumps in Tanzania may seem like just another Kaggle type competition but we can see it as a stand-in for predicting the need for preventative maintenance. Why does this matter? Because preventative maintenance is almost alway cheaper than fixing something once broken, not to mention that you are able to plan for and minimize downtime due to repairs."
      ]
    },
    {
      "cell_type": "markdown",
      "metadata": {
        "id": "Ht7ys9OZDVmo",
        "colab_type": "text"
      },
      "source": [
        "## Imports, Installs, and Initialization"
      ]
    },
    {
      "cell_type": "code",
      "metadata": {
        "id": "Lx-5jRbBDVms",
        "colab_type": "code",
        "colab": {
          "base_uri": "https://localhost:8080/",
          "height": 130
        },
        "outputId": "22fe15a3-d5c9-4099-e76a-143e6efcff20"
      },
      "source": [
        "pip install -i https://test.pypi.org/simple/ walkabout"
      ],
      "execution_count": 1,
      "outputs": [
        {
          "output_type": "stream",
          "text": [
            "Looking in indexes: https://test.pypi.org/simple/\n",
            "Collecting walkabout\n",
            "  Downloading https://test-files.pythonhosted.org/packages/f8/9e/5aed09025c4d528b11028ed9918e0af01ebfe748cd3014a4682d34044784/walkabout-0.0.14-py3-none-any.whl\n",
            "Installing collected packages: walkabout\n",
            "Successfully installed walkabout-0.0.14\n"
          ],
          "name": "stdout"
        }
      ]
    },
    {
      "cell_type": "code",
      "metadata": {
        "id": "_htZ3BjcDVm4",
        "colab_type": "code",
        "colab": {
          "base_uri": "https://localhost:8080/",
          "height": 333
        },
        "outputId": "35950a57-2db9-4111-d9f1-af6028808744"
      },
      "source": [
        "pip install eli5"
      ],
      "execution_count": 2,
      "outputs": [
        {
          "output_type": "stream",
          "text": [
            "Collecting eli5\n",
            "\u001b[?25l  Downloading https://files.pythonhosted.org/packages/73/cb/e773ec38d6d8b48b18537020e7782ac038581b52047d41b6500135e4bdc7/eli5-0.9.0-py2.py3-none-any.whl (94kB)\n",
            "\u001b[K     |████████████████████████████████| 102kB 3.9MB/s \n",
            "\u001b[?25hRequirement already satisfied: graphviz in /usr/local/lib/python3.6/dist-packages (from eli5) (0.10.1)\n",
            "Requirement already satisfied: six in /usr/local/lib/python3.6/dist-packages (from eli5) (1.12.0)\n",
            "Requirement already satisfied: attrs>16.0.0 in /usr/local/lib/python3.6/dist-packages (from eli5) (19.1.0)\n",
            "Requirement already satisfied: scikit-learn>=0.18 in /usr/local/lib/python3.6/dist-packages (from eli5) (0.21.3)\n",
            "Requirement already satisfied: typing in /usr/local/lib/python3.6/dist-packages (from eli5) (3.7.4)\n",
            "Requirement already satisfied: scipy in /usr/local/lib/python3.6/dist-packages (from eli5) (1.3.0)\n",
            "Requirement already satisfied: tabulate>=0.7.7 in /usr/local/lib/python3.6/dist-packages (from eli5) (0.8.3)\n",
            "Requirement already satisfied: jinja2 in /usr/local/lib/python3.6/dist-packages (from eli5) (2.10.1)\n",
            "Requirement already satisfied: numpy>=1.9.0 in /usr/local/lib/python3.6/dist-packages (from eli5) (1.16.4)\n",
            "Requirement already satisfied: joblib>=0.11 in /usr/local/lib/python3.6/dist-packages (from scikit-learn>=0.18->eli5) (0.13.2)\n",
            "Requirement already satisfied: MarkupSafe>=0.23 in /usr/local/lib/python3.6/dist-packages (from jinja2->eli5) (1.1.1)\n",
            "Installing collected packages: eli5\n",
            "Successfully installed eli5-0.9.0\n"
          ],
          "name": "stdout"
        }
      ]
    },
    {
      "cell_type": "code",
      "metadata": {
        "id": "lxkqQozoDVnC",
        "colab_type": "code",
        "colab": {
          "base_uri": "https://localhost:8080/",
          "height": 315
        },
        "outputId": "abaf15a2-a539-4190-af60-cc36f720cc85"
      },
      "source": [
        "pip install category_encoders"
      ],
      "execution_count": 3,
      "outputs": [
        {
          "output_type": "stream",
          "text": [
            "Collecting category_encoders\n",
            "\u001b[?25l  Downloading https://files.pythonhosted.org/packages/6e/a1/f7a22f144f33be78afeb06bfa78478e8284a64263a3c09b1ef54e673841e/category_encoders-2.0.0-py2.py3-none-any.whl (87kB)\n",
            "\u001b[K     |████████████████████████████████| 92kB 3.5MB/s \n",
            "\u001b[?25hRequirement already satisfied: statsmodels>=0.6.1 in /usr/local/lib/python3.6/dist-packages (from category_encoders) (0.10.1)\n",
            "Requirement already satisfied: pandas>=0.21.1 in /usr/local/lib/python3.6/dist-packages (from category_encoders) (0.24.2)\n",
            "Requirement already satisfied: numpy>=1.11.3 in /usr/local/lib/python3.6/dist-packages (from category_encoders) (1.16.4)\n",
            "Requirement already satisfied: scikit-learn>=0.20.0 in /usr/local/lib/python3.6/dist-packages (from category_encoders) (0.21.3)\n",
            "Requirement already satisfied: patsy>=0.4.1 in /usr/local/lib/python3.6/dist-packages (from category_encoders) (0.5.1)\n",
            "Requirement already satisfied: scipy>=0.19.0 in /usr/local/lib/python3.6/dist-packages (from category_encoders) (1.3.0)\n",
            "Requirement already satisfied: python-dateutil>=2.5.0 in /usr/local/lib/python3.6/dist-packages (from pandas>=0.21.1->category_encoders) (2.5.3)\n",
            "Requirement already satisfied: pytz>=2011k in /usr/local/lib/python3.6/dist-packages (from pandas>=0.21.1->category_encoders) (2018.9)\n",
            "Requirement already satisfied: joblib>=0.11 in /usr/local/lib/python3.6/dist-packages (from scikit-learn>=0.20.0->category_encoders) (0.13.2)\n",
            "Requirement already satisfied: six in /usr/local/lib/python3.6/dist-packages (from patsy>=0.4.1->category_encoders) (1.12.0)\n",
            "Installing collected packages: category-encoders\n",
            "Successfully installed category-encoders-2.0.0\n"
          ],
          "name": "stdout"
        }
      ]
    },
    {
      "cell_type": "code",
      "metadata": {
        "id": "ToW-Ql9iDVnI",
        "colab_type": "code",
        "colab": {
          "base_uri": "https://localhost:8080/",
          "height": 73
        },
        "outputId": "20902205-0a45-4a13-8829-cd0f2537470a"
      },
      "source": [
        "pip install xgboost"
      ],
      "execution_count": 4,
      "outputs": [
        {
          "output_type": "stream",
          "text": [
            "Requirement already satisfied: xgboost in /usr/local/lib/python3.6/dist-packages (0.90)\n",
            "Requirement already satisfied: scipy in /usr/local/lib/python3.6/dist-packages (from xgboost) (1.3.0)\n",
            "Requirement already satisfied: numpy in /usr/local/lib/python3.6/dist-packages (from xgboost) (1.16.4)\n"
          ],
          "name": "stdout"
        }
      ]
    },
    {
      "cell_type": "code",
      "metadata": {
        "id": "oecpRb_gDVnP",
        "colab_type": "code",
        "colab": {}
      },
      "source": [
        "import category_encoders as ce\n",
        "import matplotlib.pyplot as plt\n",
        "import numpy as np\n",
        "import pandas as pd\n",
        "import walkabout as wa\n",
        "from eli5.sklearn import PermutationImportance\n",
        "from eli5 import show_weights\n",
        "from sklearn.ensemble import RandomForestClassifier\n",
        "from sklearn.metrics import accuracy_score\n",
        "from sklearn.model_selection import train_test_split\n",
        "from sklearn.model_selection import RandomizedSearchCV\n",
        "from sklearn.linear_model import LogisticRegression\n",
        "from sklearn.model_selection import cross_val_score\n",
        "from sklearn.metrics import accuracy_score\n",
        "from xgboost import XGBClassifier"
      ],
      "execution_count": 0,
      "outputs": []
    },
    {
      "cell_type": "code",
      "metadata": {
        "id": "dyDwKY_vDVnV",
        "colab_type": "code",
        "colab": {}
      },
      "source": [
        "# Make sure we can see all columns\n",
        "pd.set_option('display.max_columns', 100)\n",
        "\n",
        "def reset():\n",
        "    #Create a function to quickly and easily reset our data\n",
        "    \n",
        "    # Read in all CSV's\n",
        "    X_train = pd.read_csv('https://raw.githubusercontent.com/bundickm/Kaggle_Water_Pump_Competition/master/train_features.csv')\n",
        "    X_test = pd.read_csv('https://raw.githubusercontent.com/bundickm/Kaggle_Water_Pump_Competition/master/test_features.csv')\n",
        "    y_train = pd.read_csv('https://raw.githubusercontent.com/bundickm/Kaggle_Water_Pump_Competition/master/train_labels.csv')\n",
        "\n",
        "    # Split X_train to training and validation\n",
        "    return train_test_split(X_train, y_train, random_state=42, test_size=.2)\n",
        "\n",
        "\n",
        "X_train, X_val, y_train, y_val = reset()"
      ],
      "execution_count": 0,
      "outputs": []
    },
    {
      "cell_type": "markdown",
      "metadata": {
        "id": "nguTH4JgDVnb",
        "colab_type": "text"
      },
      "source": [
        "## Fast First Models"
      ]
    },
    {
      "cell_type": "markdown",
      "metadata": {
        "id": "Xvp_WhekDVnd",
        "colab_type": "text"
      },
      "source": [
        "We want to begin by understanding what our target looks like. This will set a lower bound on how well we are doing. From the value counts below, we immediately know our simplest baseline should be at least 54%. Why? Because the simplest baseline for a classification problem is to simply guess the majority classifier for all rows."
      ]
    },
    {
      "cell_type": "code",
      "metadata": {
        "id": "tVTW4hBoDVno",
        "colab_type": "code",
        "colab": {
          "base_uri": "https://localhost:8080/",
          "height": 297
        },
        "outputId": "d049e7cc-0869-46ef-e5f8-2c0f3db82ca9"
      },
      "source": [
        "temp = y_train.copy()\n",
        "temp = temp.replace({'functional needs repair':'Functional\\nNeeds Repair',\n",
        "                    'non functional':'Non Functional',\n",
        "                    'functional':'Functional'})\n",
        "temp = temp['status_group'].value_counts(normalize=True)\n",
        "\n",
        "plt.style.use('fivethirtyeight')\n",
        "ax = temp.plot.barh(edgecolor='black')\n",
        "\n",
        "ax.text(x=-.17,y=2.5,s='Water Pump Status Distribution', \n",
        "        fontsize=20, fontweight='bold')\n",
        "ax.text(x=.49,y=-.07,s='54%', fontsize=14, fontweight='bold')\n",
        "ax.text(x=.33,y=.93,s='38%', fontsize=14, fontweight='bold')\n",
        "ax.text(x=.035,y=1.93,s='7%', fontsize=14, fontweight='bold')\n",
        "\n",
        "plt.show()"
      ],
      "execution_count": 7,
      "outputs": [
        {
          "output_type": "display_data",
          "data": {
            "image/png": "[encoded data removed]",
            "text/plain": [
              "<Figure size 432x288 with 1 Axes>"
            ]
          },
          "metadata": {
            "tags": []
          }
        }
      ]
    },
    {
      "cell_type": "markdown",
      "metadata": {
        "id": "Z0BspQ36DVnu",
        "colab_type": "text"
      },
      "source": [
        "Next we are looking to build a lazy/simple model that does better than chance without much effort. This will give us starting point and a score to base the worth of our future efforts off of."
      ]
    },
    {
      "cell_type": "code",
      "metadata": {
        "id": "8sJ9upDnDVnw",
        "colab_type": "code",
        "colab": {}
      },
      "source": [
        "# Encode our categoricals\n",
        "encoder = ce.OrdinalEncoder()\n",
        "X_train = encoder.fit_transform(X_train)"
      ],
      "execution_count": 0,
      "outputs": []
    },
    {
      "cell_type": "code",
      "metadata": {
        "id": "0K5uTucBDVn3",
        "colab_type": "code",
        "colab": {
          "base_uri": "https://localhost:8080/",
          "height": 147
        },
        "outputId": "af4f062c-9fb0-442b-b197-8ef2484c737d"
      },
      "source": [
        "# Random Forest Classifier with no feature engineering (except encoding) \n",
        "# and no hyperparameter tuning\n",
        "forest = RandomForestClassifier(n_jobs=-1, random_state=42)\n",
        "\n",
        "# Using randomized search cv isn't necessary at this stage but using it to have\n",
        "# a working option later when I really care about hyperparameter optimization\n",
        "param_distributions = {'n_estimators':[200],\n",
        "                       'max_depth':[20]}\n",
        "\n",
        "search = RandomizedSearchCV(forest, param_distributions=param_distributions,\n",
        "                            scoring='accuracy', n_iter=1, n_jobs=-1, cv=5,\n",
        "                            verbose=10, return_train_score=True, \n",
        "                            random_state=42)\n",
        "search.fit(X_train, y_train['status_group'])\n",
        "\n",
        "print('Training Accuracy Score:',search.best_score_)"
      ],
      "execution_count": 9,
      "outputs": [
        {
          "output_type": "stream",
          "text": [
            "Fitting 5 folds for each of 1 candidates, totalling 5 fits\n"
          ],
          "name": "stdout"
        },
        {
          "output_type": "stream",
          "text": [
            "[Parallel(n_jobs=-1)]: Using backend LokyBackend with 2 concurrent workers.\n",
            "[Parallel(n_jobs=-1)]: Done   1 tasks      | elapsed:   41.1s\n",
            "[Parallel(n_jobs=-1)]: Done   3 out of   5 | elapsed:  1.3min remaining:   53.6s\n",
            "[Parallel(n_jobs=-1)]: Done   5 out of   5 | elapsed:  1.7min remaining:    0.0s\n",
            "[Parallel(n_jobs=-1)]: Done   5 out of   5 | elapsed:  1.7min finished\n"
          ],
          "name": "stderr"
        },
        {
          "output_type": "stream",
          "text": [
            "Training Accuracy Score: 0.8085437710437711\n"
          ],
          "name": "stdout"
        }
      ]
    },
    {
      "cell_type": "code",
      "metadata": {
        "id": "ad06XKhcDVn8",
        "colab_type": "code",
        "colab": {
          "base_uri": "https://localhost:8080/",
          "height": 36
        },
        "outputId": "f2e5dc73-120f-4482-bb37-3453de2798e6"
      },
      "source": [
        "# Solid score but I may have misleading results, \n",
        "# need to test on the validation set as well\n",
        "best = search.best_estimator_\n",
        "X_val = encoder.transform(X_val)\n",
        "y_pred = best.predict(X_val)\n",
        "print('Validation Set Accuracy Score:', \n",
        "      accuracy_score(y_val['status_group'], y_pred))"
      ],
      "execution_count": 10,
      "outputs": [
        {
          "output_type": "stream",
          "text": [
            "Validation Set Accuracy Score: 0.8111952861952862\n"
          ],
          "name": "stdout"
        }
      ]
    },
    {
      "cell_type": "markdown",
      "metadata": {
        "id": "KkI3jxv_DVoB",
        "colab_type": "text"
      },
      "source": [
        "Now that we have our baseline, we can begin a full exploration of the data and hopefully engineer additional features to improve the score. "
      ]
    },
    {
      "cell_type": "markdown",
      "metadata": {
        "id": "DTS4osOuDVoD",
        "colab_type": "text"
      },
      "source": [
        "# Exploratory Data Analysis"
      ]
    },
    {
      "cell_type": "markdown",
      "metadata": {
        "id": "HNH7OmSFDVoE",
        "colab_type": "text"
      },
      "source": [
        "Before resetting our data for EDA, we are going to pull feature importances using eli5. This gives us insight into what features were important to get us to 81% accuracy. Once we know what features have the greatest weight, we know which features to start our data engineering efforts with and which ones are likely a waste of time."
      ]
    },
    {
      "cell_type": "code",
      "metadata": {
        "id": "N8IFb0tgDVoG",
        "colab_type": "code",
        "colab": {
          "base_uri": "https://localhost:8080/",
          "height": 729
        },
        "outputId": "aabaa1d0-827d-4ca7-fe82-d8f1c668aa54"
      },
      "source": [
        "permuter = PermutationImportance(best, scoring='accuracy', cv='prefit', \n",
        "                                 n_iter=3, random_state=42)\n",
        "\n",
        "permuter.fit(X_val, y_val['status_group'])\n",
        "\n",
        "feature_names = X_val.columns.tolist()\n",
        "show_weights(permuter, top=None, feature_names=feature_names)"
      ],
      "execution_count": 11,
      "outputs": [
        {
          "output_type": "execute_result",
          "data": {
            "text/html": [
              "\n",
              "    <style>\n",
              "    table.eli5-weights tr:hover {\n",
              "        filter: brightness(85%);\n",
              "    }\n",
              "</style>\n",
              "\n",
              "\n",
              "\n",
              "    \n",
              "\n",
              "    \n",
              "\n",
              "    \n",
              "\n",
              "    \n",
              "\n",
              "    \n",
              "\n",
              "    \n",
              "\n",
              "\n",
              "    \n",
              "\n",
              "    \n",
              "\n",
              "    \n",
              "\n",
              "    \n",
              "\n",
              "    \n",
              "\n",
              "    \n",
              "\n",
              "\n",
              "    \n",
              "\n",
              "    \n",
              "\n",
              "    \n",
              "\n",
              "    \n",
              "\n",
              "    \n",
              "        <table class=\"eli5-weights eli5-feature-importances\" style=\"border-collapse: collapse; border: none; margin-top: 0em; table-layout: auto;\">\n",
              "    <thead>\n",
              "    <tr style=\"border: none;\">\n",
              "        <th style=\"padding: 0 1em 0 0.5em; text-align: right; border: none;\">Weight</th>\n",
              "        <th style=\"padding: 0 0.5em 0 0.5em; text-align: left; border: none;\">Feature</th>\n",
              "    </tr>\n",
              "    </thead>\n",
              "    <tbody>\n",
              "    \n",
              "        <tr style=\"background-color: hsl(120, 100.00%, 80.00%); border: none;\">\n",
              "            <td style=\"padding: 0 1em 0 0.5em; text-align: right; border: none;\">\n",
              "                0.0412\n",
              "                \n",
              "                    &plusmn; 0.0040\n",
              "                \n",
              "            </td>\n",
              "            <td style=\"padding: 0 0.5em 0 0.5em; text-align: left; border: none;\">\n",
              "                quantity\n",
              "            </td>\n",
              "        </tr>\n",
              "    \n",
              "        <tr style=\"background-color: hsl(120, 100.00%, 85.23%); border: none;\">\n",
              "            <td style=\"padding: 0 1em 0 0.5em; text-align: right; border: none;\">\n",
              "                0.0267\n",
              "                \n",
              "                    &plusmn; 0.0005\n",
              "                \n",
              "            </td>\n",
              "            <td style=\"padding: 0 0.5em 0 0.5em; text-align: left; border: none;\">\n",
              "                quantity_group\n",
              "            </td>\n",
              "        </tr>\n",
              "    \n",
              "        <tr style=\"background-color: hsl(120, 100.00%, 89.85%); border: none;\">\n",
              "            <td style=\"padding: 0 1em 0 0.5em; text-align: right; border: none;\">\n",
              "                0.0157\n",
              "                \n",
              "                    &plusmn; 0.0014\n",
              "                \n",
              "            </td>\n",
              "            <td style=\"padding: 0 0.5em 0 0.5em; text-align: left; border: none;\">\n",
              "                construction_year\n",
              "            </td>\n",
              "        </tr>\n",
              "    \n",
              "        <tr style=\"background-color: hsl(120, 100.00%, 91.29%); border: none;\">\n",
              "            <td style=\"padding: 0 1em 0 0.5em; text-align: right; border: none;\">\n",
              "                0.0126\n",
              "                \n",
              "                    &plusmn; 0.0020\n",
              "                \n",
              "            </td>\n",
              "            <td style=\"padding: 0 0.5em 0 0.5em; text-align: left; border: none;\">\n",
              "                waterpoint_type\n",
              "            </td>\n",
              "        </tr>\n",
              "    \n",
              "        <tr style=\"background-color: hsl(120, 100.00%, 91.43%); border: none;\">\n",
              "            <td style=\"padding: 0 1em 0 0.5em; text-align: right; border: none;\">\n",
              "                0.0123\n",
              "                \n",
              "                    &plusmn; 0.0022\n",
              "                \n",
              "            </td>\n",
              "            <td style=\"padding: 0 0.5em 0 0.5em; text-align: left; border: none;\">\n",
              "                extraction_type_class\n",
              "            </td>\n",
              "        </tr>\n",
              "    \n",
              "        <tr style=\"background-color: hsl(120, 100.00%, 92.88%); border: none;\">\n",
              "            <td style=\"padding: 0 1em 0 0.5em; text-align: right; border: none;\">\n",
              "                0.0094\n",
              "                \n",
              "                    &plusmn; 0.0012\n",
              "                \n",
              "            </td>\n",
              "            <td style=\"padding: 0 0.5em 0 0.5em; text-align: left; border: none;\">\n",
              "                longitude\n",
              "            </td>\n",
              "        </tr>\n",
              "    \n",
              "        <tr style=\"background-color: hsl(120, 100.00%, 93.11%); border: none;\">\n",
              "            <td style=\"padding: 0 1em 0 0.5em; text-align: right; border: none;\">\n",
              "                0.0090\n",
              "                \n",
              "                    &plusmn; 0.0006\n",
              "                \n",
              "            </td>\n",
              "            <td style=\"padding: 0 0.5em 0 0.5em; text-align: left; border: none;\">\n",
              "                amount_tsh\n",
              "            </td>\n",
              "        </tr>\n",
              "    \n",
              "        <tr style=\"background-color: hsl(120, 100.00%, 93.21%); border: none;\">\n",
              "            <td style=\"padding: 0 1em 0 0.5em; text-align: right; border: none;\">\n",
              "                0.0088\n",
              "                \n",
              "                    &plusmn; 0.0009\n",
              "                \n",
              "            </td>\n",
              "            <td style=\"padding: 0 0.5em 0 0.5em; text-align: left; border: none;\">\n",
              "                population\n",
              "            </td>\n",
              "        </tr>\n",
              "    \n",
              "        <tr style=\"background-color: hsl(120, 100.00%, 94.83%); border: none;\">\n",
              "            <td style=\"padding: 0 1em 0 0.5em; text-align: right; border: none;\">\n",
              "                0.0060\n",
              "                \n",
              "                    &plusmn; 0.0018\n",
              "                \n",
              "            </td>\n",
              "            <td style=\"padding: 0 0.5em 0 0.5em; text-align: left; border: none;\">\n",
              "                latitude\n",
              "            </td>\n",
              "        </tr>\n",
              "    \n",
              "        <tr style=\"background-color: hsl(120, 100.00%, 96.62%); border: none;\">\n",
              "            <td style=\"padding: 0 1em 0 0.5em; text-align: right; border: none;\">\n",
              "                0.0033\n",
              "                \n",
              "                    &plusmn; 0.0023\n",
              "                \n",
              "            </td>\n",
              "            <td style=\"padding: 0 0.5em 0 0.5em; text-align: left; border: none;\">\n",
              "                funder\n",
              "            </td>\n",
              "        </tr>\n",
              "    \n",
              "        <tr style=\"background-color: hsl(120, 100.00%, 96.68%); border: none;\">\n",
              "            <td style=\"padding: 0 1em 0 0.5em; text-align: right; border: none;\">\n",
              "                0.0032\n",
              "                \n",
              "                    &plusmn; 0.0023\n",
              "                \n",
              "            </td>\n",
              "            <td style=\"padding: 0 0.5em 0 0.5em; text-align: left; border: none;\">\n",
              "                waterpoint_type_group\n",
              "            </td>\n",
              "        </tr>\n",
              "    \n",
              "        <tr style=\"background-color: hsl(120, 100.00%, 96.89%); border: none;\">\n",
              "            <td style=\"padding: 0 1em 0 0.5em; text-align: right; border: none;\">\n",
              "                0.0029\n",
              "                \n",
              "                    &plusmn; 0.0011\n",
              "                \n",
              "            </td>\n",
              "            <td style=\"padding: 0 0.5em 0 0.5em; text-align: left; border: none;\">\n",
              "                scheme_name\n",
              "            </td>\n",
              "        </tr>\n",
              "    \n",
              "        <tr style=\"background-color: hsl(120, 100.00%, 97.02%); border: none;\">\n",
              "            <td style=\"padding: 0 1em 0 0.5em; text-align: right; border: none;\">\n",
              "                0.0027\n",
              "                \n",
              "                    &plusmn; 0.0001\n",
              "                \n",
              "            </td>\n",
              "            <td style=\"padding: 0 0.5em 0 0.5em; text-align: left; border: none;\">\n",
              "                date_recorded\n",
              "            </td>\n",
              "        </tr>\n",
              "    \n",
              "        <tr style=\"background-color: hsl(120, 100.00%, 97.06%); border: none;\">\n",
              "            <td style=\"padding: 0 1em 0 0.5em; text-align: right; border: none;\">\n",
              "                0.0027\n",
              "                \n",
              "                    &plusmn; 0.0003\n",
              "                \n",
              "            </td>\n",
              "            <td style=\"padding: 0 0.5em 0 0.5em; text-align: left; border: none;\">\n",
              "                lga\n",
              "            </td>\n",
              "        </tr>\n",
              "    \n",
              "        <tr style=\"background-color: hsl(120, 100.00%, 97.10%); border: none;\">\n",
              "            <td style=\"padding: 0 1em 0 0.5em; text-align: right; border: none;\">\n",
              "                0.0026\n",
              "                \n",
              "                    &plusmn; 0.0005\n",
              "                \n",
              "            </td>\n",
              "            <td style=\"padding: 0 0.5em 0 0.5em; text-align: left; border: none;\">\n",
              "                region_code\n",
              "            </td>\n",
              "        </tr>\n",
              "    \n",
              "        <tr style=\"background-color: hsl(120, 100.00%, 97.21%); border: none;\">\n",
              "            <td style=\"padding: 0 1em 0 0.5em; text-align: right; border: none;\">\n",
              "                0.0025\n",
              "                \n",
              "                    &plusmn; 0.0018\n",
              "                \n",
              "            </td>\n",
              "            <td style=\"padding: 0 0.5em 0 0.5em; text-align: left; border: none;\">\n",
              "                installer\n",
              "            </td>\n",
              "        </tr>\n",
              "    \n",
              "        <tr style=\"background-color: hsl(120, 100.00%, 97.44%); border: none;\">\n",
              "            <td style=\"padding: 0 1em 0 0.5em; text-align: right; border: none;\">\n",
              "                0.0022\n",
              "                \n",
              "                    &plusmn; 0.0019\n",
              "                \n",
              "            </td>\n",
              "            <td style=\"padding: 0 0.5em 0 0.5em; text-align: left; border: none;\">\n",
              "                gps_height\n",
              "            </td>\n",
              "        </tr>\n",
              "    \n",
              "        <tr style=\"background-color: hsl(120, 100.00%, 97.56%); border: none;\">\n",
              "            <td style=\"padding: 0 1em 0 0.5em; text-align: right; border: none;\">\n",
              "                0.0020\n",
              "                \n",
              "                    &plusmn; 0.0017\n",
              "                \n",
              "            </td>\n",
              "            <td style=\"padding: 0 0.5em 0 0.5em; text-align: left; border: none;\">\n",
              "                ward\n",
              "            </td>\n",
              "        </tr>\n",
              "    \n",
              "        <tr style=\"background-color: hsl(120, 100.00%, 97.77%); border: none;\">\n",
              "            <td style=\"padding: 0 1em 0 0.5em; text-align: right; border: none;\">\n",
              "                0.0018\n",
              "                \n",
              "                    &plusmn; 0.0023\n",
              "                \n",
              "            </td>\n",
              "            <td style=\"padding: 0 0.5em 0 0.5em; text-align: left; border: none;\">\n",
              "                region\n",
              "            </td>\n",
              "        </tr>\n",
              "    \n",
              "        <tr style=\"background-color: hsl(120, 100.00%, 98.10%); border: none;\">\n",
              "            <td style=\"padding: 0 1em 0 0.5em; text-align: right; border: none;\">\n",
              "                0.0014\n",
              "                \n",
              "                    &plusmn; 0.0011\n",
              "                \n",
              "            </td>\n",
              "            <td style=\"padding: 0 0.5em 0 0.5em; text-align: left; border: none;\">\n",
              "                payment\n",
              "            </td>\n",
              "        </tr>\n",
              "    \n",
              "        <tr style=\"background-color: hsl(120, 100.00%, 98.15%); border: none;\">\n",
              "            <td style=\"padding: 0 1em 0 0.5em; text-align: right; border: none;\">\n",
              "                0.0014\n",
              "                \n",
              "                    &plusmn; 0.0021\n",
              "                \n",
              "            </td>\n",
              "            <td style=\"padding: 0 0.5em 0 0.5em; text-align: left; border: none;\">\n",
              "                district_code\n",
              "            </td>\n",
              "        </tr>\n",
              "    \n",
              "        <tr style=\"background-color: hsl(120, 100.00%, 98.15%); border: none;\">\n",
              "            <td style=\"padding: 0 1em 0 0.5em; text-align: right; border: none;\">\n",
              "                0.0014\n",
              "                \n",
              "                    &plusmn; 0.0022\n",
              "                \n",
              "            </td>\n",
              "            <td style=\"padding: 0 0.5em 0 0.5em; text-align: left; border: none;\">\n",
              "                extraction_type\n",
              "            </td>\n",
              "        </tr>\n",
              "    \n",
              "        <tr style=\"background-color: hsl(120, 100.00%, 98.28%); border: none;\">\n",
              "            <td style=\"padding: 0 1em 0 0.5em; text-align: right; border: none;\">\n",
              "                0.0012\n",
              "                \n",
              "                    &plusmn; 0.0005\n",
              "                \n",
              "            </td>\n",
              "            <td style=\"padding: 0 0.5em 0 0.5em; text-align: left; border: none;\">\n",
              "                basin\n",
              "            </td>\n",
              "        </tr>\n",
              "    \n",
              "        <tr style=\"background-color: hsl(120, 100.00%, 98.91%); border: none;\">\n",
              "            <td style=\"padding: 0 1em 0 0.5em; text-align: right; border: none;\">\n",
              "                0.0006\n",
              "                \n",
              "                    &plusmn; 0.0015\n",
              "                \n",
              "            </td>\n",
              "            <td style=\"padding: 0 0.5em 0 0.5em; text-align: left; border: none;\">\n",
              "                scheme_management\n",
              "            </td>\n",
              "        </tr>\n",
              "    \n",
              "        <tr style=\"background-color: hsl(120, 100.00%, 98.98%); border: none;\">\n",
              "            <td style=\"padding: 0 1em 0 0.5em; text-align: right; border: none;\">\n",
              "                0.0006\n",
              "                \n",
              "                    &plusmn; 0.0005\n",
              "                \n",
              "            </td>\n",
              "            <td style=\"padding: 0 0.5em 0 0.5em; text-align: left; border: none;\">\n",
              "                quality_group\n",
              "            </td>\n",
              "        </tr>\n",
              "    \n",
              "        <tr style=\"background-color: hsl(120, 100.00%, 99.01%); border: none;\">\n",
              "            <td style=\"padding: 0 1em 0 0.5em; text-align: right; border: none;\">\n",
              "                0.0006\n",
              "                \n",
              "                    &plusmn; 0.0009\n",
              "                \n",
              "            </td>\n",
              "            <td style=\"padding: 0 0.5em 0 0.5em; text-align: left; border: none;\">\n",
              "                payment_type\n",
              "            </td>\n",
              "        </tr>\n",
              "    \n",
              "        <tr style=\"background-color: hsl(120, 100.00%, 99.35%); border: none;\">\n",
              "            <td style=\"padding: 0 1em 0 0.5em; text-align: right; border: none;\">\n",
              "                0.0003\n",
              "                \n",
              "                    &plusmn; 0.0007\n",
              "                \n",
              "            </td>\n",
              "            <td style=\"padding: 0 0.5em 0 0.5em; text-align: left; border: none;\">\n",
              "                water_quality\n",
              "            </td>\n",
              "        </tr>\n",
              "    \n",
              "        <tr style=\"background-color: hsl(120, 100.00%, 99.57%); border: none;\">\n",
              "            <td style=\"padding: 0 1em 0 0.5em; text-align: right; border: none;\">\n",
              "                0.0002\n",
              "                \n",
              "                    &plusmn; 0.0005\n",
              "                \n",
              "            </td>\n",
              "            <td style=\"padding: 0 0.5em 0 0.5em; text-align: left; border: none;\">\n",
              "                public_meeting\n",
              "            </td>\n",
              "        </tr>\n",
              "    \n",
              "        <tr style=\"background-color: hsl(120, 100.00%, 99.68%); border: none;\">\n",
              "            <td style=\"padding: 0 1em 0 0.5em; text-align: right; border: none;\">\n",
              "                0.0001\n",
              "                \n",
              "                    &plusmn; 0.0015\n",
              "                \n",
              "            </td>\n",
              "            <td style=\"padding: 0 0.5em 0 0.5em; text-align: left; border: none;\">\n",
              "                extraction_type_group\n",
              "            </td>\n",
              "        </tr>\n",
              "    \n",
              "        <tr style=\"background-color: hsl(120, 100.00%, 99.68%); border: none;\">\n",
              "            <td style=\"padding: 0 1em 0 0.5em; text-align: right; border: none;\">\n",
              "                0.0001\n",
              "                \n",
              "                    &plusmn; 0.0020\n",
              "                \n",
              "            </td>\n",
              "            <td style=\"padding: 0 0.5em 0 0.5em; text-align: left; border: none;\">\n",
              "                subvillage\n",
              "            </td>\n",
              "        </tr>\n",
              "    \n",
              "        <tr style=\"background-color: hsl(120, 100.00%, 99.80%); border: none;\">\n",
              "            <td style=\"padding: 0 1em 0 0.5em; text-align: right; border: none;\">\n",
              "                0.0001\n",
              "                \n",
              "                    &plusmn; 0.0003\n",
              "                \n",
              "            </td>\n",
              "            <td style=\"padding: 0 0.5em 0 0.5em; text-align: left; border: none;\">\n",
              "                permit\n",
              "            </td>\n",
              "        </tr>\n",
              "    \n",
              "        <tr style=\"background-color: hsl(0, 100.00%, 100.00%); border: none;\">\n",
              "            <td style=\"padding: 0 1em 0 0.5em; text-align: right; border: none;\">\n",
              "                0\n",
              "                \n",
              "                    &plusmn; 0.0000\n",
              "                \n",
              "            </td>\n",
              "            <td style=\"padding: 0 0.5em 0 0.5em; text-align: left; border: none;\">\n",
              "                recorded_by\n",
              "            </td>\n",
              "        </tr>\n",
              "    \n",
              "        <tr style=\"background-color: hsl(0, 100.00%, 100.00%); border: none;\">\n",
              "            <td style=\"padding: 0 1em 0 0.5em; text-align: right; border: none;\">\n",
              "                0\n",
              "                \n",
              "                    &plusmn; 0.0000\n",
              "                \n",
              "            </td>\n",
              "            <td style=\"padding: 0 0.5em 0 0.5em; text-align: left; border: none;\">\n",
              "                num_private\n",
              "            </td>\n",
              "        </tr>\n",
              "    \n",
              "        <tr style=\"background-color: hsl(0, 100.00%, 99.44%); border: none;\">\n",
              "            <td style=\"padding: 0 1em 0 0.5em; text-align: right; border: none;\">\n",
              "                -0.0003\n",
              "                \n",
              "                    &plusmn; 0.0001\n",
              "                \n",
              "            </td>\n",
              "            <td style=\"padding: 0 0.5em 0 0.5em; text-align: left; border: none;\">\n",
              "                source_class\n",
              "            </td>\n",
              "        </tr>\n",
              "    \n",
              "        <tr style=\"background-color: hsl(0, 100.00%, 99.31%); border: none;\">\n",
              "            <td style=\"padding: 0 1em 0 0.5em; text-align: right; border: none;\">\n",
              "                -0.0003\n",
              "                \n",
              "                    &plusmn; 0.0004\n",
              "                \n",
              "            </td>\n",
              "            <td style=\"padding: 0 0.5em 0 0.5em; text-align: left; border: none;\">\n",
              "                management_group\n",
              "            </td>\n",
              "        </tr>\n",
              "    \n",
              "        <tr style=\"background-color: hsl(0, 100.00%, 98.88%); border: none;\">\n",
              "            <td style=\"padding: 0 1em 0 0.5em; text-align: right; border: none;\">\n",
              "                -0.0007\n",
              "                \n",
              "                    &plusmn; 0.0010\n",
              "                \n",
              "            </td>\n",
              "            <td style=\"padding: 0 0.5em 0 0.5em; text-align: left; border: none;\">\n",
              "                management\n",
              "            </td>\n",
              "        </tr>\n",
              "    \n",
              "        <tr style=\"background-color: hsl(0, 100.00%, 98.66%); border: none;\">\n",
              "            <td style=\"padding: 0 1em 0 0.5em; text-align: right; border: none;\">\n",
              "                -0.0009\n",
              "                \n",
              "                    &plusmn; 0.0010\n",
              "                \n",
              "            </td>\n",
              "            <td style=\"padding: 0 0.5em 0 0.5em; text-align: left; border: none;\">\n",
              "                source\n",
              "            </td>\n",
              "        </tr>\n",
              "    \n",
              "        <tr style=\"background-color: hsl(0, 100.00%, 98.54%); border: none;\">\n",
              "            <td style=\"padding: 0 1em 0 0.5em; text-align: right; border: none;\">\n",
              "                -0.0010\n",
              "                \n",
              "                    &plusmn; 0.0007\n",
              "                \n",
              "            </td>\n",
              "            <td style=\"padding: 0 0.5em 0 0.5em; text-align: left; border: none;\">\n",
              "                source_type\n",
              "            </td>\n",
              "        </tr>\n",
              "    \n",
              "        <tr style=\"background-color: hsl(0, 100.00%, 98.26%); border: none;\">\n",
              "            <td style=\"padding: 0 1em 0 0.5em; text-align: right; border: none;\">\n",
              "                -0.0013\n",
              "                \n",
              "                    &plusmn; 0.0005\n",
              "                \n",
              "            </td>\n",
              "            <td style=\"padding: 0 0.5em 0 0.5em; text-align: left; border: none;\">\n",
              "                wpt_name\n",
              "            </td>\n",
              "        </tr>\n",
              "    \n",
              "        <tr style=\"background-color: hsl(0, 100.00%, 97.77%); border: none;\">\n",
              "            <td style=\"padding: 0 1em 0 0.5em; text-align: right; border: none;\">\n",
              "                -0.0018\n",
              "                \n",
              "                    &plusmn; 0.0013\n",
              "                \n",
              "            </td>\n",
              "            <td style=\"padding: 0 0.5em 0 0.5em; text-align: left; border: none;\">\n",
              "                id\n",
              "            </td>\n",
              "        </tr>\n",
              "    \n",
              "    \n",
              "    </tbody>\n",
              "</table>\n",
              "    \n",
              "\n",
              "    \n",
              "\n",
              "\n",
              "    \n",
              "\n",
              "    \n",
              "\n",
              "    \n",
              "\n",
              "    \n",
              "\n",
              "    \n",
              "\n",
              "    \n",
              "\n",
              "\n",
              "\n"
            ],
            "text/plain": [
              "<IPython.core.display.HTML object>"
            ]
          },
          "metadata": {
            "tags": []
          },
          "execution_count": 11
        }
      ]
    },
    {
      "cell_type": "code",
      "metadata": {
        "id": "fpEHebX1DVoM",
        "colab_type": "code",
        "colab": {}
      },
      "source": [
        "# Reset our data for EDA so categorical variables are \n",
        "# no longer encoded as numeric\n",
        "X_train, X_val, y_train, y_val = reset()"
      ],
      "execution_count": 0,
      "outputs": []
    },
    {
      "cell_type": "markdown",
      "metadata": {
        "id": "W97Lj-uQDVoQ",
        "colab_type": "text"
      },
      "source": [
        "Walkabout (aliased as `wa`) is a library I wrote to speed up EDA and will be used below"
      ]
    },
    {
      "cell_type": "code",
      "metadata": {
        "scrolled": false,
        "id": "SoYNueUaDVoR",
        "colab_type": "code",
        "colab": {
          "base_uri": "https://localhost:8080/",
          "height": 1000
        },
        "outputId": "b2267c67-d751-466a-af2f-f4b002054590"
      },
      "source": [
        "# Take a look at all the basic stuff first\n",
        "wa.report.rundown(X_train, include_types_uniques=False)"
      ],
      "execution_count": 13,
      "outputs": [
        {
          "output_type": "stream",
          "text": [
            "DataFrame Shape\n",
            "Rows: 47520    Columns: 40\n",
            "\n",
            "Column                     mean          std       min          25%         50%          75%          max\n",
            "-----------------  ------------  -----------  --------  -----------  ----------  -----------  -----------\n",
            "id                 37114.5       21445.8        0       18555.8      37038       55666.2       74247\n",
            "amount_tsh           322.048      3200.62       0           0            0          20        350000\n",
            "gps_height           668.745       692.972    -63           0          370        1320          2770\n",
            "longitude             34.0913        6.5384     0          33.0843      34.9117     37.1806       40.3452\n",
            "latitude              -5.705         2.9435   -11.6494     -8.53247     -5.0177     -3.32646      -2e-08\n",
            "num_private            0.504566     13.2538     0           0            0           0          1776\n",
            "region_code           15.3265       17.6188     1           5           12          17            99\n",
            "district_code          5.63931       9.66128    0           2            3           5            80\n",
            "population           179.528       472.773      0           0           25         213         30500\n",
            "construction_year   1303.35        950.764      0           0         1986        2004          2013\n",
            "\n",
            "Column                   Nulls  %Null                Placeholders    Recommendation\n",
            "---------------------  -------  -------------------  --------------  ------------------------------------------------------\n",
            "id                           0  0.0%\n",
            "amount_tsh                   0  0.0%\n",
            "date_recorded                0  0.0%\n",
            "funder                    2876  6.052188552188553%   None            Possible Placeholders: Replace and rerun nulls report.\n",
            "gps_height                   0  0.0%                 -1              Possible Placeholders: Replace and rerun nulls report.\n",
            "installer                 2889  6.079545454545455%                   Mostly Filled Column: Impute values\n",
            "longitude                    0  0.0%\n",
            "latitude                     0  0.0%\n",
            "wpt_name                     0  0.0%                 None, none      Possible Placeholders: Replace and rerun nulls report.\n",
            "num_private                  0  0.0%\n",
            "basin                        0  0.0%\n",
            "subvillage                 296  0.6228956228956228%                  Mostly Filled Column: Impute values\n",
            "region                       0  0.0%\n",
            "region_code                  0  0.0%\n",
            "district_code                0  0.0%\n",
            "lga                          0  0.0%\n",
            "ward                         0  0.0%\n",
            "population                   0  0.0%\n",
            "public_meeting            2689  5.658670033670034%                   Mostly Filled Column: Impute values\n",
            "recorded_by                  0  0.0%\n",
            "scheme_management         3102  6.527777777777779%   None            Possible Placeholders: Replace and rerun nulls report.\n",
            "scheme_name              22523  47.39688552188552%   None, none      Possible Placeholders: Replace and rerun nulls report.\n",
            "permit                    2439  5.132575757575757%                   Mostly Filled Column: Impute values\n",
            "construction_year            0  0.0%\n",
            "extraction_type              0  0.0%\n",
            "extraction_type_group        0  0.0%\n",
            "extraction_type_class        0  0.0%\n",
            "management                   0  0.0%\n",
            "management_group             0  0.0%\n",
            "payment                      0  0.0%\n",
            "payment_type                 0  0.0%\n",
            "water_quality                0  0.0%\n",
            "quality_group                0  0.0%\n",
            "quantity                     0  0.0%\n",
            "quantity_group               0  0.0%\n",
            "source                       0  0.0%\n",
            "source_type                  0  0.0%\n",
            "source_class                 0  0.0%\n",
            "waterpoint_type              0  0.0%\n",
            "waterpoint_type_group        0  0.0%\n",
            "\n"
          ],
          "name": "stdout"
        }
      ]
    },
    {
      "cell_type": "code",
      "metadata": {
        "id": "2Zuja9M-DVoY",
        "colab_type": "code",
        "colab": {
          "base_uri": "https://localhost:8080/",
          "height": 795
        },
        "outputId": "c45e5fd6-083f-4ea6-87d8-83e916020dc6"
      },
      "source": [
        "wa.report.type_and_unique(X_train, unq_limit=5)"
      ],
      "execution_count": 14,
      "outputs": [
        {
          "output_type": "stream",
          "text": [
            "Column                 Type       nUnique  Unique Values\n",
            "---------------------  -------  ---------  -------------------------------------------------------------------------------------\n",
            "id                     int64        47520  454, 510, 14146, 47410, 1288...\n",
            "amount_tsh             float64         96  50.0, 0.0, 300.0, 10.0, 8000.0...\n",
            "date_recorded          object         351  2013-02-27, 2011-03-17, 2011-07-10, 2011-04-12, 2011-04-05...\n",
            "funder                 object        1698  Dmdd, Cmsr, Kkkt, nan, Ki...\n",
            "gps_height             int64         2401  2092, 0, 1023, 298, 1141...\n",
            "installer              object        1923  DMDD, Gove, KKKT, nan, Ki...\n",
            "longitude              float64      46043  35.42602046, 35.51007372, 32.49986613, 34.06048376, 37.03268998...\n",
            "latitude               float64      46044  -4.22744596, -5.7245550000000005, -9.08122219, -8.83020763, -6.04078736...\n",
            "wpt_name               object       30742  Narmo, Lukali, Mahakama, Shule Ya Msingi Chosi A, Kwa Mjowe...\n",
            "num_private            int64           59  0, 47, 150, 65, 5...\n",
            "basin                  object           9  Internal, Lake Rukwa, Rufiji, Wami / Ruvu, Lake Victoria...\n",
            "subvillage             object       17232  Bashnet Kati, Lukali, Chawalikozi, Shuleni, Ngholong...\n",
            "region                 object          21  Manyara, Dodoma, Mbeya, Morogoro, Mwanza...\n",
            "region_code            int64           27  21, 1, 12, 5, 19...\n",
            "district_code          int64           20  1, 6, 7, 2, 3...\n",
            "lga                    object         125  Babati, Bahi, Mbozi, Mbarali, Kilosa...\n",
            "ward                   object        2076  Bashinet, Lamaiti, Ndalambo, Chimala, Chakwale...\n",
            "population             int64          971  160, 0, 120, 250, 1520...\n",
            "public_meeting         object           2  True, False, nan\n",
            "recorded_by            object           1  GeoData Consultants Ltd WARNING: CONSTANT VALUE\n",
            "scheme_management      object          12  Water Board, VWC, WUG, nan, Water authority...\n",
            "scheme_name            object        2541  nan, Olikimo water project, S, Fufu, Malemeu gravity water supply...\n",
            "permit                 object           2  True, False, nan\n",
            "construction_year      int64           55  1998, 0, 1997, 2009, 2008...\n",
            "extraction_type        object          18  gravity, india mark ii, other, nira/tanira, swn 80...\n",
            "extraction_type_group  object          13  gravity, india mark ii, other, nira/tanira, swn 80...\n",
            "extraction_type_class  object           7  gravity, handpump, other, motorpump, submersible...\n",
            "management             object          12  water board, vwc, wug, private operator, parastatal...\n",
            "management_group       object           5  user-group, commercial, parastatal, other, unknown\n",
            "payment                object           7  pay per bucket, never pay, pay monthly, pay when scheme fails, other...\n",
            "payment_type           object           7  per bucket, never pay, monthly, on failure, other...\n",
            "water_quality          object           8  soft, salty, unknown, coloured, fluoride...\n",
            "quality_group          object           6  good, salty, unknown, colored, fluoride...\n",
            "quantity               object           5  insufficient, enough, seasonal, dry, unknown\n",
            "quantity_group         object           5  insufficient, enough, seasonal, dry, unknown\n",
            "source                 object          10  spring, shallow well, river, machine dbh, hand dtw...\n",
            "source_type            object           7  spring, shallow well, river/lake, borehole, dam...\n",
            "source_class           object           3  groundwater, surface, unknown\n",
            "waterpoint_type        object           7  communal standpipe, hand pump, other, communal standpipe multiple, improved spring...\n",
            "waterpoint_type_group  object           6  communal standpipe, hand pump, other, improved spring, cattle trough...\n"
          ],
          "name": "stdout"
        }
      ]
    },
    {
      "cell_type": "code",
      "metadata": {
        "id": "-DhhICU4DVoh",
        "colab_type": "code",
        "colab": {
          "base_uri": "https://localhost:8080/",
          "height": 147
        },
        "outputId": "9a77d6d5-efa6-4c5d-816d-95a581135df6"
      },
      "source": [
        "# With nulls, one correlation pair that is extremely correlated, \n",
        "# and two pairs that are high. Indicates MAR\n",
        "wa.report.high_correlations(X_train.isnull())"
      ],
      "execution_count": 15,
      "outputs": [
        {
          "output_type": "stream",
          "text": [
            "Feature 1    Feature 2       Value\n",
            "-----------  -----------  --------\n",
            "funder       installer    0.980983\n",
            "funder       permit       0.708053\n",
            "installer    permit       0.705098\n",
            "\n",
            "Threshold: 0.7\n"
          ],
          "name": "stdout"
        }
      ]
    },
    {
      "cell_type": "markdown",
      "metadata": {
        "id": "ZlBPN_uqDVon",
        "colab_type": "text"
      },
      "source": [
        "## Cleaning To-Do's\n",
        "- Handful of columns that have nulls\n",
        "- A few columns with possible placeholder nulls\n",
        "- Three gps related coordinates that we will want to verify are within the bounds of Tanzania\n",
        "- `construction_year`, `amount_tsh`, `population`, and `num_private` look to have odd distributions we wouldn't expect\n",
        "- 3 interrelated feature pairs with high correlation on their missing values\n",
        "- Many features share similar names and looking at the labels of these features reveals they represent the same data\n",
        "- Convert all categorical features to lowercase to consolidate values like 'None' and 'none'\n",
        "- Date recorded should be in datetime format, not string"
      ]
    },
    {
      "cell_type": "markdown",
      "metadata": {
        "id": "OCgY-2zDDVoo",
        "colab_type": "text"
      },
      "source": [
        "### Drop Features\n",
        "Before we spend time cleaning features we will drop some that aren't necessary because of duplication or because they simply add no value. I will be looking at the feature importances above, which features better explain the data, and a bit of intuition to remove features. If our model underperforms or we have additional time, we can look at adding features back in but this allows us to prioritize our effort."
      ]
    },
    {
      "cell_type": "code",
      "metadata": {
        "id": "nPlJ6rTwDVop",
        "colab_type": "code",
        "colab": {
          "base_uri": "https://localhost:8080/",
          "height": 610
        },
        "outputId": "39cef2d0-49b4-41ed-e605-fa03108ee254"
      },
      "source": [
        "# Report for showing labels that are extreme minority or majority\n",
        "wa.report.assess_categoricals(X_train, high_thresh=.75)"
      ],
      "execution_count": 16,
      "outputs": [
        {
          "output_type": "stream",
          "text": [
            "Feature                  # Below Thresh    nUnique  High Thresh Violators\n",
            "---------------------  ----------------  ---------  -----------------------\n",
            "date_recorded                       351        351\n",
            "funder                             1696       1698\n",
            "installer                          1922       1923\n",
            "wpt_name                          30741      30742\n",
            "basin                                 1          9\n",
            "subvillage                        17232      17232\n",
            "region                               13         21\n",
            "lga                                 125        125\n",
            "ward                               2076       2076\n",
            "public_meeting                        0          2  True\n",
            "recorded_by                           0          1  GeoData Consultants Ltd\n",
            "scheme_management                     8         12\n",
            "scheme_name                        2541       2541\n",
            "permit                                0          2\n",
            "extraction_type                      13         18\n",
            "extraction_type_group                 8         13\n",
            "extraction_type_class                 2          7\n",
            "management                           10         12\n",
            "management_group                      3          5  user-group\n",
            "payment                               1          7\n",
            "payment_type                          1          7\n",
            "water_quality                         6          8  soft\n",
            "quality_group                         4          6  good\n",
            "quantity                              1          5\n",
            "quantity_group                        1          5\n",
            "source                                6         10\n",
            "source_type                           3          7\n",
            "source_class                          1          3  groundwater\n",
            "waterpoint_type                       3          7\n",
            "waterpoint_type_group                 3          6\n"
          ],
          "name": "stdout"
        }
      ]
    },
    {
      "cell_type": "code",
      "metadata": {
        "id": "BwAhid84DVov",
        "colab_type": "code",
        "colab": {
          "base_uri": "https://localhost:8080/",
          "height": 91
        },
        "outputId": "aa6c0582-bcca-4d76-ebbb-178c87df9179"
      },
      "source": [
        "# Use value counts to inspect label distributions before dropping features\n",
        "X_train['source_class'].value_counts(normalize=True, dropna=False)"
      ],
      "execution_count": 17,
      "outputs": [
        {
          "output_type": "execute_result",
          "data": {
            "text/plain": [
              "groundwater    0.770770\n",
              "surface        0.224306\n",
              "unknown        0.004924\n",
              "Name: source_class, dtype: float64"
            ]
          },
          "metadata": {
            "tags": []
          },
          "execution_count": 17
        }
      ]
    },
    {
      "cell_type": "code",
      "metadata": {
        "id": "bvi_YZalDVo2",
        "colab_type": "code",
        "colab": {
          "base_uri": "https://localhost:8080/",
          "height": 36
        },
        "outputId": "025b702e-f208-457e-c49a-62add3be4e77"
      },
      "source": [
        "# The drop list. We'll be putting all the feature cleaning and engineering \n",
        "# in one spot below, so for now we will just call this as necessary\n",
        "drop_features = ['id', 'wpt_name', 'source', 'source_type', 'recorded_by', \n",
        "                 'management', 'management_group', 'recorded_by', \n",
        "                 'public_meeting', 'region', 'district_code', \n",
        "                 'extraction_type_group', 'extraction_type', 'source', \n",
        "                 'source_type', 'subvillage', 'extraction_type',\n",
        "                 'extraction_type_group', 'permit', 'num_private', \n",
        "                 'scheme_management']\n",
        "\n",
        "# We've dropped 16 of the original 40 features\n",
        "X_train.drop(drop_features, axis=1).shape"
      ],
      "execution_count": 18,
      "outputs": [
        {
          "output_type": "execute_result",
          "data": {
            "text/plain": [
              "(47520, 24)"
            ]
          },
          "metadata": {
            "tags": []
          },
          "execution_count": 18
        }
      ]
    },
    {
      "cell_type": "markdown",
      "metadata": {
        "id": "UrVF6GmwDVo5",
        "colab_type": "text"
      },
      "source": [
        "### Imputation\n",
        "Columns with nulls\n",
        "- `funder`\n",
        "- `installer`\n",
        "- `subvillage` - Dropped\n",
        "- `public_meeting` - Dropped\n",
        "- `scheme_name` \n",
        "- `scheme_management` - Dropped\n",
        "- `permit` - Dropped\n",
        "\n",
        "4 out of the 7 were dropped saving a lot of upfront time and effort. Thanks to dropped features, we also only need to fill these 3 features in order to address the remaining features that were marked as having possible placeholders."
      ]
    },
    {
      "cell_type": "markdown",
      "metadata": {
        "id": "ncZA5_ErDVo7",
        "colab_type": "text"
      },
      "source": [
        "We saw above `funder` and `installer` have a high correlation on their missing values so we will deal with them together. Looking more into the two features, we see a correlation of the `funder` also being the `installer` (we may be able to drop one of them later because of this). Knowing this we can fill some of the nulls by using the other column when it is not null. From there we can fill the rest with `none` since it does not appear that the labels follow a pattern we can fill off of for either feature and this allows us to consolidate on a pre-existing label."
      ]
    },
    {
      "cell_type": "code",
      "metadata": {
        "id": "SkvnOc5sDVo8",
        "colab_type": "code",
        "colab": {
          "base_uri": "https://localhost:8080/",
          "height": 206
        },
        "outputId": "7e18c34b-aef4-44bf-a9c7-f2ad364cae22"
      },
      "source": [
        "X_train[['funder', 'installer']].head()"
      ],
      "execution_count": 19,
      "outputs": [
        {
          "output_type": "execute_result",
          "data": {
            "text/html": [
              "<div>\n",
              "<style scoped>\n",
              "    .dataframe tbody tr th:only-of-type {\n",
              "        vertical-align: middle;\n",
              "    }\n",
              "\n",
              "    .dataframe tbody tr th {\n",
              "        vertical-align: top;\n",
              "    }\n",
              "\n",
              "    .dataframe thead th {\n",
              "        text-align: right;\n",
              "    }\n",
              "</style>\n",
              "<table border=\"1\" class=\"dataframe\">\n",
              "  <thead>\n",
              "    <tr style=\"text-align: right;\">\n",
              "      <th></th>\n",
              "      <th>funder</th>\n",
              "      <th>installer</th>\n",
              "    </tr>\n",
              "  </thead>\n",
              "  <tbody>\n",
              "    <tr>\n",
              "      <th>3607</th>\n",
              "      <td>Dmdd</td>\n",
              "      <td>DMDD</td>\n",
              "    </tr>\n",
              "    <tr>\n",
              "      <th>50870</th>\n",
              "      <td>Cmsr</td>\n",
              "      <td>Gove</td>\n",
              "    </tr>\n",
              "    <tr>\n",
              "      <th>20413</th>\n",
              "      <td>Kkkt</td>\n",
              "      <td>KKKT</td>\n",
              "    </tr>\n",
              "    <tr>\n",
              "      <th>52806</th>\n",
              "      <td>NaN</td>\n",
              "      <td>NaN</td>\n",
              "    </tr>\n",
              "    <tr>\n",
              "      <th>50091</th>\n",
              "      <td>Ki</td>\n",
              "      <td>Ki</td>\n",
              "    </tr>\n",
              "  </tbody>\n",
              "</table>\n",
              "</div>"
            ],
            "text/plain": [
              "      funder installer\n",
              "3607    Dmdd      DMDD\n",
              "50870   Cmsr      Gove\n",
              "20413   Kkkt      KKKT\n",
              "52806    NaN       NaN\n",
              "50091     Ki        Ki"
            ]
          },
          "metadata": {
            "tags": []
          },
          "execution_count": 19
        }
      ]
    },
    {
      "cell_type": "code",
      "metadata": {
        "id": "-Shvh_i_DVpB",
        "colab_type": "code",
        "colab": {}
      },
      "source": [
        "# Throw all of the cleaning and feature engineering into functions for later\n",
        "# consolidation as well as easy testing.\n",
        "\n",
        "def impute_funder_installer(df):\n",
        "    # Fill `funder` and then `installer` based off the other column.\n",
        "    # We could leave off the conditional for not null in both statements,\n",
        "    # since it would just fill NaN with NaN but I prefer the explicit case.\n",
        "    df = df.copy()\n",
        "    \n",
        "    df.loc[((df['funder'].isnull()) & (df['installer'].notnull())), \n",
        "            'funder'] = df['installer']\n",
        "\n",
        "    df.loc[((df['funder'].notnull()) & (df['installer'].isnull())), \n",
        "            'installer'] = df['funder']\n",
        "\n",
        "    # Fill nulls with `none`\n",
        "    df[['funder', 'installer']] = df[['funder', 'installer']].fillna('none')\n",
        "    \n",
        "    return df"
      ],
      "execution_count": 0,
      "outputs": []
    },
    {
      "cell_type": "markdown",
      "metadata": {
        "id": "J15ZbGiaDVpF",
        "colab_type": "text"
      },
      "source": [
        "We see `scheme_name` has almost half of its values as null, with the next most common label being just above 1%. In this case it may be better to turn this feature into a binary flag."
      ]
    },
    {
      "cell_type": "code",
      "metadata": {
        "id": "ZLbIR1_wDVpH",
        "colab_type": "code",
        "colab": {
          "base_uri": "https://localhost:8080/",
          "height": 128
        },
        "outputId": "fb4b7e83-63a9-44ef-b7ce-54bcd27e726a"
      },
      "source": [
        "X_train['scheme_name'].value_counts(dropna=False, normalize=True)[:5]"
      ],
      "execution_count": 21,
      "outputs": [
        {
          "output_type": "execute_result",
          "data": {
            "text/plain": [
              "NaN              0.473969\n",
              "K                0.011427\n",
              "None             0.010795\n",
              "Borehole         0.009133\n",
              "Chalinze wate    0.006734\n",
              "Name: scheme_name, dtype: float64"
            ]
          },
          "metadata": {
            "tags": []
          },
          "execution_count": 21
        }
      ]
    },
    {
      "cell_type": "code",
      "metadata": {
        "id": "MdZc9ro4DVpL",
        "colab_type": "code",
        "colab": {}
      },
      "source": [
        "def create_has_scheme(df):\n",
        "    df = df.copy()\n",
        "    \n",
        "    # Fill and consolidate NaN with `None`\n",
        "    df['scheme_name'] = df['scheme_name'].fillna('none')\n",
        "    df['scheme_name'] = df['scheme_name'].str.lower()\n",
        "\n",
        "    # Create binary feature and add `scheme_name` to drop features\n",
        "    df['has_scheme'] = (df['scheme_name'] != 'none')\n",
        "    \n",
        "    return df"
      ],
      "execution_count": 0,
      "outputs": []
    },
    {
      "cell_type": "markdown",
      "metadata": {
        "id": "45o8FtsIDVpP",
        "colab_type": "text"
      },
      "source": [
        "### GPS Issues\n",
        "When we graph latitude and longitude we see the `0`'s we saw before are in fact placeholders and they cause the graphed points to not properly depict the shape of Tanzania. To address this we'll replace the `0`'s with the mean value for whichever `region_code` they are apart of.\n",
        "\n",
        "Looking at `gps_height` a bit closer we see all heights are within a range we might expect for [Tanzania](https://en.wikipedia.org/wiki/Geography_of_Tanzania#Statistics) and it's elevation variance. Since we don't have anything showing up as a red flag, we'll leave it be.\n",
        "\n",
        "![](https://www.tanzania-experience.com/wp-content/uploads/2019/01/tanzania-map.png)"
      ]
    },
    {
      "cell_type": "code",
      "metadata": {
        "id": "RdSAS1fwDVpP",
        "colab_type": "code",
        "colab": {
          "base_uri": "https://localhost:8080/",
          "height": 282
        },
        "outputId": "de34cd95-1977-4762-f20e-2e90adeb397e"
      },
      "source": [
        "plt.scatter(X_train['longitude'], X_train['latitude']);"
      ],
      "execution_count": 23,
      "outputs": [
        {
          "output_type": "display_data",
          "data": {
            "image/png": "[encoded data removed]",
            "text/plain": [
              "<Figure size 432x288 with 1 Axes>"
            ]
          },
          "metadata": {
            "tags": []
          }
        }
      ]
    },
    {
      "cell_type": "code",
      "metadata": {
        "id": "DkPTFVvoDVpV",
        "colab_type": "code",
        "colab": {}
      },
      "source": [
        "def lat_long_correction(df):\n",
        "    df = df.copy()\n",
        "    \n",
        "    # latitude has a floating point precision error so we are selecting via the `>` comparison operator\n",
        "    df.loc[df['longitude'] == 0, 'longitude'] = df.groupby(\n",
        "                                 'region_code')['longitude'].transform('mean')\n",
        "    df.loc[df['latitude'] > -.001, 'latitude'] = df.groupby(\n",
        "                                 'region_code')['latitude'].transform('mean')\n",
        "    \n",
        "    return df"
      ],
      "execution_count": 0,
      "outputs": []
    },
    {
      "cell_type": "markdown",
      "metadata": {
        "id": "CS9TQBRuDVpZ",
        "colab_type": "text"
      },
      "source": [
        "### Distribution Issues\n",
        "\n",
        "A couple of features had funny looking distribution errors that we need to investigate and possibly correct. We can start with the easy one, `num_private`, which was added to the dropped features above due to low feature importance and being 99% 0.\n",
        "\n",
        "Next we have `construction_year` with about a third of all values being 0. Looking at the distribution of `construction_year` without the 0's we see the mean and median are rather close at 1997 and 2000. With the measures of centrality being so close together, filling with mean or median will give very similar results. Once last consideration is `date_recorded` because we don't want a well's `construction_year` to be after it is inspected. Luckily, 2004 is the first inspection year so no issues there."
      ]
    },
    {
      "cell_type": "code",
      "metadata": {
        "id": "Snw5teKIDVpa",
        "colab_type": "code",
        "colab": {
          "base_uri": "https://localhost:8080/",
          "height": 128
        },
        "outputId": "f1416625-0e14-4503-a9c8-944c836030bc"
      },
      "source": [
        "X_train['construction_year'].value_counts(dropna=False, normalize=True)[:5]"
      ],
      "execution_count": 25,
      "outputs": [
        {
          "output_type": "execute_result",
          "data": {
            "text/plain": [
              "0       0.347285\n",
              "2010    0.044886\n",
              "2008    0.044697\n",
              "2009    0.042656\n",
              "2000    0.035396\n",
              "Name: construction_year, dtype: float64"
            ]
          },
          "metadata": {
            "tags": []
          },
          "execution_count": 25
        }
      ]
    },
    {
      "cell_type": "code",
      "metadata": {
        "id": "GIkLmnQ7DVpe",
        "colab_type": "code",
        "colab": {
          "base_uri": "https://localhost:8080/",
          "height": 112
        },
        "outputId": "3d27ca9a-1d59-4a52-d6ea-e4ab79e22711"
      },
      "source": [
        "X_train[X_train['construction_year'] > 0][['construction_year']].describe()[1:6:4]"
      ],
      "execution_count": 26,
      "outputs": [
        {
          "output_type": "execute_result",
          "data": {
            "text/html": [
              "<div>\n",
              "<style scoped>\n",
              "    .dataframe tbody tr th:only-of-type {\n",
              "        vertical-align: middle;\n",
              "    }\n",
              "\n",
              "    .dataframe tbody tr th {\n",
              "        vertical-align: top;\n",
              "    }\n",
              "\n",
              "    .dataframe thead th {\n",
              "        text-align: right;\n",
              "    }\n",
              "</style>\n",
              "<table border=\"1\" class=\"dataframe\">\n",
              "  <thead>\n",
              "    <tr style=\"text-align: right;\">\n",
              "      <th></th>\n",
              "      <th>construction_year</th>\n",
              "    </tr>\n",
              "  </thead>\n",
              "  <tbody>\n",
              "    <tr>\n",
              "      <th>mean</th>\n",
              "      <td>1996.819293</td>\n",
              "    </tr>\n",
              "    <tr>\n",
              "      <th>50%</th>\n",
              "      <td>2000.000000</td>\n",
              "    </tr>\n",
              "  </tbody>\n",
              "</table>\n",
              "</div>"
            ],
            "text/plain": [
              "      construction_year\n",
              "mean        1996.819293\n",
              "50%         2000.000000"
            ]
          },
          "metadata": {
            "tags": []
          },
          "execution_count": 26
        }
      ]
    },
    {
      "cell_type": "code",
      "metadata": {
        "id": "aBqC2spQDVpi",
        "colab_type": "code",
        "colab": {
          "base_uri": "https://localhost:8080/",
          "height": 36
        },
        "outputId": "2a392a74-38ee-448f-de79-3a6f599dec5e"
      },
      "source": [
        "X_train['date_recorded'].min()"
      ],
      "execution_count": 27,
      "outputs": [
        {
          "output_type": "execute_result",
          "data": {
            "text/plain": [
              "'2004-01-07'"
            ]
          },
          "metadata": {
            "tags": []
          },
          "execution_count": 27
        }
      ]
    },
    {
      "cell_type": "code",
      "metadata": {
        "id": "WFCGsBz7DVpo",
        "colab_type": "code",
        "colab": {
          "base_uri": "https://localhost:8080/",
          "height": 36
        },
        "outputId": "fc5c2d3c-44b6-4476-ee18-8e836bfdc353"
      },
      "source": [
        "X_train[X_train['construction_year'] > 0]['construction_year'].median()"
      ],
      "execution_count": 28,
      "outputs": [
        {
          "output_type": "execute_result",
          "data": {
            "text/plain": [
              "2000.0"
            ]
          },
          "metadata": {
            "tags": []
          },
          "execution_count": 28
        }
      ]
    },
    {
      "cell_type": "markdown",
      "metadata": {
        "id": "8NOP5OepDVpr",
        "colab_type": "text"
      },
      "source": [
        "`amount_tsh` stands for total static head, or the total vertical distance that a pump raises water. Given that 70% are 0 we need to find out if it is reasonable that our pumps would not raise water. Some scenarios where that may be true:\n",
        "\n",
        "- Water is being pumped horizontally (possibly from a body of water to a more convenient location)\n",
        "- Water is not being pumped at all (broken pump)\n",
        "- Water is being retrieved from a higher elevation and negative elevation change is not recorded or \"pump\" is gravity fed\n",
        "\n",
        "Scenario 3 requires some assumptions that we can't answer since I can't ask for more information on how the data is collected. So that leaves scenarios 1 and 2, and the question of whether broken pumps plus horizontal movement could account for so many wells with a static head of 0. The answer is a plausible yes since a vast majority of the pumps have a gps height greater than or equal to 0. \n",
        "\n",
        "This is a perfect reason why subject matter expertise is so important, because we are making decisions that may be ill informed. We can test different handlings of `amount_tsh` and its impact on the ending accuracy through trial and error but that requires a great deal of time and potential computing power.\n",
        "\n",
        "On the opposite end of the spectrum, we also have some major outliers with a max `amount_tsh` of 350,000 but 75% of all values below 20. Using walkabout we can create a mask of outliers based on the interquartile range (IQR) and see almost a fifth of values are considered outliers. This is a biased due to so many pumps at 0, so we will filter out the 0's and find we have a more reasonable 4% of values are outliers. We will reassign these outliers with the mean of `amount_tsh` sans the 0's."
      ]
    },
    {
      "cell_type": "code",
      "metadata": {
        "id": "cGjMCJm4DVps",
        "colab_type": "code",
        "colab": {
          "base_uri": "https://localhost:8080/",
          "height": 184
        },
        "outputId": "3a93fc1a-333a-4eda-958b-2df0aa9c8986"
      },
      "source": [
        "X_train['amount_tsh'].describe()"
      ],
      "execution_count": 29,
      "outputs": [
        {
          "output_type": "execute_result",
          "data": {
            "text/plain": [
              "count     47520.000000\n",
              "mean        322.047573\n",
              "std        3200.623244\n",
              "min           0.000000\n",
              "25%           0.000000\n",
              "50%           0.000000\n",
              "75%          20.000000\n",
              "max      350000.000000\n",
              "Name: amount_tsh, dtype: float64"
            ]
          },
          "metadata": {
            "tags": []
          },
          "execution_count": 29
        }
      ]
    },
    {
      "cell_type": "code",
      "metadata": {
        "id": "zoXAgwBmDVpu",
        "colab_type": "code",
        "colab": {
          "base_uri": "https://localhost:8080/",
          "height": 73
        },
        "outputId": "c75f651e-0677-4202-9ed8-b6ee84eff2e7"
      },
      "source": [
        "wa.support.outlier_mask(X_train[X_train['amount_tsh'] > 0]['amount_tsh']).value_counts()"
      ],
      "execution_count": 30,
      "outputs": [
        {
          "output_type": "execute_result",
          "data": {
            "text/plain": [
              "False    12172\n",
              "True      2017\n",
              "Name: amount_tsh, dtype: int64"
            ]
          },
          "metadata": {
            "tags": []
          },
          "execution_count": 30
        }
      ]
    },
    {
      "cell_type": "code",
      "metadata": {
        "id": "aQMTwoQtDVpy",
        "colab_type": "code",
        "colab": {
          "base_uri": "https://localhost:8080/",
          "height": 36
        },
        "outputId": "a025d052-c6f1-4f79-eb9e-2af11091601e"
      },
      "source": [
        "X_train[X_train['amount_tsh'] > 0]['amount_tsh'].mean()"
      ],
      "execution_count": 31,
      "outputs": [
        {
          "output_type": "execute_result",
          "data": {
            "text/plain": [
              "1078.5609028120373"
            ]
          },
          "metadata": {
            "tags": []
          },
          "execution_count": 31
        }
      ]
    },
    {
      "cell_type": "markdown",
      "metadata": {
        "id": "LjaQVcwIDVpz",
        "colab_type": "text"
      },
      "source": [
        "Last but not least, we have `population` with 36% of values being 0, and another 12% at 1. This seems extremely unlikely and would be another great place to have subject matter expertise or knowledge about the data collection methods. Since we don't have those resources we will set the 0 populations to be the mean population of that region."
      ]
    },
    {
      "cell_type": "code",
      "metadata": {
        "id": "xwle5RN6DVp0",
        "colab_type": "code",
        "colab": {
          "base_uri": "https://localhost:8080/",
          "height": 184
        },
        "outputId": "c4ee281a-8c13-417f-ba74-dcb2c2e083bf"
      },
      "source": [
        "X_train[X_train['population'] > 1]['population'].describe()"
      ],
      "execution_count": 32,
      "outputs": [
        {
          "output_type": "execute_result",
          "data": {
            "text/plain": [
              "count    24817.000000\n",
              "mean       343.535842\n",
              "std        609.666343\n",
              "min          2.000000\n",
              "25%        100.000000\n",
              "50%        200.000000\n",
              "75%        380.000000\n",
              "max      30500.000000\n",
              "Name: population, dtype: float64"
            ]
          },
          "metadata": {
            "tags": []
          },
          "execution_count": 32
        }
      ]
    },
    {
      "cell_type": "code",
      "metadata": {
        "id": "37egMsuxDVp4",
        "colab_type": "code",
        "colab": {}
      },
      "source": [
        "def correct_distribution_issues(df):\n",
        "    df = df.copy()\n",
        "    \n",
        "    # construction year\n",
        "    construct_med = df[df['construction_year'] > 0]['construction_year'].median()\n",
        "    df.loc[df['construction_year'] == 0, 'construction_year'] = construct_med\n",
        "    \n",
        "    # amount_tsh\n",
        "    mask = (df['amount_tsh'] > 1500)\n",
        "    tsh_mean = df[df['amount_tsh'] > 0]['amount_tsh'].mean()\n",
        "    df.loc[mask, 'amount_tsh'] = tsh_mean\n",
        "    \n",
        "    # population\n",
        "    df.loc[df['population'] == 0, 'population'] = df.groupby(\n",
        "                                 'region_code')['population'].transform('mean')\n",
        "    \n",
        "    return df"
      ],
      "execution_count": 0,
      "outputs": []
    },
    {
      "cell_type": "code",
      "metadata": {
        "id": "81PMJhG1DVp6",
        "colab_type": "code",
        "colab": {}
      },
      "source": [
        "def to_lowercase(df):\n",
        "    df = df.copy()\n",
        "    \n",
        "    cols = df.select_dtypes(include='object').columns\n",
        "    for col in cols:\n",
        "        df[col] = df[col].str.lower()\n",
        "    \n",
        "    return df"
      ],
      "execution_count": 0,
      "outputs": []
    },
    {
      "cell_type": "markdown",
      "metadata": {
        "id": "NQjVT9QRDVp-",
        "colab_type": "text"
      },
      "source": [
        "With all of our cleaning to-do's complete, we simply consolidate out work and apply it to X_train so we can continue with our EDA. We aren't including drop features here since we will likely be adding more to it after feature engingeering and testing our model."
      ]
    },
    {
      "cell_type": "code",
      "metadata": {
        "id": "kQ27SqfdDVp_",
        "colab_type": "code",
        "colab": {}
      },
      "source": [
        "def cleaning(df):\n",
        "    df = df.copy()\n",
        "    df['date_recorded'] = pd.to_datetime(df['date_recorded'])\n",
        "    df = to_lowercase(df)\n",
        "    df = impute_funder_installer(df)\n",
        "    df = create_has_scheme(df)\n",
        "    df = lat_long_correction(df)\n",
        "    df = correct_distribution_issues(df)\n",
        "    \n",
        "    return df\n",
        "\n",
        "X_train = cleaning(X_train)"
      ],
      "execution_count": 0,
      "outputs": []
    },
    {
      "cell_type": "code",
      "metadata": {
        "id": "1q0j3SJiDVqC",
        "colab_type": "code",
        "colab": {}
      },
      "source": [
        "drop_features = ['id', 'wpt_name', 'source', 'source_type', 'recorded_by', \n",
        "                 'management', 'management_group', 'recorded_by', \n",
        "                 'public_meeting', 'region', 'district_code', \n",
        "                 'extraction_type_group', 'extraction_type', 'source', \n",
        "                 'source_type', 'subvillage', 'extraction_type',\n",
        "                 'extraction_type_group', 'permit', 'num_private', \n",
        "                 'scheme_management', 'scheme_name']"
      ],
      "execution_count": 0,
      "outputs": []
    },
    {
      "cell_type": "markdown",
      "metadata": {
        "id": "z8-o-ATsDVqG",
        "colab_type": "text"
      },
      "source": [
        "## EDA Continued"
      ]
    },
    {
      "cell_type": "code",
      "metadata": {
        "id": "M9bierP0DVqH",
        "colab_type": "code",
        "colab": {}
      },
      "source": [
        "df = X_train.merge(y_train)"
      ],
      "execution_count": 0,
      "outputs": []
    },
    {
      "cell_type": "markdown",
      "metadata": {
        "id": "Zoe5X6saDVqN",
        "colab_type": "text"
      },
      "source": [
        "Looking at bivariate distributions, we see some of the overlapping features that we considered dropping before but didn't have near identical distributions and therefore don't add much predictive power. At this point we can add a few more features to our drop list."
      ]
    },
    {
      "cell_type": "code",
      "metadata": {
        "id": "IRce_XtjDVqQ",
        "colab_type": "code",
        "colab": {
          "base_uri": "https://localhost:8080/",
          "height": 1000
        },
        "outputId": "f9184af1-efa4-4e43-b2a1-f17c07ebe7ae"
      },
      "source": [
        "# Quick and dirty way to look at bivariate categorical distributions without\n",
        "# high ordinality features creating unreadable graphs\n",
        "drop2 = []\n",
        "for col in df.drop(drop_features, axis=1):\n",
        "    if df[col].nunique() > 10:\n",
        "        drop2.append(col)\n",
        "        \n",
        "wa.plot.bivariate_categorical_distribution(df.drop(drop_features, axis=1).drop(drop2, axis=1),\n",
        "                                           'status_group', cols=2, hspace=.7, wspace=.7, \n",
        "                                           figsize=(20,50))"
      ],
      "execution_count": 38,
      "outputs": [
        {
          "output_type": "display_data",
          "data": {
            "image/png": "[encoded data removed]",
            "text/plain": [
              "<Figure size 1440x3600 with 12 Axes>"
            ]
          },
          "metadata": {
            "tags": []
          }
        }
      ]
    },
    {
      "cell_type": "code",
      "metadata": {
        "id": "jY1cbi7TDVqS",
        "colab_type": "code",
        "colab": {}
      },
      "source": [
        "drop_features = ['id', 'wpt_name', 'source', 'source_type', 'recorded_by', \n",
        "                 'management', 'management_group', 'recorded_by', \n",
        "                 'public_meeting', 'region', 'district_code', \n",
        "                 'extraction_type_group', 'extraction_type', 'source', \n",
        "                 'source_type', 'subvillage', 'extraction_type', \n",
        "                 'extraction_type_group', 'permit', 'num_private', \n",
        "                 'scheme_management', 'scheme_name', 'payment_type', \n",
        "                 'water_quality', 'quantity_group', 'waterpoint_type_group']"
      ],
      "execution_count": 0,
      "outputs": []
    },
    {
      "cell_type": "markdown",
      "metadata": {
        "id": "ablkBifHDVqU",
        "colab_type": "text"
      },
      "source": [
        "# Feature Engineering\n",
        "Now that we have begun to understand our data, we can attempt to engineer new features to improve our model accuracy. Before we do do that though, we need to check that our cleaning didn't make things worse. \n",
        "\n",
        "After running our model with cleaning and dropped features we haven't really moved our score. This is within what we might expect, and likely indicates some of the features have an outsized effect on accuracy or that many of the features were duplicate enformation.\n",
        "\n",
        "As we move forward, we will show many engineered features some that will not be included in the end result. Intuition and some programming tricks will help us decide what features to engineer, but trial and error of running the model will determine what stays in the end. Scroll ahead to \"Model Testing\" to see the final features."
      ]
    },
    {
      "cell_type": "code",
      "metadata": {
        "id": "_cSYWhtZDVqV",
        "colab_type": "code",
        "colab": {
          "base_uri": "https://localhost:8080/",
          "height": 147
        },
        "outputId": "968eee59-7796-4ea9-9504-2d9466b0b12b"
      },
      "source": [
        "X_train, X_val, y_train, y_val = reset()\n",
        "\n",
        "X_train = cleaning(X_train)\n",
        "X_train = X_train.drop(drop_features, axis=1).drop('date_recorded', axis=1)\n",
        "\n",
        "# Encode our categoricals\n",
        "encoder = ce.OrdinalEncoder()\n",
        "X_train = encoder.fit_transform(X_train)\n",
        "\n",
        "# Random Forest Classifier with no feature engineering (except encoding) and no hyperparameter tuning\n",
        "forest = RandomForestClassifier(n_jobs=-1, random_state=42)\n",
        "\n",
        "# Using randomized search cv isn't necessary at this stage but using it to have\n",
        "# a working option later when I really care about hyperparameter optimization\n",
        "param_distributions = {'n_estimators':[200],\n",
        "                       'max_depth':[20]}\n",
        "\n",
        "search = RandomizedSearchCV(forest, param_distributions=param_distributions,\n",
        "                            scoring='accuracy', n_iter=1, n_jobs=-1, cv=5,\n",
        "                            verbose=10, return_train_score=True, random_state=42)\n",
        "search.fit(X_train, y_train['status_group'])\n",
        "\n",
        "print('Training Accuracy Score:', search.best_score_)"
      ],
      "execution_count": 40,
      "outputs": [
        {
          "output_type": "stream",
          "text": [
            "Fitting 5 folds for each of 1 candidates, totalling 5 fits\n"
          ],
          "name": "stdout"
        },
        {
          "output_type": "stream",
          "text": [
            "[Parallel(n_jobs=-1)]: Using backend LokyBackend with 2 concurrent workers.\n",
            "[Parallel(n_jobs=-1)]: Done   1 tasks      | elapsed:   29.9s\n",
            "[Parallel(n_jobs=-1)]: Done   3 out of   5 | elapsed:   59.8s remaining:   39.9s\n",
            "[Parallel(n_jobs=-1)]: Done   5 out of   5 | elapsed:  1.2min remaining:    0.0s\n",
            "[Parallel(n_jobs=-1)]: Done   5 out of   5 | elapsed:  1.2min finished\n"
          ],
          "name": "stderr"
        },
        {
          "output_type": "stream",
          "text": [
            "Training Accuracy Score: 0.8054924242424243\n"
          ],
          "name": "stdout"
        }
      ]
    },
    {
      "cell_type": "code",
      "metadata": {
        "id": "IPs6y920DVqa",
        "colab_type": "code",
        "colab": {
          "base_uri": "https://localhost:8080/",
          "height": 36
        },
        "outputId": "09247c89-6aad-480e-8f78-95d439ab8216"
      },
      "source": [
        "# Solid score but I may have misleading results, \n",
        "# need to test on the validation set as well\n",
        "best = search.best_estimator_\n",
        "\n",
        "X_val = cleaning(X_val)\n",
        "X_val = X_val.drop(drop_features, axis=1).drop('date_recorded', axis=1)\n",
        "X_val = encoder.fit_transform(X_val)\n",
        "\n",
        "y_pred = best.predict(X_val)\n",
        "print('Validation Set Accuracy Score:', \n",
        "      accuracy_score(y_val['status_group'], y_pred))"
      ],
      "execution_count": 41,
      "outputs": [
        {
          "output_type": "stream",
          "text": [
            "Validation Set Accuracy Score: 0.810016835016835\n"
          ],
          "name": "stdout"
        }
      ]
    },
    {
      "cell_type": "markdown",
      "metadata": {
        "id": "LdSrG_x8Hp7F",
        "colab_type": "text"
      },
      "source": [
        "## Unused Engineered Features"
      ]
    },
    {
      "cell_type": "code",
      "metadata": {
        "id": "SDmFh9BqDVqd",
        "colab_type": "code",
        "colab": {
          "base_uri": "https://localhost:8080/",
          "height": 364
        },
        "outputId": "5ce0193a-3d37-45f5-cb15-d9afc0b3f028"
      },
      "source": [
        "permuter = PermutationImportance(best, scoring='accuracy', cv='prefit', \n",
        "                                 n_iter=3, random_state=42)\n",
        "\n",
        "permuter.fit(X_val, y_val['status_group'])\n",
        "\n",
        "feature_names = X_val.columns.tolist()\n",
        "show_weights(permuter, top=None, feature_names=feature_names)"
      ],
      "execution_count": 42,
      "outputs": [
        {
          "output_type": "execute_result",
          "data": {
            "text/html": [
              "\n",
              "    <style>\n",
              "    table.eli5-weights tr:hover {\n",
              "        filter: brightness(85%);\n",
              "    }\n",
              "</style>\n",
              "\n",
              "\n",
              "\n",
              "    \n",
              "\n",
              "    \n",
              "\n",
              "    \n",
              "\n",
              "    \n",
              "\n",
              "    \n",
              "\n",
              "    \n",
              "\n",
              "\n",
              "    \n",
              "\n",
              "    \n",
              "\n",
              "    \n",
              "\n",
              "    \n",
              "\n",
              "    \n",
              "\n",
              "    \n",
              "\n",
              "\n",
              "    \n",
              "\n",
              "    \n",
              "\n",
              "    \n",
              "\n",
              "    \n",
              "\n",
              "    \n",
              "        <table class=\"eli5-weights eli5-feature-importances\" style=\"border-collapse: collapse; border: none; margin-top: 0em; table-layout: auto;\">\n",
              "    <thead>\n",
              "    <tr style=\"border: none;\">\n",
              "        <th style=\"padding: 0 1em 0 0.5em; text-align: right; border: none;\">Weight</th>\n",
              "        <th style=\"padding: 0 0.5em 0 0.5em; text-align: left; border: none;\">Feature</th>\n",
              "    </tr>\n",
              "    </thead>\n",
              "    <tbody>\n",
              "    \n",
              "        <tr style=\"background-color: hsl(120, 100.00%, 80.00%); border: none;\">\n",
              "            <td style=\"padding: 0 1em 0 0.5em; text-align: right; border: none;\">\n",
              "                0.1049\n",
              "                \n",
              "                    &plusmn; 0.0050\n",
              "                \n",
              "            </td>\n",
              "            <td style=\"padding: 0 0.5em 0 0.5em; text-align: left; border: none;\">\n",
              "                quantity\n",
              "            </td>\n",
              "        </tr>\n",
              "    \n",
              "        <tr style=\"background-color: hsl(120, 100.00%, 87.60%); border: none;\">\n",
              "            <td style=\"padding: 0 1em 0 0.5em; text-align: right; border: none;\">\n",
              "                0.0530\n",
              "                \n",
              "                    &plusmn; 0.0012\n",
              "                \n",
              "            </td>\n",
              "            <td style=\"padding: 0 0.5em 0 0.5em; text-align: left; border: none;\">\n",
              "                extraction_type_class\n",
              "            </td>\n",
              "        </tr>\n",
              "    \n",
              "        <tr style=\"background-color: hsl(120, 100.00%, 90.29%); border: none;\">\n",
              "            <td style=\"padding: 0 1em 0 0.5em; text-align: right; border: none;\">\n",
              "                0.0374\n",
              "                \n",
              "                    &plusmn; 0.0004\n",
              "                \n",
              "            </td>\n",
              "            <td style=\"padding: 0 0.5em 0 0.5em; text-align: left; border: none;\">\n",
              "                waterpoint_type\n",
              "            </td>\n",
              "        </tr>\n",
              "    \n",
              "        <tr style=\"background-color: hsl(120, 100.00%, 93.31%); border: none;\">\n",
              "            <td style=\"padding: 0 1em 0 0.5em; text-align: right; border: none;\">\n",
              "                0.0219\n",
              "                \n",
              "                    &plusmn; 0.0039\n",
              "                \n",
              "            </td>\n",
              "            <td style=\"padding: 0 0.5em 0 0.5em; text-align: left; border: none;\">\n",
              "                construction_year\n",
              "            </td>\n",
              "        </tr>\n",
              "    \n",
              "        <tr style=\"background-color: hsl(120, 100.00%, 94.06%); border: none;\">\n",
              "            <td style=\"padding: 0 1em 0 0.5em; text-align: right; border: none;\">\n",
              "                0.0185\n",
              "                \n",
              "                    &plusmn; 0.0033\n",
              "                \n",
              "            </td>\n",
              "            <td style=\"padding: 0 0.5em 0 0.5em; text-align: left; border: none;\">\n",
              "                longitude\n",
              "            </td>\n",
              "        </tr>\n",
              "    \n",
              "        <tr style=\"background-color: hsl(120, 100.00%, 94.72%); border: none;\">\n",
              "            <td style=\"padding: 0 1em 0 0.5em; text-align: right; border: none;\">\n",
              "                0.0156\n",
              "                \n",
              "                    &plusmn; 0.0018\n",
              "                \n",
              "            </td>\n",
              "            <td style=\"padding: 0 0.5em 0 0.5em; text-align: left; border: none;\">\n",
              "                amount_tsh\n",
              "            </td>\n",
              "        </tr>\n",
              "    \n",
              "        <tr style=\"background-color: hsl(120, 100.00%, 95.41%); border: none;\">\n",
              "            <td style=\"padding: 0 1em 0 0.5em; text-align: right; border: none;\">\n",
              "                0.0128\n",
              "                \n",
              "                    &plusmn; 0.0014\n",
              "                \n",
              "            </td>\n",
              "            <td style=\"padding: 0 0.5em 0 0.5em; text-align: left; border: none;\">\n",
              "                latitude\n",
              "            </td>\n",
              "        </tr>\n",
              "    \n",
              "        <tr style=\"background-color: hsl(120, 100.00%, 95.71%); border: none;\">\n",
              "            <td style=\"padding: 0 1em 0 0.5em; text-align: right; border: none;\">\n",
              "                0.0116\n",
              "                \n",
              "                    &plusmn; 0.0033\n",
              "                \n",
              "            </td>\n",
              "            <td style=\"padding: 0 0.5em 0 0.5em; text-align: left; border: none;\">\n",
              "                population\n",
              "            </td>\n",
              "        </tr>\n",
              "    \n",
              "        <tr style=\"background-color: hsl(120, 100.00%, 96.48%); border: none;\">\n",
              "            <td style=\"padding: 0 1em 0 0.5em; text-align: right; border: none;\">\n",
              "                0.0088\n",
              "                \n",
              "                    &plusmn; 0.0006\n",
              "                \n",
              "            </td>\n",
              "            <td style=\"padding: 0 0.5em 0 0.5em; text-align: left; border: none;\">\n",
              "                payment\n",
              "            </td>\n",
              "        </tr>\n",
              "    \n",
              "        <tr style=\"background-color: hsl(120, 100.00%, 96.94%); border: none;\">\n",
              "            <td style=\"padding: 0 1em 0 0.5em; text-align: right; border: none;\">\n",
              "                0.0072\n",
              "                \n",
              "                    &plusmn; 0.0001\n",
              "                \n",
              "            </td>\n",
              "            <td style=\"padding: 0 0.5em 0 0.5em; text-align: left; border: none;\">\n",
              "                lga\n",
              "            </td>\n",
              "        </tr>\n",
              "    \n",
              "        <tr style=\"background-color: hsl(120, 100.00%, 97.55%); border: none;\">\n",
              "            <td style=\"padding: 0 1em 0 0.5em; text-align: right; border: none;\">\n",
              "                0.0052\n",
              "                \n",
              "                    &plusmn; 0.0032\n",
              "                \n",
              "            </td>\n",
              "            <td style=\"padding: 0 0.5em 0 0.5em; text-align: left; border: none;\">\n",
              "                funder\n",
              "            </td>\n",
              "        </tr>\n",
              "    \n",
              "        <tr style=\"background-color: hsl(120, 100.00%, 97.59%); border: none;\">\n",
              "            <td style=\"padding: 0 1em 0 0.5em; text-align: right; border: none;\">\n",
              "                0.0051\n",
              "                \n",
              "                    &plusmn; 0.0009\n",
              "                \n",
              "            </td>\n",
              "            <td style=\"padding: 0 0.5em 0 0.5em; text-align: left; border: none;\">\n",
              "                ward\n",
              "            </td>\n",
              "        </tr>\n",
              "    \n",
              "        <tr style=\"background-color: hsl(120, 100.00%, 97.81%); border: none;\">\n",
              "            <td style=\"padding: 0 1em 0 0.5em; text-align: right; border: none;\">\n",
              "                0.0045\n",
              "                \n",
              "                    &plusmn; 0.0008\n",
              "                \n",
              "            </td>\n",
              "            <td style=\"padding: 0 0.5em 0 0.5em; text-align: left; border: none;\">\n",
              "                gps_height\n",
              "            </td>\n",
              "        </tr>\n",
              "    \n",
              "        <tr style=\"background-color: hsl(120, 100.00%, 97.92%); border: none;\">\n",
              "            <td style=\"padding: 0 1em 0 0.5em; text-align: right; border: none;\">\n",
              "                0.0041\n",
              "                \n",
              "                    &plusmn; 0.0019\n",
              "                \n",
              "            </td>\n",
              "            <td style=\"padding: 0 0.5em 0 0.5em; text-align: left; border: none;\">\n",
              "                installer\n",
              "            </td>\n",
              "        </tr>\n",
              "    \n",
              "        <tr style=\"background-color: hsl(120, 100.00%, 98.20%); border: none;\">\n",
              "            <td style=\"padding: 0 1em 0 0.5em; text-align: right; border: none;\">\n",
              "                0.0034\n",
              "                \n",
              "                    &plusmn; 0.0011\n",
              "                \n",
              "            </td>\n",
              "            <td style=\"padding: 0 0.5em 0 0.5em; text-align: left; border: none;\">\n",
              "                quality_group\n",
              "            </td>\n",
              "        </tr>\n",
              "    \n",
              "        <tr style=\"background-color: hsl(120, 100.00%, 98.52%); border: none;\">\n",
              "            <td style=\"padding: 0 1em 0 0.5em; text-align: right; border: none;\">\n",
              "                0.0026\n",
              "                \n",
              "                    &plusmn; 0.0013\n",
              "                \n",
              "            </td>\n",
              "            <td style=\"padding: 0 0.5em 0 0.5em; text-align: left; border: none;\">\n",
              "                region_code\n",
              "            </td>\n",
              "        </tr>\n",
              "    \n",
              "        <tr style=\"background-color: hsl(120, 100.00%, 98.56%); border: none;\">\n",
              "            <td style=\"padding: 0 1em 0 0.5em; text-align: right; border: none;\">\n",
              "                0.0024\n",
              "                \n",
              "                    &plusmn; 0.0015\n",
              "                \n",
              "            </td>\n",
              "            <td style=\"padding: 0 0.5em 0 0.5em; text-align: left; border: none;\">\n",
              "                source_class\n",
              "            </td>\n",
              "        </tr>\n",
              "    \n",
              "        <tr style=\"background-color: hsl(120, 100.00%, 98.63%); border: none;\">\n",
              "            <td style=\"padding: 0 1em 0 0.5em; text-align: right; border: none;\">\n",
              "                0.0023\n",
              "                \n",
              "                    &plusmn; 0.0010\n",
              "                \n",
              "            </td>\n",
              "            <td style=\"padding: 0 0.5em 0 0.5em; text-align: left; border: none;\">\n",
              "                has_scheme\n",
              "            </td>\n",
              "        </tr>\n",
              "    \n",
              "        <tr style=\"background-color: hsl(120, 100.00%, 99.22%); border: none;\">\n",
              "            <td style=\"padding: 0 1em 0 0.5em; text-align: right; border: none;\">\n",
              "                0.0010\n",
              "                \n",
              "                    &plusmn; 0.0013\n",
              "                \n",
              "            </td>\n",
              "            <td style=\"padding: 0 0.5em 0 0.5em; text-align: left; border: none;\">\n",
              "                basin\n",
              "            </td>\n",
              "        </tr>\n",
              "    \n",
              "    \n",
              "    </tbody>\n",
              "</table>\n",
              "    \n",
              "\n",
              "    \n",
              "\n",
              "\n",
              "    \n",
              "\n",
              "    \n",
              "\n",
              "    \n",
              "\n",
              "    \n",
              "\n",
              "    \n",
              "\n",
              "    \n",
              "\n",
              "\n",
              "\n"
            ],
            "text/plain": [
              "<IPython.core.display.HTML object>"
            ]
          },
          "metadata": {
            "tags": []
          },
          "execution_count": 42
        }
      ]
    },
    {
      "cell_type": "markdown",
      "metadata": {
        "id": "MyWMp33sDVqf",
        "colab_type": "text"
      },
      "source": [
        "```python\n",
        "current_year = datetime.now().year\n",
        "df['age'] = current_year - df['construction_year']\n",
        "```"
      ]
    },
    {
      "cell_type": "markdown",
      "metadata": {
        "id": "LgTwMfhHDVqg",
        "colab_type": "text"
      },
      "source": [
        "```python\n",
        "df['lat+lon'] = ((df['latitude']+90)*180)+df['longitude']\n",
        "```"
      ]
    },
    {
      "cell_type": "markdown",
      "metadata": {
        "id": "0LbGCM-GDVqg",
        "colab_type": "text"
      },
      "source": [
        "```python\n",
        "df['water_per_person'] = df['amount_tsh']/df['population']\n",
        "df.loc[df['water_per_person'] == np.inf,'water_per_person'] = np.NaN\n",
        "df['water_per_person'] = test.fillna(0)\n",
        "```"
      ]
    },
    {
      "cell_type": "markdown",
      "metadata": {
        "id": "CBIFhJgVDVqh",
        "colab_type": "text"
      },
      "source": [
        "```python\n",
        "df['inspect_wait'] = df['date_recorded'].dt.year - df['construction_year']\n",
        "```"
      ]
    },
    {
      "cell_type": "markdown",
      "metadata": {
        "id": "-N735y_aDVqi",
        "colab_type": "text"
      },
      "source": [
        "```python\n",
        "def seasons(months): #Ended up being worse\n",
        "  #See if we can boost the month signal by consolidating to seasons\n",
        "  #https://www.wildland.com/destinations/africa/tanzania/seasonsclimate.aspx\n",
        "  seasons = months.copy()\n",
        "  \n",
        "  seasons.loc[(months < 3) | (months == 12)] = 'Hot Dry' #December to February\n",
        "  seasons.loc[months == 3] = 'Intermittent Rains' #March\n",
        "  seasons.loc[(months == 4) | (months == 5)] = 'Heavy Rains' #April and May\n",
        "  seasons.loc[(months > 5) & (months < 11)] = 'Cool Dry' #June to October\n",
        "  seasons.loc[months == 11] = 'Short Rains' #November\n",
        "  \n",
        "  return seasons\n",
        "```"
      ]
    },
    {
      "cell_type": "code",
      "metadata": {
        "id": "u-iB3_6SDVqj",
        "colab_type": "code",
        "colab": {
          "base_uri": "https://localhost:8080/",
          "height": 394
        },
        "outputId": "57c5de01-ef64-4c50-a367-c1ccb6f41fe3"
      },
      "source": [
        "# Quick and dirty trick facilitated by walkabout to check out all feature interaction pairs\n",
        "X_train, X_val, y_train, y_val = reset()\n",
        "\n",
        "X_train = cleaning(df)\n",
        "X_train = X_train.drop(drop_features, axis=1).drop(['date_recorded', 'has_scheme'], axis=1)\n",
        "cat_cols = [col for col in X_train.select_dtypes(include='object')]\n",
        "X_train = X_train.drop(cat_cols, axis=1)\n",
        "encoder = ce.OrdinalEncoder()\n",
        "X_train = encoder.fit_transform(X_train)\n",
        "\n",
        "interactions = wa.report.interaction_feature_importance(X_train, y_train['status_group'], model='clas')\n",
        "interactions.head(10)"
      ],
      "execution_count": 43,
      "outputs": [
        {
          "output_type": "execute_result",
          "data": {
            "text/html": [
              "<div>\n",
              "<style scoped>\n",
              "    .dataframe tbody tr th:only-of-type {\n",
              "        vertical-align: middle;\n",
              "    }\n",
              "\n",
              "    .dataframe tbody tr th {\n",
              "        vertical-align: top;\n",
              "    }\n",
              "\n",
              "    .dataframe thead th {\n",
              "        text-align: right;\n",
              "    }\n",
              "</style>\n",
              "<table border=\"1\" class=\"dataframe\">\n",
              "  <thead>\n",
              "    <tr style=\"text-align: right;\">\n",
              "      <th></th>\n",
              "      <th>Score</th>\n",
              "    </tr>\n",
              "    <tr>\n",
              "      <th>Feature</th>\n",
              "      <th></th>\n",
              "    </tr>\n",
              "  </thead>\n",
              "  <tbody>\n",
              "    <tr>\n",
              "      <th>construction_year^2</th>\n",
              "      <td>1217.78</td>\n",
              "    </tr>\n",
              "    <tr>\n",
              "      <th>amount_tsh * longitude</th>\n",
              "      <td>685.177</td>\n",
              "    </tr>\n",
              "    <tr>\n",
              "      <th>amount_tsh * construction_year</th>\n",
              "      <td>679.897</td>\n",
              "    </tr>\n",
              "    <tr>\n",
              "      <th>amount_tsh * latitude</th>\n",
              "      <td>646.591</td>\n",
              "    </tr>\n",
              "    <tr>\n",
              "      <th>amount_tsh * gps_height</th>\n",
              "      <td>630.6</td>\n",
              "    </tr>\n",
              "    <tr>\n",
              "      <th>amount_tsh^2</th>\n",
              "      <td>493.774</td>\n",
              "    </tr>\n",
              "    <tr>\n",
              "      <th>gps_height^2</th>\n",
              "      <td>452.837</td>\n",
              "    </tr>\n",
              "    <tr>\n",
              "      <th>amount_tsh * region_code</th>\n",
              "      <td>409.847</td>\n",
              "    </tr>\n",
              "    <tr>\n",
              "      <th>longitude * construction_year</th>\n",
              "      <td>393.413</td>\n",
              "    </tr>\n",
              "    <tr>\n",
              "      <th>gps_height * latitude</th>\n",
              "      <td>382.052</td>\n",
              "    </tr>\n",
              "  </tbody>\n",
              "</table>\n",
              "</div>"
            ],
            "text/plain": [
              "                                  Score\n",
              "Feature                                \n",
              "construction_year^2             1217.78\n",
              "amount_tsh * longitude          685.177\n",
              "amount_tsh * construction_year  679.897\n",
              "amount_tsh * latitude           646.591\n",
              "amount_tsh * gps_height           630.6\n",
              "amount_tsh^2                    493.774\n",
              "gps_height^2                    452.837\n",
              "amount_tsh * region_code        409.847\n",
              "longitude * construction_year   393.413\n",
              "gps_height * latitude           382.052"
            ]
          },
          "metadata": {
            "tags": []
          },
          "execution_count": 43
        }
      ]
    },
    {
      "cell_type": "markdown",
      "metadata": {
        "id": "do7ClLJNHdeD",
        "colab_type": "text"
      },
      "source": [
        "# Model Testing\n",
        "We can consolidate all of the work below and then run the random forest classifier we've been running. We see that our model is still resistant to change, however other simple models perform worse. The only model that may outperforms our random forest is a neural network. We will discuss the tradeoffs of the neural network below in our conclusions and why we did not use it."
      ]
    },
    {
      "cell_type": "code",
      "metadata": {
        "id": "QETn7rhIDVqm",
        "colab_type": "code",
        "colab": {}
      },
      "source": [
        "def feature_engineer(df):\n",
        "    df = df.copy()\n",
        "    \n",
        "    drop_features = ['id', 'wpt_name', 'source', 'source_type', 'recorded_by', \n",
        "                     'management', 'management_group', 'recorded_by', \n",
        "                     'public_meeting', 'region', 'district_code', \n",
        "                     'extraction_type_group', 'extraction_type', 'source', \n",
        "                     'source_type', 'subvillage', 'extraction_type',\n",
        "                     'extraction_type_group', 'permit', 'num_private', \n",
        "                     'scheme_management', 'scheme_name', 'payment_type', \n",
        "                     'water_quality', 'quantity_group', 'waterpoint_type_group', \n",
        "                     'date_recorded', 'has_scheme', 'region_code', 'basin']\n",
        "    \n",
        "    df = cleaning(df)\n",
        "    \n",
        "    df['inspect_wait'] = df['date_recorded'].dt.year - df['construction_year']\n",
        "    \n",
        "    df = df.drop(drop_features, axis=1)\n",
        "\n",
        "    return df"
      ],
      "execution_count": 0,
      "outputs": []
    },
    {
      "cell_type": "code",
      "metadata": {
        "id": "DfWhW_94DVqp",
        "colab_type": "code",
        "colab": {
          "base_uri": "https://localhost:8080/",
          "height": 147
        },
        "outputId": "ea20ec3f-ea4c-4ddf-9739-6903dd87bdb1"
      },
      "source": [
        "X_train, X_val, y_train, y_val = reset()\n",
        "\n",
        "X_train = feature_engineer(X_train)\n",
        "\n",
        "# Encode our categoricals\n",
        "encoder = ce.OrdinalEncoder()\n",
        "X_train = encoder.fit_transform(X_train)\n",
        "\n",
        "forest = RandomForestClassifier(n_jobs=-1, random_state=42)\n",
        "\n",
        "param_distributions = {'n_estimators':[200],\n",
        "                       'max_depth':[20]}\n",
        "\n",
        "search = RandomizedSearchCV(forest, param_distributions=param_distributions,\n",
        "                            scoring='accuracy', n_iter=1, n_jobs=-1, cv=5,\n",
        "                            verbose=10, return_train_score=True, \n",
        "                            random_state=42)\n",
        "search.fit(X_train, y_train['status_group'])\n",
        "\n",
        "print('Training Accuracy Score:', search.best_score_)"
      ],
      "execution_count": 45,
      "outputs": [
        {
          "output_type": "stream",
          "text": [
            "Fitting 5 folds for each of 1 candidates, totalling 5 fits\n"
          ],
          "name": "stdout"
        },
        {
          "output_type": "stream",
          "text": [
            "[Parallel(n_jobs=-1)]: Using backend LokyBackend with 2 concurrent workers.\n",
            "[Parallel(n_jobs=-1)]: Done   1 tasks      | elapsed:   31.1s\n",
            "[Parallel(n_jobs=-1)]: Done   3 out of   5 | elapsed:  1.0min remaining:   41.3s\n",
            "[Parallel(n_jobs=-1)]: Done   5 out of   5 | elapsed:  1.3min remaining:    0.0s\n",
            "[Parallel(n_jobs=-1)]: Done   5 out of   5 | elapsed:  1.3min finished\n"
          ],
          "name": "stderr"
        },
        {
          "output_type": "stream",
          "text": [
            "Training Accuracy Score: 0.8034511784511784\n"
          ],
          "name": "stdout"
        }
      ]
    },
    {
      "cell_type": "code",
      "metadata": {
        "id": "n0V3W_O7DVqx",
        "colab_type": "code",
        "colab": {
          "base_uri": "https://localhost:8080/",
          "height": 348
        },
        "outputId": "be9cadd0-39ba-4417-a36c-b9019458462f"
      },
      "source": [
        "best = search.best_estimator_\n",
        "X_val = feature_engineer(X_val)\n",
        "X_val = encoder.transform(X_val)\n",
        "y_pred = best.predict(X_val)\n",
        "print('Validation Set Accuracy Score:', \n",
        "      accuracy_score(y_val['status_group'], y_pred))\n",
        "\n",
        "permuter = PermutationImportance(best, scoring='accuracy', cv='prefit', \n",
        "                                 n_iter=3, random_state=42)\n",
        "permuter.fit(X_val, y_val['status_group'])\n",
        "feature_names = X_val.columns.tolist()\n",
        "show_weights(permuter, top=None, feature_names=feature_names)"
      ],
      "execution_count": 46,
      "outputs": [
        {
          "output_type": "stream",
          "text": [
            "Validation Set Accuracy Score: 0.8088383838383838\n"
          ],
          "name": "stdout"
        },
        {
          "output_type": "execute_result",
          "data": {
            "text/html": [
              "\n",
              "    <style>\n",
              "    table.eli5-weights tr:hover {\n",
              "        filter: brightness(85%);\n",
              "    }\n",
              "</style>\n",
              "\n",
              "\n",
              "\n",
              "    \n",
              "\n",
              "    \n",
              "\n",
              "    \n",
              "\n",
              "    \n",
              "\n",
              "    \n",
              "\n",
              "    \n",
              "\n",
              "\n",
              "    \n",
              "\n",
              "    \n",
              "\n",
              "    \n",
              "\n",
              "    \n",
              "\n",
              "    \n",
              "\n",
              "    \n",
              "\n",
              "\n",
              "    \n",
              "\n",
              "    \n",
              "\n",
              "    \n",
              "\n",
              "    \n",
              "\n",
              "    \n",
              "        <table class=\"eli5-weights eli5-feature-importances\" style=\"border-collapse: collapse; border: none; margin-top: 0em; table-layout: auto;\">\n",
              "    <thead>\n",
              "    <tr style=\"border: none;\">\n",
              "        <th style=\"padding: 0 1em 0 0.5em; text-align: right; border: none;\">Weight</th>\n",
              "        <th style=\"padding: 0 0.5em 0 0.5em; text-align: left; border: none;\">Feature</th>\n",
              "    </tr>\n",
              "    </thead>\n",
              "    <tbody>\n",
              "    \n",
              "        <tr style=\"background-color: hsl(120, 100.00%, 80.00%); border: none;\">\n",
              "            <td style=\"padding: 0 1em 0 0.5em; text-align: right; border: none;\">\n",
              "                0.1041\n",
              "                \n",
              "                    &plusmn; 0.0032\n",
              "                \n",
              "            </td>\n",
              "            <td style=\"padding: 0 0.5em 0 0.5em; text-align: left; border: none;\">\n",
              "                quantity\n",
              "            </td>\n",
              "        </tr>\n",
              "    \n",
              "        <tr style=\"background-color: hsl(120, 100.00%, 88.26%); border: none;\">\n",
              "            <td style=\"padding: 0 1em 0 0.5em; text-align: right; border: none;\">\n",
              "                0.0486\n",
              "                \n",
              "                    &plusmn; 0.0010\n",
              "                \n",
              "            </td>\n",
              "            <td style=\"padding: 0 0.5em 0 0.5em; text-align: left; border: none;\">\n",
              "                extraction_type_class\n",
              "            </td>\n",
              "        </tr>\n",
              "    \n",
              "        <tr style=\"background-color: hsl(120, 100.00%, 89.44%); border: none;\">\n",
              "            <td style=\"padding: 0 1em 0 0.5em; text-align: right; border: none;\">\n",
              "                0.0418\n",
              "                \n",
              "                    &plusmn; 0.0057\n",
              "                \n",
              "            </td>\n",
              "            <td style=\"padding: 0 0.5em 0 0.5em; text-align: left; border: none;\">\n",
              "                waterpoint_type\n",
              "            </td>\n",
              "        </tr>\n",
              "    \n",
              "        <tr style=\"background-color: hsl(120, 100.00%, 94.06%); border: none;\">\n",
              "            <td style=\"padding: 0 1em 0 0.5em; text-align: right; border: none;\">\n",
              "                0.0184\n",
              "                \n",
              "                    &plusmn; 0.0008\n",
              "                \n",
              "            </td>\n",
              "            <td style=\"padding: 0 0.5em 0 0.5em; text-align: left; border: none;\">\n",
              "                longitude\n",
              "            </td>\n",
              "        </tr>\n",
              "    \n",
              "        <tr style=\"background-color: hsl(120, 100.00%, 94.12%); border: none;\">\n",
              "            <td style=\"padding: 0 1em 0 0.5em; text-align: right; border: none;\">\n",
              "                0.0181\n",
              "                \n",
              "                    &plusmn; 0.0008\n",
              "                \n",
              "            </td>\n",
              "            <td style=\"padding: 0 0.5em 0 0.5em; text-align: left; border: none;\">\n",
              "                amount_tsh\n",
              "            </td>\n",
              "        </tr>\n",
              "    \n",
              "        <tr style=\"background-color: hsl(120, 100.00%, 94.63%); border: none;\">\n",
              "            <td style=\"padding: 0 1em 0 0.5em; text-align: right; border: none;\">\n",
              "                0.0159\n",
              "                \n",
              "                    &plusmn; 0.0033\n",
              "                \n",
              "            </td>\n",
              "            <td style=\"padding: 0 0.5em 0 0.5em; text-align: left; border: none;\">\n",
              "                latitude\n",
              "            </td>\n",
              "        </tr>\n",
              "    \n",
              "        <tr style=\"background-color: hsl(120, 100.00%, 95.52%); border: none;\">\n",
              "            <td style=\"padding: 0 1em 0 0.5em; text-align: right; border: none;\">\n",
              "                0.0123\n",
              "                \n",
              "                    &plusmn; 0.0017\n",
              "                \n",
              "            </td>\n",
              "            <td style=\"padding: 0 0.5em 0 0.5em; text-align: left; border: none;\">\n",
              "                population\n",
              "            </td>\n",
              "        </tr>\n",
              "    \n",
              "        <tr style=\"background-color: hsl(120, 100.00%, 96.26%); border: none;\">\n",
              "            <td style=\"padding: 0 1em 0 0.5em; text-align: right; border: none;\">\n",
              "                0.0095\n",
              "                \n",
              "                    &plusmn; 0.0003\n",
              "                \n",
              "            </td>\n",
              "            <td style=\"padding: 0 0.5em 0 0.5em; text-align: left; border: none;\">\n",
              "                payment\n",
              "            </td>\n",
              "        </tr>\n",
              "    \n",
              "        <tr style=\"background-color: hsl(120, 100.00%, 96.83%); border: none;\">\n",
              "            <td style=\"padding: 0 1em 0 0.5em; text-align: right; border: none;\">\n",
              "                0.0075\n",
              "                \n",
              "                    &plusmn; 0.0011\n",
              "                \n",
              "            </td>\n",
              "            <td style=\"padding: 0 0.5em 0 0.5em; text-align: left; border: none;\">\n",
              "                lga\n",
              "            </td>\n",
              "        </tr>\n",
              "    \n",
              "        <tr style=\"background-color: hsl(120, 100.00%, 97.26%); border: none;\">\n",
              "            <td style=\"padding: 0 1em 0 0.5em; text-align: right; border: none;\">\n",
              "                0.0061\n",
              "                \n",
              "                    &plusmn; 0.0014\n",
              "                \n",
              "            </td>\n",
              "            <td style=\"padding: 0 0.5em 0 0.5em; text-align: left; border: none;\">\n",
              "                construction_year\n",
              "            </td>\n",
              "        </tr>\n",
              "    \n",
              "        <tr style=\"background-color: hsl(120, 100.00%, 97.28%); border: none;\">\n",
              "            <td style=\"padding: 0 1em 0 0.5em; text-align: right; border: none;\">\n",
              "                0.0060\n",
              "                \n",
              "                    &plusmn; 0.0016\n",
              "                \n",
              "            </td>\n",
              "            <td style=\"padding: 0 0.5em 0 0.5em; text-align: left; border: none;\">\n",
              "                inspect_wait\n",
              "            </td>\n",
              "        </tr>\n",
              "    \n",
              "        <tr style=\"background-color: hsl(120, 100.00%, 97.41%); border: none;\">\n",
              "            <td style=\"padding: 0 1em 0 0.5em; text-align: right; border: none;\">\n",
              "                0.0056\n",
              "                \n",
              "                    &plusmn; 0.0029\n",
              "                \n",
              "            </td>\n",
              "            <td style=\"padding: 0 0.5em 0 0.5em; text-align: left; border: none;\">\n",
              "                funder\n",
              "            </td>\n",
              "        </tr>\n",
              "    \n",
              "        <tr style=\"background-color: hsl(120, 100.00%, 97.88%); border: none;\">\n",
              "            <td style=\"padding: 0 1em 0 0.5em; text-align: right; border: none;\">\n",
              "                0.0042\n",
              "                \n",
              "                    &plusmn; 0.0029\n",
              "                \n",
              "            </td>\n",
              "            <td style=\"padding: 0 0.5em 0 0.5em; text-align: left; border: none;\">\n",
              "                gps_height\n",
              "            </td>\n",
              "        </tr>\n",
              "    \n",
              "        <tr style=\"background-color: hsl(120, 100.00%, 98.19%); border: none;\">\n",
              "            <td style=\"padding: 0 1em 0 0.5em; text-align: right; border: none;\">\n",
              "                0.0034\n",
              "                \n",
              "                    &plusmn; 0.0008\n",
              "                \n",
              "            </td>\n",
              "            <td style=\"padding: 0 0.5em 0 0.5em; text-align: left; border: none;\">\n",
              "                installer\n",
              "            </td>\n",
              "        </tr>\n",
              "    \n",
              "        <tr style=\"background-color: hsl(120, 100.00%, 98.21%); border: none;\">\n",
              "            <td style=\"padding: 0 1em 0 0.5em; text-align: right; border: none;\">\n",
              "                0.0033\n",
              "                \n",
              "                    &plusmn; 0.0019\n",
              "                \n",
              "            </td>\n",
              "            <td style=\"padding: 0 0.5em 0 0.5em; text-align: left; border: none;\">\n",
              "                ward\n",
              "            </td>\n",
              "        </tr>\n",
              "    \n",
              "        <tr style=\"background-color: hsl(120, 100.00%, 98.72%); border: none;\">\n",
              "            <td style=\"padding: 0 1em 0 0.5em; text-align: right; border: none;\">\n",
              "                0.0020\n",
              "                \n",
              "                    &plusmn; 0.0008\n",
              "                \n",
              "            </td>\n",
              "            <td style=\"padding: 0 0.5em 0 0.5em; text-align: left; border: none;\">\n",
              "                source_class\n",
              "            </td>\n",
              "        </tr>\n",
              "    \n",
              "        <tr style=\"background-color: hsl(120, 100.00%, 98.92%); border: none;\">\n",
              "            <td style=\"padding: 0 1em 0 0.5em; text-align: right; border: none;\">\n",
              "                0.0016\n",
              "                \n",
              "                    &plusmn; 0.0003\n",
              "                \n",
              "            </td>\n",
              "            <td style=\"padding: 0 0.5em 0 0.5em; text-align: left; border: none;\">\n",
              "                quality_group\n",
              "            </td>\n",
              "        </tr>\n",
              "    \n",
              "    \n",
              "    </tbody>\n",
              "</table>\n",
              "    \n",
              "\n",
              "    \n",
              "\n",
              "\n",
              "    \n",
              "\n",
              "    \n",
              "\n",
              "    \n",
              "\n",
              "    \n",
              "\n",
              "    \n",
              "\n",
              "    \n",
              "\n",
              "\n",
              "\n"
            ],
            "text/plain": [
              "<IPython.core.display.HTML object>"
            ]
          },
          "metadata": {
            "tags": []
          },
          "execution_count": 46
        }
      ]
    },
    {
      "cell_type": "markdown",
      "metadata": {
        "id": "WcL-VjLRMrjQ",
        "colab_type": "text"
      },
      "source": [
        "## Logistic Regression"
      ]
    },
    {
      "cell_type": "code",
      "metadata": {
        "id": "wNY2GQbgDVqz",
        "colab_type": "code",
        "colab": {
          "base_uri": "https://localhost:8080/",
          "height": 130
        },
        "outputId": "a5e00834-fc19-47e3-d84a-1f2a6e991470"
      },
      "source": [
        "log_reg = LogisticRegression()\n",
        "log_reg.fit(X_train, y_train['status_group'])\n",
        "y_pred = log_reg.predict(X_val)\n",
        "\n",
        "accuracy_score(y_val['status_group'], y_pred)"
      ],
      "execution_count": 51,
      "outputs": [
        {
          "output_type": "stream",
          "text": [
            "/usr/local/lib/python3.6/dist-packages/sklearn/linear_model/logistic.py:432: FutureWarning: Default solver will be changed to 'lbfgs' in 0.22. Specify a solver to silence this warning.\n",
            "  FutureWarning)\n",
            "/usr/local/lib/python3.6/dist-packages/sklearn/linear_model/logistic.py:469: FutureWarning: Default multi_class will be changed to 'auto' in 0.22. Specify the multi_class option to silence this warning.\n",
            "  \"this warning.\", FutureWarning)\n"
          ],
          "name": "stderr"
        },
        {
          "output_type": "execute_result",
          "data": {
            "text/plain": [
              "0.6775252525252525"
            ]
          },
          "metadata": {
            "tags": []
          },
          "execution_count": 51
        }
      ]
    },
    {
      "cell_type": "markdown",
      "metadata": {
        "id": "Amzj_d9UNVuq",
        "colab_type": "text"
      },
      "source": [
        "## XGB Classifier"
      ]
    },
    {
      "cell_type": "code",
      "metadata": {
        "id": "aiFlSqQ4NZHn",
        "colab_type": "code",
        "colab": {
          "base_uri": "https://localhost:8080/",
          "height": 204
        },
        "outputId": "bf7beb5c-7541-4e37-c329-234ca9fdd777"
      },
      "source": [
        "X_train, X_val, y_train, y_val = reset()\n",
        "\n",
        "X_train = feature_engineer(X_train)\n",
        "\n",
        "# Encode our categoricals\n",
        "encoder = ce.OrdinalEncoder()\n",
        "X_train = encoder.fit_transform(X_train)\n",
        "\n",
        "xgb = XGBClassifier(n_jobs=-1, random_state=42)\n",
        "\n",
        "param_distributions = {} # Empty to get a quick baseline\n",
        "\n",
        "search = RandomizedSearchCV(forest, param_distributions=param_distributions,\n",
        "                            scoring='accuracy', n_iter=1, n_jobs=-1, cv=5,\n",
        "                            verbose=10, return_train_score=True, \n",
        "                            random_state=42)\n",
        "search.fit(X_train, y_train['status_group'])\n",
        "\n",
        "print('Training Accuracy Score:', search.best_score_)"
      ],
      "execution_count": 55,
      "outputs": [
        {
          "output_type": "stream",
          "text": [
            "Fitting 5 folds for each of 1 candidates, totalling 5 fits\n"
          ],
          "name": "stdout"
        },
        {
          "output_type": "stream",
          "text": [
            "[Parallel(n_jobs=-1)]: Using backend LokyBackend with 2 concurrent workers.\n",
            "[Parallel(n_jobs=-1)]: Done   1 tasks      | elapsed:    3.5s\n",
            "[Parallel(n_jobs=-1)]: Done   3 out of   5 | elapsed:    5.4s remaining:    3.6s\n",
            "[Parallel(n_jobs=-1)]: Done   5 out of   5 | elapsed:    6.6s remaining:    0.0s\n",
            "[Parallel(n_jobs=-1)]: Done   5 out of   5 | elapsed:    6.6s finished\n",
            "/usr/local/lib/python3.6/dist-packages/sklearn/ensemble/forest.py:245: FutureWarning: The default value of n_estimators will change from 10 in version 0.20 to 100 in 0.22.\n",
            "  \"10 in version 0.20 to 100 in 0.22.\", FutureWarning)\n"
          ],
          "name": "stderr"
        },
        {
          "output_type": "stream",
          "text": [
            "Training Accuracy Score: 0.788510101010101\n"
          ],
          "name": "stdout"
        }
      ]
    },
    {
      "cell_type": "markdown",
      "metadata": {
        "id": "nefyxTKCPzZc",
        "colab_type": "text"
      },
      "source": [
        "# Conclusions\n"
      ]
    }
  ]
}